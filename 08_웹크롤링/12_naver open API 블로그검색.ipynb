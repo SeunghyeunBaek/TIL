{
 "cells": [
  {
   "cell_type": "markdown",
   "metadata": {
    "toc": true
   },
   "source": [
    "<h1>Table of Contents<span class=\"tocSkip\"></span></h1>\n",
    "<div class=\"toc\"><ul class=\"toc-item\"><li><span><a href=\"#OPEN-API\" data-toc-modified-id=\"OPEN-API-1\"><span class=\"toc-item-num\">1&nbsp;&nbsp;</span>OPEN API</a></span></li><li><span><a href=\"#functions\" data-toc-modified-id=\"functions-2\"><span class=\"toc-item-num\">2&nbsp;&nbsp;</span>functions</a></span></li></ul></div>"
   ]
  },
  {
   "cell_type": "markdown",
   "metadata": {},
   "source": [
    "# OPEN API\n",
    "- 데이터를 공개하는 서비스\n",
    "- 대부분 무료로 제공되나, 사용량에 따라 유로가 될 수 있다.\n",
    "- XML, JSON 양식으로 제공되며, Web 으로 요청할 수 있다.\n",
    "\n",
    "\n",
    "- 사용방법\n",
    "    - 1. open api 서비스를 찾는다.(국토부, 통계청, 지자체, Naver..)\n",
    "    - 2. 요청할 주소를 확인한다.\n",
    "    - 3. 요청할 때 서버로 보낼 데이터를 확인한다.(Parameters,Header)\n",
    "    - 4. 응답결과 양식을 확인한다.(xml,json)\n",
    "    - 5. postman으로 테스트한다."
   ]
  },
  {
   "cell_type": "code",
   "execution_count": 11,
   "metadata": {
    "ExecuteTime": {
     "end_time": "2019-03-25T06:28:05.589060Z",
     "start_time": "2019-03-25T06:28:05.585088Z"
    }
   },
   "outputs": [],
   "source": [
    "import requests\n",
    "import bs4\n",
    "import pandas as pd\n",
    "import re\n",
    "import time"
   ]
  },
  {
   "cell_type": "code",
   "execution_count": 16,
   "metadata": {
    "ExecuteTime": {
     "end_time": "2019-03-25T06:34:34.464334Z",
     "start_time": "2019-03-25T06:34:15.982699Z"
    }
   },
   "outputs": [
    {
     "name": "stdout",
     "output_type": "stream",
     "text": [
      "검색어를 입력해주세요 : 멀티캠퍼스\n",
      "1~101/45627\n",
      "101~201/45627\n",
      "201~301/45627\n",
      "301~401/45627\n",
      "401~501/45627\n",
      "501~601/45627\n",
      "601~701/45627\n",
      "701~801/45627\n",
      "801~901/45627\n",
      "901~1001/45627\n",
      "1000~1100/45627\n"
     ]
    }
   ],
   "source": [
    "chk = False\n",
    "start = 1\n",
    "display = 100\n",
    "\n",
    "# 검색어를 가져온다.\n",
    "keyword = getKeyword()\n",
    "\n",
    "while True :\n",
    "    soup = connectionSite(keyword,start,display)\n",
    "    total = getData(soup)\n",
    "    \n",
    "    print(f'{start}~{start+100}/{total}')\n",
    "\n",
    "    # 검색결과가 더 있는지 확인\n",
    "    start = start+100\n",
    "    if start >= total:\n",
    "        break\n",
    "    elif start == 1001:\n",
    "        start = 1000\n",
    "    elif start == 1100:\n",
    "        break"
   ]
  },
  {
   "cell_type": "markdown",
   "metadata": {},
   "source": [
    "# functions"
   ]
  },
  {
   "cell_type": "code",
   "execution_count": 7,
   "metadata": {
    "ExecuteTime": {
     "end_time": "2019-03-25T06:28:01.092093Z",
     "start_time": "2019-03-25T06:28:01.088099Z"
    }
   },
   "outputs": [],
   "source": [
    "# 태그의 문자열에서 html 태그를 제고하고 반환\n",
    "def getText(tag,tag_name):\n",
    "    tmp = tag.select(tag_name)[0].text.strip()\n",
    "    tmp = re.sub('<.+?>','',tmp).strip() \n",
    "    return tmp"
   ]
  },
  {
   "cell_type": "code",
   "execution_count": 8,
   "metadata": {
    "ExecuteTime": {
     "end_time": "2019-03-25T06:28:01.231714Z",
     "start_time": "2019-03-25T06:28:01.227752Z"
    }
   },
   "outputs": [],
   "source": [
    "def getKeyword():\n",
    "    keyword = input('검색어를 입력해주세요 : ')\n",
    "    return keyword"
   ]
  },
  {
   "cell_type": "code",
   "execution_count": 9,
   "metadata": {
    "ExecuteTime": {
     "end_time": "2019-03-25T06:28:01.379318Z",
     "start_time": "2019-03-25T06:28:01.373335Z"
    }
   },
   "outputs": [],
   "source": [
    "def connectionSite(Keyword,start,display):\n",
    "    #요청할 URL\n",
    "    url =  'https://openapi.naver.com/v1/search/blog.xml'\n",
    "    \n",
    "    #parameters\n",
    "    params = {\n",
    "        'query': Keyword,\n",
    "        'start' : start,\n",
    "        'display' : display\n",
    "    }\n",
    "\n",
    "    #헤더정보\n",
    "    headers = {\n",
    "        'X-Naver-Client-Id':'IS3OiCTNiOI4ohZPsBRx',\n",
    "        'X-Naver-Client-Secret':'Nxmj3sNiJZ'\n",
    "    }\n",
    "\n",
    "    #요청\n",
    "    res = requests.get(url,params = params, headers = headers)\n",
    "    soup=bs4.BeautifulSoup(res.text,'lxml')\n",
    "    \n",
    "    return soup"
   ]
  },
  {
   "cell_type": "code",
   "execution_count": 10,
   "metadata": {
    "ExecuteTime": {
     "end_time": "2019-03-25T06:28:01.505982Z",
     "start_time": "2019-03-25T06:28:01.494044Z"
    }
   },
   "outputs": [],
   "source": [
    "def getData(soup):\n",
    "    \n",
    "    # data frame을 저장했는지 여부를 확인\n",
    "    global chk\n",
    "\n",
    "    #item 태그를 가져온다.\n",
    "    item_list  = soup.select('item')\n",
    "    for item in item_list:\n",
    "        title_str = getText(item,'title')\n",
    "        desc_str = getText(item,'description')\n",
    "        bloggername_str = getText(item,'bloggername')\n",
    "        bloggerlink_str = getText(item,'bloggerlink')\n",
    "        link_str = list(item.children)[2].strip()\n",
    "        date_str = getText(item,'postdate')\n",
    "        #print(f'title : {title_str} \\n desc : {desc_str} \\n blogger name : {bloggername_str} \\n blogger link : {bloggerlink_str} \\n link : {link_str}')\n",
    "        #print('-'*100)\n",
    "\n",
    "        data_dic = {\n",
    "            'title':[title_str],\n",
    "            'decription':[desc_str],\n",
    "            'bloggername':[bloggername_str],\n",
    "            'bloggerlink':[bloggerlink_str],\n",
    "            'link':[link_str],\n",
    "            'postdate':[date_str]\n",
    "        }\n",
    "        df = pd.DataFrame(data_dic)\n",
    "\n",
    "        if chk == False:\n",
    "            chk = True\n",
    "            df.to_csv(f'{keyword}.csv',index = False, encoding = 'utf-8-sig')\n",
    "        else :\n",
    "            df.to_csv(f'{keyword}.csv',index = False, encoding = 'utf-8-sig', mode = 'a',header = False)\n",
    "\n",
    "        #total \n",
    "        total_str = soup.select('total')[0].text.strip()\n",
    "        \n",
    "    return int(total_str)"
   ]
  },
  {
   "cell_type": "code",
   "execution_count": null,
   "metadata": {},
   "outputs": [],
   "source": []
  },
  {
   "cell_type": "code",
   "execution_count": null,
   "metadata": {},
   "outputs": [],
   "source": []
  }
 ],
 "metadata": {
  "kernelspec": {
   "display_name": "Python 3",
   "language": "python",
   "name": "python3"
  },
  "language_info": {
   "codemirror_mode": {
    "name": "ipython",
    "version": 3
   },
   "file_extension": ".py",
   "mimetype": "text/x-python",
   "name": "python",
   "nbconvert_exporter": "python",
   "pygments_lexer": "ipython3",
   "version": "3.7.0"
  },
  "toc": {
   "base_numbering": 1,
   "nav_menu": {},
   "number_sections": true,
   "sideBar": true,
   "skip_h1_title": false,
   "title_cell": "Table of Contents",
   "title_sidebar": "Contents",
   "toc_cell": true,
   "toc_position": {},
   "toc_section_display": true,
   "toc_window_display": true
  },
  "varInspector": {
   "cols": {
    "lenName": 16,
    "lenType": 16,
    "lenVar": 40
   },
   "kernels_config": {
    "python": {
     "delete_cmd_postfix": "",
     "delete_cmd_prefix": "del ",
     "library": "var_list.py",
     "varRefreshCmd": "print(var_dic_list())"
    },
    "r": {
     "delete_cmd_postfix": ") ",
     "delete_cmd_prefix": "rm(",
     "library": "var_list.r",
     "varRefreshCmd": "cat(var_dic_list()) "
    }
   },
   "types_to_exclude": [
    "module",
    "function",
    "builtin_function_or_method",
    "instance",
    "_Feature"
   ],
   "window_display": false
  }
 },
 "nbformat": 4,
 "nbformat_minor": 2
}
