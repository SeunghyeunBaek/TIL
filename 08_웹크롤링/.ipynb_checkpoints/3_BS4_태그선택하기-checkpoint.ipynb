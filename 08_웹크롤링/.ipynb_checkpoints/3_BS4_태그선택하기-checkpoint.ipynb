{
 "cells": [
  {
   "cell_type": "markdown",
   "metadata": {},
   "source": [
    "# html 문서내 태그 선택"
   ]
  },
  {
   "cell_type": "code",
   "execution_count": 2,
   "metadata": {},
   "outputs": [],
   "source": [
    "import bs4"
   ]
  },
  {
   "cell_type": "markdown",
   "metadata": {},
   "source": [
    "### find_all : 조건에 맞는 태그를 모두 가져온다."
   ]
  },
  {
   "cell_type": "code",
   "execution_count": 35,
   "metadata": {},
   "outputs": [],
   "source": [
    "html = '''\n",
    "    <html>\n",
    "        <body>\n",
    "            <p class = 'a1'>p 태그 1</p>\n",
    "            <p class = 'a2'>p 태그 2</p>\n",
    "            <p class = 'a1 a2'>p 태그 3</p>\n",
    "            <ul>\n",
    "                <li class = 'a1'>항목 1</li>\n",
    "                <li class = 'a2'>항목 2</li>\n",
    "                <li class = 'a1 a2'>항목 3</li>\n",
    "            </ul>\n",
    "        </body>\n",
    "    </html>\n",
    "'''\n",
    "soup = bs4.BeautifulSoup(html, 'lxml')"
   ]
  },
  {
   "cell_type": "code",
   "execution_count": 36,
   "metadata": {},
   "outputs": [
    {
     "name": "stdout",
     "output_type": "stream",
     "text": [
      "[<p class=\"a1\">p 태그 1</p>, <p class=\"a2\">p 태그 2</p>, <p class=\"a1 a2\">p 태그 3</p>] \n",
      " [<li class=\"a1\">항목 1</li>, <li class=\"a2\">항목 2</li>, <li class=\"a1 a2\">항목 3</li>]\n"
     ]
    }
   ],
   "source": [
    "#p 태그 모두 가져오기\n",
    "p_list = soup.find_all('p')\n",
    "#li 태그 모두 가져오기\n",
    "li_list = soup.find_all('li')\n",
    "print(p_list,'\\n',li_list)"
   ]
  },
  {
   "cell_type": "code",
   "execution_count": 37,
   "metadata": {},
   "outputs": [
    {
     "name": "stdout",
     "output_type": "stream",
     "text": [
      "p 태그 1\n",
      "p 태그 2\n",
      "p 태그 3\n",
      "항목 1\n",
      "항목 2\n",
      "항목 3\n"
     ]
    }
   ],
   "source": [
    "for p_tag in p_list:\n",
    "    print(p_tag.text)\n",
    "for li_tag in li_list:\n",
    "    print(li_tag.text)"
   ]
  },
  {
   "cell_type": "code",
   "execution_count": 38,
   "metadata": {},
   "outputs": [
    {
     "name": "stdout",
     "output_type": "stream",
     "text": [
      "[<p class=\"a1\">p 태그 1</p>, <p class=\"a1 a2\">p 태그 3</p>]\n",
      "[<p class=\"a2\">p 태그 2</p>, <p class=\"a1 a2\">p 태그 3</p>]\n"
     ]
    }
   ],
   "source": [
    "# css(cascade style sheet)\n",
    "# 같은 css class를 복수의 태그에 적용했을 수도 있다. 이에 원하지 않은 태그도 가져올 수 있다.\n",
    "\n",
    "# p_tage 중 class가 a1 인 태그를 가져온다.\n",
    "p_list_a1 = soup.find_all('p',class_ = 'a1')\n",
    "print(p_list_a1)\n",
    "# p_tage 중 class가 a2 인 태그를 가져온다.\n",
    "# find_all 인자 는 1:tag, 2:class_\n",
    "p_list_a2 = soup.find_all('p','a2')\n",
    "print(p_list_a2)"
   ]
  },
  {
   "cell_type": "code",
   "execution_count": 42,
   "metadata": {},
   "outputs": [
    {
     "name": "stdout",
     "output_type": "stream",
     "text": [
      "[<p class=\"a1\">p 태그 1</p>, <p class=\"a1 a2\">p 태그 3</p>, <li class=\"a1\">항목 1</li>, <li class=\"a1 a2\">항목 3</li>]\n",
      "[<p class=\"a2\">p 태그 2</p>, <p class=\"a1 a2\">p 태그 3</p>, <li class=\"a2\">항목 2</li>, <li class=\"a1 a2\">항목 3</li>]\n"
     ]
    }
   ],
   "source": [
    "# 태그에 관계없이 class 가 a1 인 태그 불러오기\n",
    "a1_list = soup.find_all(class_='a1')\n",
    "print(a1_list)\n",
    "\n",
    "# 태그에 관계없이 class 가 a2 인 태그 불러오기\n",
    "a1_list = soup.find_all(class_='a2')\n",
    "print(a1_list)"
   ]
  },
  {
   "cell_type": "markdown",
   "metadata": {},
   "source": [
    "### find\n",
    "- 조건에 맞는 태그 하나를 가져온다.\n",
    "- 조건에 맞는 태그가 여러개라면 제일 처음에 나온 태그를 가져온다"
   ]
  },
  {
   "cell_type": "code",
   "execution_count": 58,
   "metadata": {},
   "outputs": [],
   "source": [
    "html = '''\n",
    "    <html>\n",
    "        <body>\n",
    "            <p class = 'a1' id = 'test1'>p 태그 1</p>\n",
    "            <p class = 'a1'>p 태그 2</p>\n",
    "            <p class = 'a2'>p 태그 3</p>\n",
    "        <body>\n",
    "    </html>\n",
    "'''\n",
    "soup = bs4.BeautifulSoup(html,'lxml')"
   ]
  },
  {
   "cell_type": "code",
   "execution_count": 59,
   "metadata": {},
   "outputs": [
    {
     "name": "stdout",
     "output_type": "stream",
     "text": [
      "<p class=\"a1\" id=\"test1\">p 태그 1</p>\n",
      "<p class=\"a1\" id=\"test1\">p 태그 1</p>\n",
      "<p class=\"a2\">p 태그 3</p>\n"
     ]
    }
   ],
   "source": [
    "p_tag = soup.find('p')\n",
    "print(p_tag)\n",
    "a1 = soup.find(class_='a1')\n",
    "print(a1)\n",
    "a2 = soup.find(class_='a2')\n",
    "print(a2)"
   ]
  },
  {
   "cell_type": "code",
   "execution_count": 60,
   "metadata": {},
   "outputs": [
    {
     "name": "stdout",
     "output_type": "stream",
     "text": [
      "<p class=\"a1\" id=\"test1\">p 태그 1</p>\n"
     ]
    }
   ],
   "source": [
    "# html 문서 내 동일한 값을 가진 id 속성은 의미가 없다.\n",
    "id_test = soup.find(id = 'test1')\n",
    "print(id_test)"
   ]
  },
  {
   "cell_type": "markdown",
   "metadata": {},
   "source": [
    "### select\n",
    "- html에서 사용하는 selector 문법을 이용해 태그를 지칭하는 함수\n",
    "    - 태그이름 : '태그이름'\n",
    "    - class 속성 : '.class속성'\n",
    "    - id 속성 : '#id속성'"
   ]
  },
  {
   "cell_type": "code",
   "execution_count": 71,
   "metadata": {},
   "outputs": [],
   "source": [
    "html = '''\n",
    "    <html>\n",
    "        <body>\n",
    "            <p class = 'a1' id = 'test1'>p 태그 1</p>\n",
    "            <p class = 'a2'>p 태그 2</p>\n",
    "            <p class = 'a1 a2'>p 태그 3</p>\n",
    "        <body>\n",
    "    </html>\n",
    "'''\n",
    "soup = bs4.BeautifulSoup(html,'lxml')"
   ]
  },
  {
   "cell_type": "code",
   "execution_count": 73,
   "metadata": {},
   "outputs": [
    {
     "name": "stdout",
     "output_type": "stream",
     "text": [
      "[<p class=\"a1\" id=\"test1\">p 태그 1</p>, <p class=\"a2\">p 태그 2</p>, <p class=\"a1 a2\">p 태그 3</p>] \n",
      " [<p class=\"a1\" id=\"test1\">p 태그 1</p>, <p class=\"a1 a2\">p 태그 3</p>] \n",
      " [<p class=\"a1\" id=\"test1\">p 태그 1</p>] \n",
      " [<p class=\"a1\" id=\"test1\">p 태그 1</p>, <p class=\"a1 a2\">p 태그 3</p>]\n"
     ]
    }
   ],
   "source": [
    "p_list = soup.select('p')\n",
    "a1_list = soup.select('.a1')\n",
    "test1_list = soup.select('#test1')\n",
    "p_a1_list = soup.select('p.a1')\n",
    "print(p_list,'\\n',a1_list,'\\n',test1_list,'\\n',p_a1_list)"
   ]
  },
  {
   "cell_type": "code",
   "execution_count": null,
   "metadata": {},
   "outputs": [],
   "source": []
  }
 ],
 "metadata": {
  "kernelspec": {
   "display_name": "Python 3",
   "language": "python",
   "name": "python3"
  },
  "language_info": {
   "codemirror_mode": {
    "name": "ipython",
    "version": 3
   },
   "file_extension": ".py",
   "mimetype": "text/x-python",
   "name": "python",
   "nbconvert_exporter": "python",
   "pygments_lexer": "ipython3",
   "version": "3.7.0"
  }
 },
 "nbformat": 4,
 "nbformat_minor": 2
}
