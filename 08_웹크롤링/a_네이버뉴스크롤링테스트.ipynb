{
 "cells": [
  {
   "cell_type": "markdown",
   "metadata": {
    "toc": true
   },
   "source": [
    "<h1>Table of Contents<span class=\"tocSkip\"></span></h1>\n",
    "<div class=\"toc\"><ul class=\"toc-item\"></ul></div>"
   ]
  },
  {
   "cell_type": "markdown",
   "metadata": {},
   "source": [
    "- https://news.naver.com/\n",
    "- 이시각 주요 뉴스 제목과 링크"
   ]
  },
  {
   "cell_type": "code",
   "execution_count": 3,
   "metadata": {},
   "outputs": [],
   "source": [
    "import requests\n",
    "import bs4\n",
    "import pandas as pd"
   ]
  },
  {
   "cell_type": "code",
   "execution_count": 4,
   "metadata": {},
   "outputs": [],
   "source": [
    "url = 'https://news.naver.com/'\n",
    "soup = getRequest(url)"
   ]
  },
  {
   "cell_type": "code",
   "execution_count": 22,
   "metadata": {},
   "outputs": [],
   "source": [
    "def getData(soup):\n",
    "    \n",
    "    title = []\n",
    "    href = []\n",
    "    a = soup.select('#text_today_main_news_801001 a')\n",
    "    \n",
    "    for i in a:\n",
    "        title.append(i.select('strong')[0].text.strip())\n",
    "        href.append(i.attrs['href'])\n",
    "    return list(zip(title,href))"
   ]
  },
  {
   "cell_type": "code",
   "execution_count": 14,
   "metadata": {},
   "outputs": [],
   "source": [
    "def getRequest(url):\n",
    "    return bs4.BeautifulSoup(requests.get(url).text,'lxml')"
   ]
  },
  {
   "cell_type": "code",
   "execution_count": 26,
   "metadata": {},
   "outputs": [
    {
     "data": {
      "text/html": [
       "<div>\n",
       "<style scoped>\n",
       "    .dataframe tbody tr th:only-of-type {\n",
       "        vertical-align: middle;\n",
       "    }\n",
       "\n",
       "    .dataframe tbody tr th {\n",
       "        vertical-align: top;\n",
       "    }\n",
       "\n",
       "    .dataframe thead th {\n",
       "        text-align: right;\n",
       "    }\n",
       "</style>\n",
       "<table border=\"1\" class=\"dataframe\">\n",
       "  <thead>\n",
       "    <tr style=\"text-align: right;\">\n",
       "      <th></th>\n",
       "      <th>제목</th>\n",
       "      <th>url</th>\n",
       "    </tr>\n",
       "  </thead>\n",
       "  <tbody>\n",
       "    <tr>\n",
       "      <th>0</th>\n",
       "      <td>정부가 추진한 포항 지열발전소…지진 손해배상 책임질까</td>\n",
       "      <td>https://news.naver.com/main/read.nhn?oid=001&amp;s...</td>\n",
       "    </tr>\n",
       "    <tr>\n",
       "      <th>1</th>\n",
       "      <td>바른미래, 패스트트랙 '내부 충돌'…갈등은 그대로</td>\n",
       "      <td>https://news.naver.com/main/read.nhn?oid=018&amp;s...</td>\n",
       "    </tr>\n",
       "    <tr>\n",
       "      <th>2</th>\n",
       "      <td>靑, 경제부총리 정례보고 이례적 공개…경제활력 제고 '안간힘'</td>\n",
       "      <td>https://news.naver.com/main/read.nhn?oid=001&amp;s...</td>\n",
       "    </tr>\n",
       "    <tr>\n",
       "      <th>3</th>\n",
       "      <td>코스피 '찔끔' 하락…2,170대 약보합</td>\n",
       "      <td>https://news.naver.com/main/read.nhn?oid=001&amp;s...</td>\n",
       "    </tr>\n",
       "    <tr>\n",
       "      <th>4</th>\n",
       "      <td>비 전국 확대…퇴근길 우산 필수</td>\n",
       "      <td>https://news.naver.com/main/read.nhn?oid=003&amp;s...</td>\n",
       "    </tr>\n",
       "  </tbody>\n",
       "</table>\n",
       "</div>"
      ],
      "text/plain": [
       "                                   제목  \\\n",
       "0       정부가 추진한 포항 지열발전소…지진 손해배상 책임질까   \n",
       "1         바른미래, 패스트트랙 '내부 충돌'…갈등은 그대로   \n",
       "2  靑, 경제부총리 정례보고 이례적 공개…경제활력 제고 '안간힘'   \n",
       "3              코스피 '찔끔' 하락…2,170대 약보합   \n",
       "4                   비 전국 확대…퇴근길 우산 필수   \n",
       "\n",
       "                                                 url  \n",
       "0  https://news.naver.com/main/read.nhn?oid=001&s...  \n",
       "1  https://news.naver.com/main/read.nhn?oid=018&s...  \n",
       "2  https://news.naver.com/main/read.nhn?oid=001&s...  \n",
       "3  https://news.naver.com/main/read.nhn?oid=001&s...  \n",
       "4  https://news.naver.com/main/read.nhn?oid=003&s...  "
      ]
     },
     "execution_count": 26,
     "metadata": {},
     "output_type": "execute_result"
    }
   ],
   "source": [
    "pd.DataFrame(getData(soup),columns=['제목','url'])"
   ]
  },
  {
   "cell_type": "code",
   "execution_count": null,
   "metadata": {},
   "outputs": [],
   "source": []
  }
 ],
 "metadata": {
  "kernelspec": {
   "display_name": "Python 3",
   "language": "python",
   "name": "python3"
  },
  "language_info": {
   "codemirror_mode": {
    "name": "ipython",
    "version": 3
   },
   "file_extension": ".py",
   "mimetype": "text/x-python",
   "name": "python",
   "nbconvert_exporter": "python",
   "pygments_lexer": "ipython3",
   "version": "3.7.0"
  },
  "toc": {
   "base_numbering": 1,
   "nav_menu": {},
   "number_sections": true,
   "sideBar": true,
   "skip_h1_title": true,
   "title_cell": "Table of Contents",
   "title_sidebar": "Contents",
   "toc_cell": true,
   "toc_position": {},
   "toc_section_display": true,
   "toc_window_display": true
  },
  "varInspector": {
   "cols": {
    "lenName": 16,
    "lenType": 16,
    "lenVar": 40
   },
   "kernels_config": {
    "python": {
     "delete_cmd_postfix": "",
     "delete_cmd_prefix": "del ",
     "library": "var_list.py",
     "varRefreshCmd": "print(var_dic_list())"
    },
    "r": {
     "delete_cmd_postfix": ") ",
     "delete_cmd_prefix": "rm(",
     "library": "var_list.r",
     "varRefreshCmd": "cat(var_dic_list()) "
    }
   },
   "types_to_exclude": [
    "module",
    "function",
    "builtin_function_or_method",
    "instance",
    "_Feature"
   ],
   "window_display": false
  }
 },
 "nbformat": 4,
 "nbformat_minor": 2
}
