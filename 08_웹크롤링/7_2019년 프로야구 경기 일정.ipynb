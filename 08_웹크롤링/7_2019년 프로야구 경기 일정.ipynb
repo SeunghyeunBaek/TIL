{
 "cells": [
  {
   "cell_type": "markdown",
   "metadata": {
    "toc": true
   },
   "source": [
    "<h1>Table of Contents<span class=\"tocSkip\"></span></h1>\n",
    "<div class=\"toc\"><ul class=\"toc-item\"><li><ul class=\"toc-item\"><li><ul class=\"toc-item\"><li><span><a href=\"#웹-애플리케이션이-Ajax-통신을-이용하는-경우\" data-toc-modified-id=\"웹-애플리케이션이-Ajax-통신을-이용하는-경우-0.0.1\"><span class=\"toc-item-num\">0.0.1&nbsp;&nbsp;</span>웹 애플리케이션이 Ajax 통신을 이용하는 경우</a></span></li></ul></li></ul></li><li><span><a href=\"#Functions\" data-toc-modified-id=\"Functions-1\"><span class=\"toc-item-num\">1&nbsp;&nbsp;</span>Functions</a></span></li></ul></div>"
   ]
  },
  {
   "cell_type": "markdown",
   "metadata": {},
   "source": [
    "### 웹 애플리케이션이 Ajax 통신을 이용하는 경우\n",
    "\n",
    "웹 브라우저가 직접 서버에 요청하게 되면 수신받은 응답결과를 브라우저가 직접 처리하려고 한다.\n",
    "\n",
    "이 때문에 화면이 변경되는 일이 발생하게 된다. \n",
    "\n",
    "만약 개발자가 화면 변경 없이 서버와 통신하고자 한다면(아이디 중복확인 등) Ajax통신을 사용하여 백그라운드에서 통신할 수 있으며 브라우저의 화면은 변경되지 않는다\n",
    "\n",
    "1. 우클릭시 프레임 소스보기가 없는가.\n",
    "2. 페이지 소스보기했을 때 데이터가 없는가.\n",
    "3. 크롬의 개발자 도구에서 Network 탭의 XHR 영역에서 페이지를\n",
    "   이용할 때 마다 통신 기록이 남는가.\n",
    "   \n",
    "만약 위의 조건이 맞는다면 Ajax를 사용하고 있는 것이고 XHR에 나오는 통신 기록이 요청할 주소가 된다."
   ]
  },
  {
   "cell_type": "code",
   "execution_count": 59,
   "metadata": {
    "ExecuteTime": {
     "end_time": "2019-03-22T01:49:56.824410Z",
     "start_time": "2019-03-22T01:49:56.819276Z"
    }
   },
   "outputs": [],
   "source": [
    "import requests\n",
    "import bs4\n",
    "import pandas as pd\n",
    "import time\n",
    "import pickle\n",
    "\n",
    "# 한번이라도 저장한적이 있는지..\n",
    "global chk\n",
    "chk = False"
   ]
  },
  {
   "cell_type": "markdown",
   "metadata": {},
   "source": [
    "# Functions"
   ]
  },
  {
   "cell_type": "code",
   "execution_count": 60,
   "metadata": {
    "ExecuteTime": {
     "end_time": "2019-03-22T01:49:57.082644Z",
     "start_time": "2019-03-22T01:49:57.076588Z"
    }
   },
   "outputs": [],
   "source": [
    "# 날짜를 입력받아 그 주의 월요일 부터 일요일까지의 날짜\n",
    "# 다음 주의 날짜를 반환하는 함수\n",
    "def getDate(date) :\n",
    "    url = f'https://sports.news.naver.com/schedule/scoreBoard.nhn?date={date}&category=kbo'\n",
    "    \n",
    "    response = requests.get(url)\n",
    "    soup = bs4.BeautifulSoup(response.text, 'lxml')\n",
    "    # print(soup)\n",
    "    # li 태그들을 가져온다.\n",
    "    li_list = soup.select('ul.tab > li')\n",
    "    # print(li_list)\n",
    "    \n",
    "    date_list = []\n",
    "    \n",
    "    # li 태그의 수 만큼 반복한다.\n",
    "    for idx, li_tag in enumerate(li_list) :\n",
    "        # 첫 번째 li 태그라면 그냥 넘어간다.\n",
    "        if idx == 0 :\n",
    "            continue\n",
    "        # a 태그를 추출한다.\n",
    "        a_tag = li_tag.select('a')[0]\n",
    "        # print(a_tag)\n",
    "        # onclick 속성의 값을 가져온다.\n",
    "        onclick = a_tag.attrs['onclick']\n",
    "        # print(onclick)\n",
    "        # 날짜 값을 가져온다.\n",
    "        date_value = onclick.split(\"'\")[1]\n",
    "        # print(date_value)\n",
    "        date_list.append(date_value)\n",
    "        \n",
    "    # print(date_list[-1])\n",
    "    # print(date_list[:-1])\n",
    "    return date_list[:-1], date_list[-1]\n",
    "    "
   ]
  },
  {
   "cell_type": "code",
   "execution_count": 69,
   "metadata": {
    "ExecuteTime": {
     "end_time": "2019-03-22T02:08:02.276205Z",
     "start_time": "2019-03-22T02:08:02.260224Z"
    }
   },
   "outputs": [],
   "source": [
    "# 해당 날짜의 프로야구 데이터를 반환하는 함수\n",
    "def getKBOData(now) :\n",
    "    url = f'https://sports.news.naver.com/schedule/scoreBoard.nhn?date={now}&category=kbo'\n",
    "    \n",
    "    # 오류 발생시를 대비해 요청 주소를 기록한다.\n",
    "    # 중간에 오류가나면 어디까지 진행됐는지 확인한다.\n",
    "    with open('KBOLog.txt','at') as fp:\n",
    "        fp.write(url)\n",
    "        fp.write('\\n')\n",
    "    \n",
    "    response = requests.get(url)\n",
    "    soup = bs4.BeautifulSoup(response.text, 'lxml')\n",
    "    \n",
    "    # 해당 날짜의 경기 데이터를 가지고 있는 ul 태그를 추출한다.    \n",
    "    todaySchedule = soup.select('#todaySchedule')\n",
    "    \n",
    "    if len(todaySchedule) > 0 :\n",
    "        # 내부의 모든 li 태그를 가져온다.\n",
    "        li_list = todaySchedule[0].select('li')\n",
    "        # li 태그 개수만큼 반복한다.\n",
    "        for li_tag in li_list :\n",
    "            # class 속성값을 가져온다.\n",
    "            class_value = li_tag.attrs['class']\n",
    "            # print(class_value)\n",
    "            \n",
    "            data_dic = {}\n",
    "            \n",
    "            if class_value[0] == 'end' :\n",
    "                data_dic['status'] = '경기종료'\n",
    "                data_dic['date'] = now\n",
    "                # 팀 데이터를 추출한다.\n",
    "                team_tag = li_tag.select('p.vs_team > strong')            \n",
    "                data_dic['home_team'] = team_tag[1].text.strip()\n",
    "                data_dic['away_team'] = team_tag[0].text.strip()\n",
    "                # 점수 데이터를 가져온다.\n",
    "                team_score = li_tag.select('strong.vs_num')\n",
    "                data_dic['home_score'] = team_score[1].text.strip()\n",
    "                data_dic['away_score'] = team_score[0].text.strip()\n",
    "                # 투수 이름을 가져온다.\n",
    "                team_pitcher = li_tag.select('span.game_info > a')\n",
    "                if len(team_pitcher) > 0 :\n",
    "                    data_dic['home_pitcher'] = team_pitcher[1].text.strip()\n",
    "                    data_dic['away_pitcher'] = team_pitcher[0].text.strip()\n",
    "                else :\n",
    "                    data_dic['home_pitcher'] = '모름'\n",
    "                    data_dic['away_pitcher'] = '모름'\n",
    "\n",
    "            elif class_value[0] == 'before_game' :\n",
    "                data_dic['status'] = '경기종료'\n",
    "                data_dic['date'] = now\n",
    "                # 팀 데이터를 추출한다.\n",
    "                team_tag = li_tag.select('p.vs_team > strong')            \n",
    "                data_dic['home_team'] = team_tag[1].text.strip()\n",
    "                data_dic['away_team'] = team_tag[0].text.strip()\n",
    "                # 점수 데이터를 가져온다.\n",
    "                team_score = li_tag.select('strong.vs_num')\n",
    "                data_dic['home_score'] = -1\n",
    "                data_dic['away_score'] = -1\n",
    "                # 투수 이름을 가져온다.\n",
    "                data_dic['home_pitcher'] = '모름'\n",
    "                data_dic['away_pitcher'] = '모름'\n",
    "            df = pd.DataFrame(data_dic,index = [0])\n",
    "            \n",
    "            global chk\n",
    "            \n",
    "            if chk == False:\n",
    "                chk = True\n",
    "                df.to_csv(r'KBO.csv',index = False,encoding = 'utf-8-sig')\n",
    "            else :\n",
    "                df.to_csv(r'KBO.csv',index = False,encoding = 'utf-8-sig',header = False, mode = 'a') "
   ]
  },
  {
   "cell_type": "code",
   "execution_count": 71,
   "metadata": {
    "ExecuteTime": {
     "end_time": "2019-03-22T02:28:10.843206Z",
     "start_time": "2019-03-22T02:27:22.228205Z"
    },
    "scrolled": true
   },
   "outputs": [
    {
     "name": "stdout",
     "output_type": "stream",
     "text": [
      "20190311 수집완료\n",
      "20190312 수집완료\n",
      "20190313 수집완료\n",
      "20190314 수집완료\n",
      "20190315 수집완료\n",
      "20190316 수집완료\n",
      "20190317 수집완료\n",
      "20190311 수집완료\n",
      "20190312 수집완료\n",
      "20190313 수집완료\n",
      "20190314 수집완료\n",
      "20190315 수집완료\n",
      "20190316 수집완료\n",
      "20190317 수집완료\n",
      "20190311 수집완료\n",
      "20190312 수집완료\n",
      "20190313 수집완료\n",
      "20190314 수집완료\n",
      "20190315 수집완료\n",
      "20190316 수집완료\n",
      "20190317 수집완료\n",
      "20190311 수집완료\n",
      "20190312 수집완료\n",
      "20190313 수집완료\n",
      "20190314 수집완료\n",
      "20190315 수집완료\n",
      "20190316 수집완료\n",
      "20190317 수집완료\n",
      "20190311 수집완료\n",
      "20190312 수집완료\n",
      "20190313 수집완료\n",
      "20190314 수집완료\n",
      "20190315 수집완료\n",
      "20190316 수집완료\n",
      "20190317 수집완료\n",
      "20190311 수집완료\n",
      "20190312 수집완료\n",
      "20190313 수집완료\n",
      "20190314 수집완료\n",
      "20190315 수집완료\n",
      "20190316 수집완료\n",
      "20190317 수집완료\n",
      "20190311 수집완료\n",
      "20190312 수집완료\n",
      "20190313 수집완료\n",
      "20190314 수집완료\n",
      "20190315 수집완료\n",
      "20190316 수집완료\n",
      "20190317 수집완료\n",
      "20190311 수집완료\n",
      "20190312 수집완료\n",
      "20190313 수집완료\n",
      "20190314 수집완료\n",
      "20190315 수집완료\n",
      "20190316 수집완료\n",
      "20190317 수집완료\n",
      "20190311 수집완료\n",
      "20190312 수집완료\n",
      "20190313 수집완료\n",
      "20190314 수집완료\n",
      "20190315 수집완료\n",
      "20190316 수집완료\n",
      "20190317 수집완료\n",
      "20190311 수집완료\n",
      "20190312 수집완료\n",
      "20190313 수집완료\n",
      "20190314 수집완료\n",
      "20190315 수집완료\n",
      "20190316 수집완료\n",
      "20190317 수집완료\n",
      "20190311 수집완료\n",
      "20190312 수집완료\n",
      "20190313 수집완료\n",
      "20190314 수집완료\n",
      "20190315 수집완료\n"
     ]
    },
    {
     "ename": "KeyboardInterrupt",
     "evalue": "",
     "output_type": "error",
     "traceback": [
      "\u001b[1;31m---------------------------------------------------------------------------\u001b[0m",
      "\u001b[1;31mKeyboardInterrupt\u001b[0m                         Traceback (most recent call last)",
      "\u001b[1;32m<ipython-input-71-bc4a3ed72959>\u001b[0m in \u001b[0;36m<module>\u001b[1;34m\u001b[0m\n\u001b[0;32m     10\u001b[0m     \u001b[1;32mfor\u001b[0m \u001b[0mnow\u001b[0m \u001b[1;32min\u001b[0m \u001b[0mdate_list\u001b[0m \u001b[1;33m:\u001b[0m\u001b[1;33m\u001b[0m\u001b[0m\n\u001b[0;32m     11\u001b[0m         \u001b[0mtime\u001b[0m\u001b[1;33m.\u001b[0m\u001b[0msleep\u001b[0m\u001b[1;33m(\u001b[0m\u001b[1;36m0.5\u001b[0m\u001b[1;33m)\u001b[0m\u001b[1;33m\u001b[0m\u001b[0m\n\u001b[1;32m---> 12\u001b[1;33m         \u001b[0mgetKBOData\u001b[0m\u001b[1;33m(\u001b[0m\u001b[0mnow\u001b[0m\u001b[1;33m)\u001b[0m\u001b[1;33m\u001b[0m\u001b[0m\n\u001b[0m\u001b[0;32m     13\u001b[0m         \u001b[0mprint\u001b[0m\u001b[1;33m(\u001b[0m\u001b[1;34mf'{now} 수집완료'\u001b[0m\u001b[1;33m)\u001b[0m\u001b[1;33m\u001b[0m\u001b[0m\n\u001b[0;32m     14\u001b[0m \u001b[1;33m\u001b[0m\u001b[0m\n",
      "\u001b[1;32m<ipython-input-69-f126c1446bd2>\u001b[0m in \u001b[0;36mgetKBOData\u001b[1;34m(now)\u001b[0m\n\u001b[0;32m     60\u001b[0m                 \u001b[0mdata_dic\u001b[0m\u001b[1;33m[\u001b[0m\u001b[1;34m'home_pitcher'\u001b[0m\u001b[1;33m]\u001b[0m \u001b[1;33m=\u001b[0m \u001b[1;34m'모름'\u001b[0m\u001b[1;33m\u001b[0m\u001b[0m\n\u001b[0;32m     61\u001b[0m                 \u001b[0mdata_dic\u001b[0m\u001b[1;33m[\u001b[0m\u001b[1;34m'away_pitcher'\u001b[0m\u001b[1;33m]\u001b[0m \u001b[1;33m=\u001b[0m \u001b[1;34m'모름'\u001b[0m\u001b[1;33m\u001b[0m\u001b[0m\n\u001b[1;32m---> 62\u001b[1;33m             \u001b[0mdf\u001b[0m \u001b[1;33m=\u001b[0m \u001b[0mpd\u001b[0m\u001b[1;33m.\u001b[0m\u001b[0mDataFrame\u001b[0m\u001b[1;33m(\u001b[0m\u001b[0mdata_dic\u001b[0m\u001b[1;33m,\u001b[0m\u001b[0mindex\u001b[0m \u001b[1;33m=\u001b[0m \u001b[1;33m[\u001b[0m\u001b[1;36m0\u001b[0m\u001b[1;33m]\u001b[0m\u001b[1;33m)\u001b[0m\u001b[1;33m\u001b[0m\u001b[0m\n\u001b[0m\u001b[0;32m     63\u001b[0m \u001b[1;33m\u001b[0m\u001b[0m\n\u001b[0;32m     64\u001b[0m             \u001b[1;32mglobal\u001b[0m \u001b[0mchk\u001b[0m\u001b[1;33m\u001b[0m\u001b[0m\n",
      "\u001b[1;32md:\\pl\\python\\python37\\lib\\site-packages\\pandas\\core\\frame.py\u001b[0m in \u001b[0;36m__init__\u001b[1;34m(self, data, index, columns, dtype, copy)\u001b[0m\n\u001b[0;32m    390\u001b[0m                                  dtype=dtype, copy=copy)\n\u001b[0;32m    391\u001b[0m         \u001b[1;32melif\u001b[0m \u001b[0misinstance\u001b[0m\u001b[1;33m(\u001b[0m\u001b[0mdata\u001b[0m\u001b[1;33m,\u001b[0m \u001b[0mdict\u001b[0m\u001b[1;33m)\u001b[0m\u001b[1;33m:\u001b[0m\u001b[1;33m\u001b[0m\u001b[0m\n\u001b[1;32m--> 392\u001b[1;33m             \u001b[0mmgr\u001b[0m \u001b[1;33m=\u001b[0m \u001b[0minit_dict\u001b[0m\u001b[1;33m(\u001b[0m\u001b[0mdata\u001b[0m\u001b[1;33m,\u001b[0m \u001b[0mindex\u001b[0m\u001b[1;33m,\u001b[0m \u001b[0mcolumns\u001b[0m\u001b[1;33m,\u001b[0m \u001b[0mdtype\u001b[0m\u001b[1;33m=\u001b[0m\u001b[0mdtype\u001b[0m\u001b[1;33m)\u001b[0m\u001b[1;33m\u001b[0m\u001b[0m\n\u001b[0m\u001b[0;32m    393\u001b[0m         \u001b[1;32melif\u001b[0m \u001b[0misinstance\u001b[0m\u001b[1;33m(\u001b[0m\u001b[0mdata\u001b[0m\u001b[1;33m,\u001b[0m \u001b[0mma\u001b[0m\u001b[1;33m.\u001b[0m\u001b[0mMaskedArray\u001b[0m\u001b[1;33m)\u001b[0m\u001b[1;33m:\u001b[0m\u001b[1;33m\u001b[0m\u001b[0m\n\u001b[0;32m    394\u001b[0m             \u001b[1;32mimport\u001b[0m \u001b[0mnumpy\u001b[0m\u001b[1;33m.\u001b[0m\u001b[0mma\u001b[0m\u001b[1;33m.\u001b[0m\u001b[0mmrecords\u001b[0m \u001b[1;32mas\u001b[0m \u001b[0mmrecords\u001b[0m\u001b[1;33m\u001b[0m\u001b[0m\n",
      "\u001b[1;32md:\\pl\\python\\python37\\lib\\site-packages\\pandas\\core\\internals\\construction.py\u001b[0m in \u001b[0;36minit_dict\u001b[1;34m(data, index, columns, dtype)\u001b[0m\n\u001b[0;32m    210\u001b[0m         \u001b[0marrays\u001b[0m \u001b[1;33m=\u001b[0m \u001b[1;33m[\u001b[0m\u001b[0mdata\u001b[0m\u001b[1;33m[\u001b[0m\u001b[0mk\u001b[0m\u001b[1;33m]\u001b[0m \u001b[1;32mfor\u001b[0m \u001b[0mk\u001b[0m \u001b[1;32min\u001b[0m \u001b[0mkeys\u001b[0m\u001b[1;33m]\u001b[0m\u001b[1;33m\u001b[0m\u001b[0m\n\u001b[0;32m    211\u001b[0m \u001b[1;33m\u001b[0m\u001b[0m\n\u001b[1;32m--> 212\u001b[1;33m     \u001b[1;32mreturn\u001b[0m \u001b[0marrays_to_mgr\u001b[0m\u001b[1;33m(\u001b[0m\u001b[0marrays\u001b[0m\u001b[1;33m,\u001b[0m \u001b[0mdata_names\u001b[0m\u001b[1;33m,\u001b[0m \u001b[0mindex\u001b[0m\u001b[1;33m,\u001b[0m \u001b[0mcolumns\u001b[0m\u001b[1;33m,\u001b[0m \u001b[0mdtype\u001b[0m\u001b[1;33m=\u001b[0m\u001b[0mdtype\u001b[0m\u001b[1;33m)\u001b[0m\u001b[1;33m\u001b[0m\u001b[0m\n\u001b[0m\u001b[0;32m    213\u001b[0m \u001b[1;33m\u001b[0m\u001b[0m\n\u001b[0;32m    214\u001b[0m \u001b[1;33m\u001b[0m\u001b[0m\n",
      "\u001b[1;32md:\\pl\\python\\python37\\lib\\site-packages\\pandas\\core\\internals\\construction.py\u001b[0m in \u001b[0;36marrays_to_mgr\u001b[1;34m(arrays, arr_names, index, columns, dtype)\u001b[0m\n\u001b[0;32m     51\u001b[0m         \u001b[0mindex\u001b[0m \u001b[1;33m=\u001b[0m \u001b[0mextract_index\u001b[0m\u001b[1;33m(\u001b[0m\u001b[0marrays\u001b[0m\u001b[1;33m)\u001b[0m\u001b[1;33m\u001b[0m\u001b[0m\n\u001b[0;32m     52\u001b[0m     \u001b[1;32melse\u001b[0m\u001b[1;33m:\u001b[0m\u001b[1;33m\u001b[0m\u001b[0m\n\u001b[1;32m---> 53\u001b[1;33m         \u001b[0mindex\u001b[0m \u001b[1;33m=\u001b[0m \u001b[0mensure_index\u001b[0m\u001b[1;33m(\u001b[0m\u001b[0mindex\u001b[0m\u001b[1;33m)\u001b[0m\u001b[1;33m\u001b[0m\u001b[0m\n\u001b[0m\u001b[0;32m     54\u001b[0m \u001b[1;33m\u001b[0m\u001b[0m\n\u001b[0;32m     55\u001b[0m     \u001b[1;31m# don't force copy because getting jammed in an ndarray anyway\u001b[0m\u001b[1;33m\u001b[0m\u001b[1;33m\u001b[0m\u001b[0m\n",
      "\u001b[1;32md:\\pl\\python\\python37\\lib\\site-packages\\pandas\\core\\indexes\\base.py\u001b[0m in \u001b[0;36mensure_index\u001b[1;34m(index_like, copy)\u001b[0m\n\u001b[0;32m   5361\u001b[0m             \u001b[0mindex_like\u001b[0m \u001b[1;33m=\u001b[0m \u001b[0mlist\u001b[0m\u001b[1;33m(\u001b[0m\u001b[0mindex_like\u001b[0m\u001b[1;33m)\u001b[0m\u001b[1;33m\u001b[0m\u001b[0m\n\u001b[0;32m   5362\u001b[0m \u001b[1;33m\u001b[0m\u001b[0m\n\u001b[1;32m-> 5363\u001b[1;33m         \u001b[0mconverted\u001b[0m\u001b[1;33m,\u001b[0m \u001b[0mall_arrays\u001b[0m \u001b[1;33m=\u001b[0m \u001b[0mlib\u001b[0m\u001b[1;33m.\u001b[0m\u001b[0mclean_index_list\u001b[0m\u001b[1;33m(\u001b[0m\u001b[0mindex_like\u001b[0m\u001b[1;33m)\u001b[0m\u001b[1;33m\u001b[0m\u001b[0m\n\u001b[0m\u001b[0;32m   5364\u001b[0m \u001b[1;33m\u001b[0m\u001b[0m\n\u001b[0;32m   5365\u001b[0m         \u001b[1;32mif\u001b[0m \u001b[0mlen\u001b[0m\u001b[1;33m(\u001b[0m\u001b[0mconverted\u001b[0m\u001b[1;33m)\u001b[0m \u001b[1;33m>\u001b[0m \u001b[1;36m0\u001b[0m \u001b[1;32mand\u001b[0m \u001b[0mall_arrays\u001b[0m\u001b[1;33m:\u001b[0m\u001b[1;33m\u001b[0m\u001b[0m\n",
      "\u001b[1;32mpandas\\_libs\\lib.pyx\u001b[0m in \u001b[0;36mpandas._libs.lib.clean_index_list\u001b[1;34m()\u001b[0m\n",
      "\u001b[1;32mpandas\\_libs\\lib.pyx\u001b[0m in \u001b[0;36mpandas._libs.lib.infer_dtype\u001b[1;34m()\u001b[0m\n",
      "\u001b[1;32md:\\pl\\python\\python37\\lib\\importlib\\_bootstrap.py\u001b[0m in \u001b[0;36m_find_and_load\u001b[1;34m(name, import_)\u001b[0m\n",
      "\u001b[1;32md:\\pl\\python\\python37\\lib\\importlib\\_bootstrap.py\u001b[0m in \u001b[0;36m_find_and_load_unlocked\u001b[1;34m(name, import_)\u001b[0m\n",
      "\u001b[1;32md:\\pl\\python\\python37\\lib\\importlib\\_bootstrap.py\u001b[0m in \u001b[0;36m_find_spec\u001b[1;34m(name, path, target)\u001b[0m\n",
      "\u001b[1;32md:\\pl\\python\\python37\\lib\\importlib\\_bootstrap_external.py\u001b[0m in \u001b[0;36mfind_spec\u001b[1;34m(cls, fullname, path, target)\u001b[0m\n",
      "\u001b[1;32md:\\pl\\python\\python37\\lib\\importlib\\_bootstrap_external.py\u001b[0m in \u001b[0;36m_get_spec\u001b[1;34m(cls, fullname, path, target)\u001b[0m\n",
      "\u001b[1;32md:\\pl\\python\\python37\\lib\\importlib\\_bootstrap_external.py\u001b[0m in \u001b[0;36mfind_spec\u001b[1;34m(self, fullname, target)\u001b[0m\n",
      "\u001b[1;32md:\\pl\\python\\python37\\lib\\importlib\\_bootstrap_external.py\u001b[0m in \u001b[0;36m_path_stat\u001b[1;34m(path)\u001b[0m\n",
      "\u001b[1;31mKeyboardInterrupt\u001b[0m: "
     ]
    }
   ],
   "source": [
    "chk = False\n",
    "\n",
    "# 다음주에 해당하는 날짜가 없을때까지 실행\n",
    "while True:\n",
    "    current_date = '20190311'\n",
    "    date_list, next_week = getDate(current_date)\n",
    "    # print(date_list)\n",
    "    # print(next_week)\n",
    "    # 해당 주의 날짜 수만큼 반복한다.\n",
    "    for now in date_list :\n",
    "        time.sleep(0.5)\n",
    "        getKBOData(now)\n",
    "        print(f'{now} 수집완료')\n",
    "\n",
    "    # 다음주 처리\n",
    "    if len(next_week) == 0:\n",
    "        break\n",
    "    else : current_date = next_week\n",
    "print('수집완료')"
   ]
  },
  {
   "cell_type": "code",
   "execution_count": null,
   "metadata": {},
   "outputs": [],
   "source": []
  },
  {
   "cell_type": "code",
   "execution_count": null,
   "metadata": {},
   "outputs": [],
   "source": []
  },
  {
   "cell_type": "code",
   "execution_count": null,
   "metadata": {},
   "outputs": [],
   "source": []
  },
  {
   "cell_type": "code",
   "execution_count": null,
   "metadata": {},
   "outputs": [],
   "source": []
  }
 ],
 "metadata": {
  "kernelspec": {
   "display_name": "Python 3",
   "language": "python",
   "name": "python3"
  },
  "language_info": {
   "codemirror_mode": {
    "name": "ipython",
    "version": 3
   },
   "file_extension": ".py",
   "mimetype": "text/x-python",
   "name": "python",
   "nbconvert_exporter": "python",
   "pygments_lexer": "ipython3",
   "version": "3.7.0"
  },
  "toc": {
   "base_numbering": 1,
   "nav_menu": {},
   "number_sections": true,
   "sideBar": true,
   "skip_h1_title": false,
   "title_cell": "Table of Contents",
   "title_sidebar": "Contents",
   "toc_cell": true,
   "toc_position": {
    "height": "calc(100% - 180px)",
    "left": "10px",
    "top": "150px",
    "width": "165px"
   },
   "toc_section_display": true,
   "toc_window_display": true
  },
  "varInspector": {
   "cols": {
    "lenName": 16,
    "lenType": 16,
    "lenVar": 40
   },
   "kernels_config": {
    "python": {
     "delete_cmd_postfix": "",
     "delete_cmd_prefix": "del ",
     "library": "var_list.py",
     "varRefreshCmd": "print(var_dic_list())"
    },
    "r": {
     "delete_cmd_postfix": ") ",
     "delete_cmd_prefix": "rm(",
     "library": "var_list.r",
     "varRefreshCmd": "cat(var_dic_list()) "
    }
   },
   "types_to_exclude": [
    "module",
    "function",
    "builtin_function_or_method",
    "instance",
    "_Feature"
   ],
   "window_display": false
  }
 },
 "nbformat": 4,
 "nbformat_minor": 2
}
