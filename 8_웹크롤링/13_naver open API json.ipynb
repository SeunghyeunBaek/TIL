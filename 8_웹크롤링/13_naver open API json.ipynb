{
 "cells": [
  {
   "cell_type": "markdown",
   "metadata": {
    "toc": true
   },
   "source": [
    "<h1>Table of Contents<span class=\"tocSkip\"></span></h1>\n",
    "<div class=\"toc\"><ul class=\"toc-item\"><li><span><a href=\"#JSON\" data-toc-modified-id=\"JSON-1\"><span class=\"toc-item-num\">1&nbsp;&nbsp;</span>JSON</a></span></li><li><span><a href=\"#Functions\" data-toc-modified-id=\"Functions-2\"><span class=\"toc-item-num\">2&nbsp;&nbsp;</span>Functions</a></span></li></ul></div>"
   ]
  },
  {
   "cell_type": "markdown",
   "metadata": {},
   "source": [
    "# JSON\n",
    "\n",
    "JSON(Javascript Object Notation) : Javascript에서 객체를 표현하는 문법을 이용해 데이터를 표현하는 문서의 양식\n",
    "\n",
    "- 정수 : 100\n",
    "- 실수 : 11.11\n",
    "- Boolean : true,false\n",
    "- 문자열 : '문자열'\n",
    "- 배열 : [] => python list\n",
    "- 객체 : {} => python dictionary"
   ]
  },
  {
   "cell_type": "code",
   "execution_count": 23,
   "metadata": {
    "ExecuteTime": {
     "end_time": "2019-03-25T07:51:39.554485Z",
     "start_time": "2019-03-25T07:51:39.550495Z"
    },
    "hide_input": false
   },
   "outputs": [],
   "source": [
    "import requests\n",
    "import json\n",
    "import re\n",
    "import time\n",
    "import pandas as pd"
   ]
  },
  {
   "cell_type": "code",
   "execution_count": 24,
   "metadata": {
    "ExecuteTime": {
     "end_time": "2019-03-25T07:51:39.954414Z",
     "start_time": "2019-03-25T07:51:39.950425Z"
    }
   },
   "outputs": [],
   "source": [
    "chk = False"
   ]
  },
  {
   "cell_type": "code",
   "execution_count": 25,
   "metadata": {
    "ExecuteTime": {
     "end_time": "2019-03-25T07:52:06.457542Z",
     "start_time": "2019-03-25T07:51:40.632635Z"
    }
   },
   "outputs": [
    {
     "name": "stdout",
     "output_type": "stream",
     "text": [
      "검색어를 입력해주세요 : 캡틴마블\n",
      "1~101/30808\n",
      "101~201/30808\n",
      "201~301/30808\n",
      "301~401/30808\n",
      "401~501/30808\n",
      "501~601/30808\n",
      "601~701/30808\n",
      "701~801/30808\n",
      "801~901/30808\n",
      "901~1001/30808\n",
      "1000~1100/30808\n"
     ]
    }
   ],
   "source": [
    "start = 1\n",
    "display = 100\n",
    "\n",
    "# 검색어를 가져온다.\n",
    "keyword = getKeyword()\n",
    "\n",
    "while True :\n",
    "    \n",
    "    jason_obj = connectionSite(keyword,start,display)    \n",
    "    total = getData(jason_obj)\n",
    "    \n",
    "    print(f'{start}~{start+100}/{total}')\n",
    "\n",
    "    # 검색결과가 더 있는지 확인\n",
    "    start = start+100\n",
    "    if start >= total:\n",
    "        break\n",
    "    elif start == 1001:\n",
    "        start = 1000\n",
    "    elif start == 1100:\n",
    "        break"
   ]
  },
  {
   "cell_type": "markdown",
   "metadata": {},
   "source": [
    "# Functions"
   ]
  },
  {
   "cell_type": "code",
   "execution_count": 11,
   "metadata": {
    "ExecuteTime": {
     "end_time": "2019-03-25T07:50:45.888988Z",
     "start_time": "2019-03-25T07:50:45.884003Z"
    }
   },
   "outputs": [],
   "source": [
    "# 전달된 모든 문자열에서 html 태그를 제거한다.\n",
    "def getText(data_str):\n",
    "    data_str = re.sub('<.+?>','',data_str).strip() \n",
    "    return data_str"
   ]
  },
  {
   "cell_type": "code",
   "execution_count": 12,
   "metadata": {
    "ExecuteTime": {
     "end_time": "2019-03-25T07:50:46.435528Z",
     "start_time": "2019-03-25T07:50:46.431539Z"
    }
   },
   "outputs": [],
   "source": [
    "def getKeyword():\n",
    "    keyword = input('검색어를 입력해주세요 : ')\n",
    "    return keyword"
   ]
  },
  {
   "cell_type": "code",
   "execution_count": 13,
   "metadata": {
    "ExecuteTime": {
     "end_time": "2019-03-25T07:50:47.057864Z",
     "start_time": "2019-03-25T07:50:47.048887Z"
    }
   },
   "outputs": [],
   "source": [
    "def connectionSite(Keyword,start,display):\n",
    "    #요청할 URL\n",
    "    url =  'https://openapi.naver.com/v1/search/blog.json'\n",
    "    \n",
    "    #parameters\n",
    "    params = {\n",
    "        'query': Keyword,\n",
    "        'start' : start,\n",
    "        'display' : display\n",
    "    }\n",
    "\n",
    "    #헤더정보\n",
    "    headers = {\n",
    "        'X-Naver-Client-Id':'IS3OiCTNiOI4ohZPsBRx',\n",
    "        'X-Naver-Client-Secret':'Nxmj3sNiJZ'\n",
    "    }\n",
    "\n",
    "    #요청 json\n",
    "    res = requests.get(url,params = params, headers = headers)\n",
    "    \n",
    "    # json 객체를 dictionary 나 list 로 바꾼다.\n",
    "    # requests.text가 {} 로 묶여있으면 dictionary, []로 묶여있으면 list 다.\n",
    "    json_dict = json.loads(res.text)\n",
    "    \n",
    "    return json_dict"
   ]
  },
  {
   "cell_type": "code",
   "execution_count": 22,
   "metadata": {
    "ExecuteTime": {
     "end_time": "2019-03-25T07:51:35.384633Z",
     "start_time": "2019-03-25T07:51:35.376655Z"
    }
   },
   "outputs": [],
   "source": [
    "def getData(json_obj):\n",
    "    \n",
    "    # data frame을 저장했는지 여부를 확인\n",
    "    global chk\n",
    "\n",
    "    #item 태그를 가져온다.\n",
    "    \n",
    "    for item in jason_obj['items']:\n",
    "        title_str = getText(item['title'])\n",
    "        desc_str = getText(item['description'])\n",
    "        bloggername_str = getText(item['bloggername'])\n",
    "        bloggerlink_str = getText(item['bloggerlink'])\n",
    "        date_str = getText(item['postdate'])\n",
    "        link_str = getText(item['link'])\n",
    "\n",
    "        data_dic = {\n",
    "            'title':[title_str],\n",
    "            'decription':[desc_str],\n",
    "            'link':[link_str],\n",
    "            'bloggername':[bloggername_str],\n",
    "            'bloggerlink':[bloggerlink_str],\n",
    "            'postdate':[date_str]\n",
    "        }\n",
    "        \n",
    "        df = pd.DataFrame(data_dic)\n",
    "\n",
    "        if chk == False:\n",
    "            chk = True\n",
    "            df.to_csv(f'{keyword}.csv',index = False, encoding = 'utf-8-sig')\n",
    "        else :\n",
    "            df.to_csv(f'{keyword}.csv',index = False, encoding = 'utf-8-sig', mode = 'a',header = False)\n",
    "\n",
    "        #total \n",
    "        total = jason_obj['total']\n",
    "        \n",
    "    return int(total)"
   ]
  },
  {
   "cell_type": "code",
   "execution_count": null,
   "metadata": {},
   "outputs": [],
   "source": []
  }
 ],
 "metadata": {
  "kernelspec": {
   "display_name": "Python 3",
   "language": "python",
   "name": "python3"
  },
  "language_info": {
   "codemirror_mode": {
    "name": "ipython",
    "version": 3
   },
   "file_extension": ".py",
   "mimetype": "text/x-python",
   "name": "python",
   "nbconvert_exporter": "python",
   "pygments_lexer": "ipython3",
   "version": "3.7.0"
  },
  "toc": {
   "base_numbering": 1,
   "nav_menu": {},
   "number_sections": true,
   "sideBar": true,
   "skip_h1_title": false,
   "title_cell": "Table of Contents",
   "title_sidebar": "Contents",
   "toc_cell": true,
   "toc_position": {
    "height": "calc(100% - 180px)",
    "left": "10px",
    "top": "150px",
    "width": "165px"
   },
   "toc_section_display": true,
   "toc_window_display": true
  },
  "varInspector": {
   "cols": {
    "lenName": 16,
    "lenType": 16,
    "lenVar": 40
   },
   "kernels_config": {
    "python": {
     "delete_cmd_postfix": "",
     "delete_cmd_prefix": "del ",
     "library": "var_list.py",
     "varRefreshCmd": "print(var_dic_list())"
    },
    "r": {
     "delete_cmd_postfix": ") ",
     "delete_cmd_prefix": "rm(",
     "library": "var_list.r",
     "varRefreshCmd": "cat(var_dic_list()) "
    }
   },
   "oldHeight": 122.545454,
   "position": {
    "height": "152.531px",
    "left": "845.359px",
    "right": "20px",
    "top": "5px",
    "width": "350px"
   },
   "types_to_exclude": [
    "module",
    "function",
    "builtin_function_or_method",
    "instance",
    "_Feature"
   ],
   "varInspector_section_display": "block",
   "window_display": false
  }
 },
 "nbformat": 4,
 "nbformat_minor": 2
}
