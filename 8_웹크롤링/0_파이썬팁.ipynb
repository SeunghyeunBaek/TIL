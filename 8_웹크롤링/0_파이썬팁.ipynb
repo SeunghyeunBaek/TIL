{
 "cells": [
  {
   "cell_type": "markdown",
   "metadata": {},
   "source": [
    "# 1. 입출력 포맷"
   ]
  },
  {
   "cell_type": "code",
   "execution_count": null,
   "metadata": {},
   "outputs": [],
   "source": [
    "#문자열 포맷\n",
    "input1 = input('이름입력 : ')\n",
    "input2 = int(input('나이입력 : '))\n",
    "\n",
    "print('이름은 '+input1+'이고 나이는 '+input2+'입니다')\n"
   ]
  },
  {
   "cell_type": "code",
   "execution_count": 10,
   "metadata": {},
   "outputs": [
    {
     "name": "stdout",
     "output_type": "stream",
     "text": [
      "i: 123, f: 3.140000, s: Hello\n"
     ]
    }
   ],
   "source": [
    "i = 123\n",
    "\n",
    "f = 3.14\n",
    "\n",
    "s = 'Hello'\n",
    "\n",
    "print('i: %d, f: %f, s: %s' % (i, f, s))"
   ]
  },
  {
   "cell_type": "markdown",
   "metadata": {},
   "source": [
    "# 2. 문자열 처리\n",
    "- ''\n",
    "- \" \" \n",
    "- ''' ''' \n",
    "    - '', \"\", 포함\n",
    "    - 문자열 내에서 개행할 때"
   ]
  },
  {
   "cell_type": "code",
   "execution_count": null,
   "metadata": {},
   "outputs": [],
   "source": [
    "str1 = \"이름은 '홍길동' 입니다\"\n",
    "str2 = ''' 이름은 '홍길동' 이고 나이는 \"341\"세 입니다 ''' \n",
    "str3 = '''\n",
    "동해물과 백두산이\n",
    "'마르고' 닳도록\n",
    "\"하느님\" 이 보우하사\n",
    "'''"
   ]
  },
  {
   "cell_type": "markdown",
   "metadata": {},
   "source": [
    "# 3. 셀렉터 조합 예제"
   ]
  },
  {
   "cell_type": "code",
   "execution_count": 1,
   "metadata": {},
   "outputs": [],
   "source": [
    "import bs4"
   ]
  },
  {
   "cell_type": "code",
   "execution_count": 3,
   "metadata": {},
   "outputs": [],
   "source": [
    "html = '''\n",
    "    <p class = 'a1'>p class a1</p>\n",
    "    <p class = 'a2'>p class a2</p>\n",
    "    <div class = 'a1'>div class a1</div>\n",
    "'''\n",
    "soup = bs4.BeautifulSoup(html, 'lxml')"
   ]
  },
  {
   "cell_type": "code",
   "execution_count": 13,
   "metadata": {},
   "outputs": [
    {
     "name": "stdout",
     "output_type": "stream",
     "text": [
      "p class a1\n"
     ]
    }
   ],
   "source": [
    "# p class a1 가져오고 싶다.\n",
    "# 복수의 셀렉터를 적용하고 싶다면 셀렉터를 다 붙힌다.\n",
    "print(soup.select('p.a1')[0].text)"
   ]
  },
  {
   "cell_type": "code",
   "execution_count": 15,
   "metadata": {},
   "outputs": [],
   "source": [
    "html = '''\n",
    "    <div id = 'test1'>\n",
    "        <p>test1의 자식 p</p>\n",
    "        <div>\n",
    "            <p>test1의 자손p</p>\n",
    "        </div>\n",
    "    </div>\n",
    "'''\n",
    "soup = bs4.BeautifulSoup(html,'lxml')"
   ]
  },
  {
   "cell_type": "code",
   "execution_count": 23,
   "metadata": {},
   "outputs": [
    {
     "name": "stdout",
     "output_type": "stream",
     "text": [
      "test1의 자식 p \n",
      " test1의 자식 p\n"
     ]
    }
   ],
   "source": [
    "# 자식태그\n",
    "chi = soup.select('#test1>p')[0].text\n",
    "# 자손태그\n",
    "des = soup.select('#test1 p')[0].text\n",
    "print(ch,'\\n',de)"
   ]
  },
  {
   "cell_type": "code",
   "execution_count": 29,
   "metadata": {},
   "outputs": [
    {
     "name": "stdout",
     "output_type": "stream",
     "text": [
      "tagname : p, text : test1의 자식 p\n",
      "<p>test1의 자식 p</p>\n",
      "----------------------------------------\n",
      "tagname : div, text : \n",
      "test1의 자손p\n",
      "\n",
      "<div>\n",
      "<p>test1의 자손p</p>\n",
      "</div>\n",
      "----------------------------------------\n",
      "tagname : p, text : test1의 자손p\n",
      "<p>test1의 자손p</p>\n",
      "----------------------------------------\n"
     ]
    }
   ],
   "source": [
    "#test1 내부의 모든 태그를 가져온다.\n",
    "teg_list = soup.select('#test1 *')\n",
    "for tag in teg_list:\n",
    "    print(f'tagname : {tag.name}, text : {tag.text}')\n",
    "    print(tag)\n",
    "    print('--'*20)"
   ]
  },
  {
   "cell_type": "code",
   "execution_count": null,
   "metadata": {},
   "outputs": [],
   "source": []
  }
 ],
 "metadata": {
  "kernelspec": {
   "display_name": "Python 3",
   "language": "python",
   "name": "python3"
  },
  "language_info": {
   "codemirror_mode": {
    "name": "ipython",
    "version": 3
   },
   "file_extension": ".py",
   "mimetype": "text/x-python",
   "name": "python",
   "nbconvert_exporter": "python",
   "pygments_lexer": "ipython3",
   "version": "3.7.0"
  }
 },
 "nbformat": 4,
 "nbformat_minor": 2
}
