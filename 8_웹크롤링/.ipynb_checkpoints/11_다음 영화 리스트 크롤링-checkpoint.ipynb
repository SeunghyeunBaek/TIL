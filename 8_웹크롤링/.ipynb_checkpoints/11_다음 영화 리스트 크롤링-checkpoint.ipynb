{
 "cells": [
  {
   "cell_type": "markdown",
   "metadata": {
    "toc": true
   },
   "source": [
    "<h1>Table of Contents<span class=\"tocSkip\"></span></h1>\n",
    "<div class=\"toc\"><ul class=\"toc-item\"></ul></div>"
   ]
  },
  {
   "cell_type": "code",
   "execution_count": 76,
   "metadata": {
    "ExecuteTime": {
     "end_time": "2019-03-22T07:52:19.462305Z",
     "start_time": "2019-03-22T07:52:14.019856Z"
    }
   },
   "outputs": [],
   "source": [
    "from selenium import webdriver\n",
    "from bs4 import BeautifulSoup\n",
    "import time\n",
    "from selenium.webdriver.support.ui import Select\n",
    "\n",
    "import pandas as pd\n"
   ]
  },
  {
   "cell_type": "code",
   "execution_count": 23,
   "metadata": {
    "ExecuteTime": {
     "end_time": "2019-03-22T07:24:17.592720Z",
     "start_time": "2019-03-22T07:24:13.897251Z"
    }
   },
   "outputs": [],
   "source": [
    "driver = webdriver.Chrome('chromedriver')"
   ]
  },
  {
   "cell_type": "code",
   "execution_count": 24,
   "metadata": {
    "ExecuteTime": {
     "end_time": "2019-03-22T07:24:21.379668Z",
     "start_time": "2019-03-22T07:24:17.619649Z"
    }
   },
   "outputs": [],
   "source": [
    "#로그인 페이지\n",
    "url = 'https://movie.daum.net/main/new#slide-1-0'\n",
    "driver.get(url)"
   ]
  },
  {
   "cell_type": "code",
   "execution_count": 25,
   "metadata": {
    "ExecuteTime": {
     "end_time": "2019-03-22T07:24:21.844417Z",
     "start_time": "2019-03-22T07:24:21.407198Z"
    }
   },
   "outputs": [],
   "source": [
    "driver.refresh()"
   ]
  },
  {
   "cell_type": "code",
   "execution_count": 26,
   "metadata": {
    "ExecuteTime": {
     "end_time": "2019-03-22T07:24:22.587438Z",
     "start_time": "2019-03-22T07:24:21.870348Z"
    }
   },
   "outputs": [],
   "source": [
    "now_show_tab = driver.find_element_by_css_selector('#dkGnb > div > ul > li:nth-child(2) > a')\n",
    "now_show_tab.click()"
   ]
  },
  {
   "cell_type": "code",
   "execution_count": 75,
   "metadata": {
    "ExecuteTime": {
     "end_time": "2019-03-22T07:51:55.637073Z",
     "start_time": "2019-03-22T07:51:54.190965Z"
    }
   },
   "outputs": [
    {
     "name": "stdout",
     "output_type": "stream",
     "text": [
      "{'name': ['돈', '캡틴 마블', '악질경찰', '우상', '이스케이프 룸', '페이트 스테이 나이트 헤븐즈필 제2장 로스트 버터플라이', '양지의 그녀', '라스트 미션', '더 페이버릿: 여왕의 여자', '그린 북', '정글북: 마법 원정대', '극한직업', '아사코', '더 와이프', '가버나움', '항거:유관순 이야기', '숲속왕국의 꿀벌 여왕', '증인', '살인마 잭의 집', '원 네이션'], 'point': ['7.1', '6.3', '7.4', '6.4', '6.9', '7.8', '8.2', '8.6', '8.4', '9.2', '7.0', '7.4', '6.5', '8.3', '9.4', '9.0', '6.4', '9.3', '6.0', '8.3']}\n"
     ]
    }
   ],
   "source": [
    "list_lit = driver.find_elements_by_css_selector('#mArticle > ul.list_movie.\\#movie > li')\n",
    "point_list=[]\n",
    "data_dic = {\n",
    "    'name':[],\n",
    "    'point':[]\n",
    "}\n",
    "for li_tag in list_lit:\n",
    "    name_tag = li_tag.find_element_by_css_selector('div.wrap_movie > div > a')\n",
    "    point_tag = li_tag.find_element_by_css_selector('div.wrap_movie > span.info_grade > a > span.wrap_grade.grade_netizen')\n",
    "    list1 = point_tag.text.splitlines()\n",
    "    point_str = str(int(list1[1]))+'.'+str(int(list1[3]))\n",
    "    \n",
    "    data_dic['name'].append(name_tag.text.strip())\n",
    "    data_dic['point'].append(point_str)"
   ]
  },
  {
   "cell_type": "code",
   "execution_count": 77,
   "metadata": {
    "ExecuteTime": {
     "end_time": "2019-03-22T07:52:30.986565Z",
     "start_time": "2019-03-22T07:52:30.981525Z"
    }
   },
   "outputs": [],
   "source": [
    "df = pd.DataFrame(data_dic)"
   ]
  },
  {
   "cell_type": "code",
   "execution_count": 78,
   "metadata": {
    "ExecuteTime": {
     "end_time": "2019-03-22T07:52:33.419989Z",
     "start_time": "2019-03-22T07:52:33.101864Z"
    }
   },
   "outputs": [
    {
     "data": {
      "text/html": [
       "<div>\n",
       "<style scoped>\n",
       "    .dataframe tbody tr th:only-of-type {\n",
       "        vertical-align: middle;\n",
       "    }\n",
       "\n",
       "    .dataframe tbody tr th {\n",
       "        vertical-align: top;\n",
       "    }\n",
       "\n",
       "    .dataframe thead th {\n",
       "        text-align: right;\n",
       "    }\n",
       "</style>\n",
       "<table border=\"1\" class=\"dataframe\">\n",
       "  <thead>\n",
       "    <tr style=\"text-align: right;\">\n",
       "      <th></th>\n",
       "      <th>name</th>\n",
       "      <th>point</th>\n",
       "    </tr>\n",
       "  </thead>\n",
       "  <tbody>\n",
       "    <tr>\n",
       "      <th>0</th>\n",
       "      <td>돈</td>\n",
       "      <td>7.1</td>\n",
       "    </tr>\n",
       "    <tr>\n",
       "      <th>1</th>\n",
       "      <td>캡틴 마블</td>\n",
       "      <td>6.3</td>\n",
       "    </tr>\n",
       "    <tr>\n",
       "      <th>2</th>\n",
       "      <td>악질경찰</td>\n",
       "      <td>7.4</td>\n",
       "    </tr>\n",
       "    <tr>\n",
       "      <th>3</th>\n",
       "      <td>우상</td>\n",
       "      <td>6.4</td>\n",
       "    </tr>\n",
       "    <tr>\n",
       "      <th>4</th>\n",
       "      <td>이스케이프 룸</td>\n",
       "      <td>6.9</td>\n",
       "    </tr>\n",
       "    <tr>\n",
       "      <th>5</th>\n",
       "      <td>페이트 스테이 나이트 헤븐즈필 제2장 로스트 버터플라이</td>\n",
       "      <td>7.8</td>\n",
       "    </tr>\n",
       "    <tr>\n",
       "      <th>6</th>\n",
       "      <td>양지의 그녀</td>\n",
       "      <td>8.2</td>\n",
       "    </tr>\n",
       "    <tr>\n",
       "      <th>7</th>\n",
       "      <td>라스트 미션</td>\n",
       "      <td>8.6</td>\n",
       "    </tr>\n",
       "    <tr>\n",
       "      <th>8</th>\n",
       "      <td>더 페이버릿: 여왕의 여자</td>\n",
       "      <td>8.4</td>\n",
       "    </tr>\n",
       "    <tr>\n",
       "      <th>9</th>\n",
       "      <td>그린 북</td>\n",
       "      <td>9.2</td>\n",
       "    </tr>\n",
       "    <tr>\n",
       "      <th>10</th>\n",
       "      <td>정글북: 마법 원정대</td>\n",
       "      <td>7.0</td>\n",
       "    </tr>\n",
       "    <tr>\n",
       "      <th>11</th>\n",
       "      <td>극한직업</td>\n",
       "      <td>7.4</td>\n",
       "    </tr>\n",
       "    <tr>\n",
       "      <th>12</th>\n",
       "      <td>아사코</td>\n",
       "      <td>6.5</td>\n",
       "    </tr>\n",
       "    <tr>\n",
       "      <th>13</th>\n",
       "      <td>더 와이프</td>\n",
       "      <td>8.3</td>\n",
       "    </tr>\n",
       "    <tr>\n",
       "      <th>14</th>\n",
       "      <td>가버나움</td>\n",
       "      <td>9.4</td>\n",
       "    </tr>\n",
       "    <tr>\n",
       "      <th>15</th>\n",
       "      <td>항거:유관순 이야기</td>\n",
       "      <td>9.0</td>\n",
       "    </tr>\n",
       "    <tr>\n",
       "      <th>16</th>\n",
       "      <td>숲속왕국의 꿀벌 여왕</td>\n",
       "      <td>6.4</td>\n",
       "    </tr>\n",
       "    <tr>\n",
       "      <th>17</th>\n",
       "      <td>증인</td>\n",
       "      <td>9.3</td>\n",
       "    </tr>\n",
       "    <tr>\n",
       "      <th>18</th>\n",
       "      <td>살인마 잭의 집</td>\n",
       "      <td>6.0</td>\n",
       "    </tr>\n",
       "    <tr>\n",
       "      <th>19</th>\n",
       "      <td>원 네이션</td>\n",
       "      <td>8.3</td>\n",
       "    </tr>\n",
       "  </tbody>\n",
       "</table>\n",
       "</div>"
      ],
      "text/plain": [
       "                              name point\n",
       "0                                돈   7.1\n",
       "1                            캡틴 마블   6.3\n",
       "2                             악질경찰   7.4\n",
       "3                               우상   6.4\n",
       "4                          이스케이프 룸   6.9\n",
       "5   페이트 스테이 나이트 헤븐즈필 제2장 로스트 버터플라이   7.8\n",
       "6                           양지의 그녀   8.2\n",
       "7                           라스트 미션   8.6\n",
       "8                   더 페이버릿: 여왕의 여자   8.4\n",
       "9                             그린 북   9.2\n",
       "10                     정글북: 마법 원정대   7.0\n",
       "11                            극한직업   7.4\n",
       "12                             아사코   6.5\n",
       "13                           더 와이프   8.3\n",
       "14                            가버나움   9.4\n",
       "15                      항거:유관순 이야기   9.0\n",
       "16                     숲속왕국의 꿀벌 여왕   6.4\n",
       "17                              증인   9.3\n",
       "18                        살인마 잭의 집   6.0\n",
       "19                           원 네이션   8.3"
      ]
     },
     "execution_count": 78,
     "metadata": {},
     "output_type": "execute_result"
    }
   ],
   "source": [
    "df"
   ]
  },
  {
   "cell_type": "code",
   "execution_count": 54,
   "metadata": {
    "ExecuteTime": {
     "end_time": "2019-03-22T07:41:01.925707Z",
     "start_time": "2019-03-22T07:41:01.920747Z"
    }
   },
   "outputs": [
    {
     "data": {
      "text/plain": [
       "['등급\\n07\\n.\\n01',\n",
       " '등급\\n06\\n.\\n03',\n",
       " '등급\\n07\\n.\\n04',\n",
       " '등급\\n06\\n.\\n04',\n",
       " '등급\\n06\\n.\\n09',\n",
       " '등급\\n07\\n.\\n08',\n",
       " '등급\\n08\\n.\\n02',\n",
       " '등급\\n08\\n.\\n06',\n",
       " '등급\\n08\\n.\\n04',\n",
       " '등급\\n09\\n.\\n02',\n",
       " '등급\\n07\\n.\\n00',\n",
       " '등급\\n07\\n.\\n04',\n",
       " '등급\\n06\\n.\\n05',\n",
       " '등급\\n08\\n.\\n03',\n",
       " '등급\\n09\\n.\\n04',\n",
       " '등급\\n09\\n.\\n00',\n",
       " '등급\\n06\\n.\\n04',\n",
       " '등급\\n09\\n.\\n03',\n",
       " '등급\\n06\\n.\\n00',\n",
       " '등급\\n08\\n.\\n03']"
      ]
     },
     "execution_count": 54,
     "metadata": {},
     "output_type": "execute_result"
    }
   ],
   "source": [
    "point_list"
   ]
  },
  {
   "cell_type": "code",
   "execution_count": 62,
   "metadata": {
    "ExecuteTime": {
     "end_time": "2019-03-22T07:43:25.530784Z",
     "start_time": "2019-03-22T07:43:25.521592Z"
    }
   },
   "outputs": [
    {
     "data": {
      "text/plain": [
       "[1, 3, 4, 4, 9, 8, 2, 6, 4, 2, 0, 4, 5, 3, 4, 0, 4, 3, 0, 3]"
      ]
     },
     "execution_count": 62,
     "metadata": {},
     "output_type": "execute_result"
    }
   ],
   "source": [
    "list(map(lambda s : int(s.split('\\n')[-1]),point_list))"
   ]
  },
  {
   "cell_type": "code",
   "execution_count": 61,
   "metadata": {
    "ExecuteTime": {
     "end_time": "2019-03-22T07:43:23.195255Z",
     "start_time": "2019-03-22T07:43:23.189037Z"
    }
   },
   "outputs": [
    {
     "data": {
      "text/plain": [
       "[7, 6, 7, 6, 6, 7, 8, 8, 8, 9, 7, 7, 6, 8, 9, 9, 6, 9, 6, 8]"
      ]
     },
     "execution_count": 61,
     "metadata": {},
     "output_type": "execute_result"
    }
   ],
   "source": [
    "grade = list(map(lambda s : int(s.split('\\n')[1]),point_list))"
   ]
  },
  {
   "cell_type": "code",
   "execution_count": 38,
   "metadata": {
    "ExecuteTime": {
     "end_time": "2019-03-22T07:32:08.534342Z",
     "start_time": "2019-03-22T07:32:08.520328Z"
    }
   },
   "outputs": [
    {
     "data": {
      "text/plain": [
       "[<selenium.webdriver.remote.webelement.WebElement (session=\"7e962c04d15cb5ef3654cf75359fd021\", element=\"0.9802217218924418-21\")>]"
      ]
     },
     "execution_count": 38,
     "metadata": {},
     "output_type": "execute_result"
    }
   ],
   "source": []
  },
  {
   "cell_type": "code",
   "execution_count": null,
   "metadata": {},
   "outputs": [],
   "source": []
  }
 ],
 "metadata": {
  "kernelspec": {
   "display_name": "Python 3",
   "language": "python",
   "name": "python3"
  },
  "language_info": {
   "codemirror_mode": {
    "name": "ipython",
    "version": 3
   },
   "file_extension": ".py",
   "mimetype": "text/x-python",
   "name": "python",
   "nbconvert_exporter": "python",
   "pygments_lexer": "ipython3",
   "version": "3.7.0"
  },
  "toc": {
   "base_numbering": 1,
   "nav_menu": {},
   "number_sections": true,
   "sideBar": true,
   "skip_h1_title": false,
   "title_cell": "Table of Contents",
   "title_sidebar": "Contents",
   "toc_cell": true,
   "toc_position": {},
   "toc_section_display": true,
   "toc_window_display": true
  },
  "varInspector": {
   "cols": {
    "lenName": 16,
    "lenType": 16,
    "lenVar": 40
   },
   "kernels_config": {
    "python": {
     "delete_cmd_postfix": "",
     "delete_cmd_prefix": "del ",
     "library": "var_list.py",
     "varRefreshCmd": "print(var_dic_list())"
    },
    "r": {
     "delete_cmd_postfix": ") ",
     "delete_cmd_prefix": "rm(",
     "library": "var_list.r",
     "varRefreshCmd": "cat(var_dic_list()) "
    }
   },
   "types_to_exclude": [
    "module",
    "function",
    "builtin_function_or_method",
    "instance",
    "_Feature"
   ],
   "window_display": false
  }
 },
 "nbformat": 4,
 "nbformat_minor": 2
}
