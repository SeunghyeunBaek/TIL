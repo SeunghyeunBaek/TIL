{
 "cells": [
  {
   "cell_type": "markdown",
   "metadata": {},
   "source": [
    "# 웹페이지 특징 파악\n",
    "1. 140자 평점데이터는 iframe 을 통해 출력된다.\n",
    "2. 요청할 페이지의 소스에 데이터가 들어있다."
   ]
  },
  {
   "cell_type": "code",
   "execution_count": 261,
   "metadata": {},
   "outputs": [],
   "source": [
    "# lib\n",
    "import requests # get url respoonse\n",
    "import bs4 # response to bs4 object\n",
    "import time # delay 1 sec for each page\n",
    "import pandas as pd # data to csv\n",
    "\n",
    "import matplotlib.pyplot as plt\n",
    "import seaborn as sb\n",
    "import re"
   ]
  },
  {
   "cell_type": "code",
   "execution_count": 317,
   "metadata": {
    "scrolled": true
   },
   "outputs": [
    {
     "name": "stdout",
     "output_type": "stream",
     "text": [
      "156464 데이터 수집 시작\n",
      "--------------------------------------------------------------------------------\n",
      "1/5\n",
      "2/5\n",
      "3/5\n",
      "4/5\n",
      "5/5\n",
      "--------------------------------------------------------------------------------\n",
      "109906 데이터 수집 시작\n",
      "--------------------------------------------------------------------------------\n",
      "1/5\n",
      "2/5\n",
      "3/5\n",
      "4/5\n",
      "5/5\n",
      "--------------------------------------------------------------------------------\n",
      "데이터 수집 완료\n"
     ]
    }
   ],
   "source": [
    "# 데이터 프레임을 처음 저장하는지 확인하기 위한 flag\n",
    "\n",
    "flag = False\n",
    "\n",
    "# 가져올 영화 코드 리스트\n",
    "# movie_list =['156464','109906']\n",
    "moive_list = getMovieCode()\n",
    "movie_list = movie_list[:3]\n",
    "\n",
    "# 접속할 페이지 주소 : 소스보기 -> iframe 검색 ->src, 영화 캡틴마블(2019) 영화 평점 데이터\n",
    "# site = 'https://movie.naver.com/movie/bi/mi/pointWriteFormList.nhn?code=132623&type=after&isActualPointWriteExecute=false&isMileageSubscriptionAlready=false&isMileageSubscriptionReject=false'\n",
    "\n",
    "for movie_code in movie_list:\n",
    "\n",
    "    # 전체 페이지수를 가져온다.\n",
    "    tot_page_cnt = getPageCnt(movie_code)\n",
    "    \n",
    "    print(f'{movie_code} 데이터 수집 시작')\n",
    "    print('-'*80)\n",
    "    \n",
    "    for idx in range(5):\n",
    "        \n",
    "        print(f'{idx+1}/{5}')\n",
    "\n",
    "        url = f'https://movie.naver.com/movie/bi/mi/pointWriteFormList.nhn?code={movie_code}&type=after&isActualPointWriteExecute=false&isMileageSubscriptionAlready=false&isMileageSubscriptionReject=false&page={idx+1}'\n",
    "\n",
    "        score_list, reple_list,up_list,down_list = getResult(requestPage(url))\n",
    "        total_list = list(zip(score_list, reple_list,up_list,down_list))\n",
    "        df = pd.DataFrame(total_list)\n",
    "\n",
    "        if flag == False: \n",
    "            df.columns = ['score','reple','up_vote','down_vote']\n",
    "            df.to_csv('naver_satar_data.csv',index = False, encoding = 'utf-8-sig') # mode a : 누적\n",
    "            flag = True\n",
    "        else :\n",
    "            df.to_csv('naver_satar_data.csv',index = False, encoding = 'utf-8-sig',mode = 'a',header = False) # mode a : 누적\n",
    "        time.sleep(1)\n",
    "\n",
    "    print('-'*80)\n",
    "print('데이터 수집 완료')"
   ]
  },
  {
   "cell_type": "code",
   "execution_count": 264,
   "metadata": {},
   "outputs": [],
   "source": [
    "# url 받아서 bs4 객체를 반환하는 함수\n",
    "# xlml 파서를 쓰면 tag 방식을 쓰는 모든 문서 타입에 적용할 수 있다.\n",
    "def requestPage(url):\n",
    "    response = requests.get(url)\n",
    "    soup = bs4.BeautifulSoup(response.text, 'lxml')\n",
    "    return soup"
   ]
  },
  {
   "cell_type": "code",
   "execution_count": 265,
   "metadata": {},
   "outputs": [],
   "source": [
    "# 필요한 정보를 가져온다.\n",
    "def getResult(soup):\n",
    "    \n",
    "    reple_list = []\n",
    "    score_list = []\n",
    "    up_list = []\n",
    "    down_list = []\n",
    "\n",
    "    li_list = soup.select('div.score_result>ul>li')\n",
    "    \n",
    "    for li_tag in li_list:\n",
    "        star_score_tag = li_tag.select('div.star_score>em')\n",
    "        star_score = star_score_tag[0].text.strip()\n",
    "        score_reple_tag = li_tag.select('div.score_reple>p')\n",
    "        score_reple = score_reple_tag[0].text.strip()\n",
    "        up_vote_tag = li_tag.select('div.btn_area>strong:nth-child(2) > span')\n",
    "        up_vote = up_vote_tag[0].text.strip()\n",
    "        down_vote_tag = li_tag.select('div.btn_area> strong:nth-child(4)> span')\n",
    "        down_vote = down_vote_tag[0].text.strip()\n",
    "        \n",
    "        score_list.append(star_score)\n",
    "        reple_list.append(score_reple) \n",
    "        up_list.append(up_vote)\n",
    "        down_list.append(down_vote)\n",
    "        \n",
    "    return score_list,reple_list,up_list,down_list"
   ]
  },
  {
   "cell_type": "code",
   "execution_count": 270,
   "metadata": {},
   "outputs": [],
   "source": [
    "# 전체 페이지 개수를 반환하는 함수\n",
    "def getPageCnt(movie_code):\n",
    "\n",
    "    #접속할 페이지 주소\n",
    "    url = f'https://movie.naver.com/movie/bi/mi/pointWriteFormList.nhn?code={movie_code}&type=after&isActualPointWriteExecute=false&isMileageSubscriptionAlready=false&isMileageSubscriptionReject=false'\n",
    "    res = requests.get(url)\n",
    "    soup = bs4.BeautifulSoup(res.text,'lxml')\n",
    "    cnt = soup.select('div.score_total>strong.total>em')[0].text\n",
    "    cnt = int(re.sub(r',','',cnt))\n",
    "    \n",
    "    # 한 페이지당 댓글이 10개다.\n",
    "    if cnt%10 > 0:\n",
    "        cnt = cnt +1\n",
    "    return cnt//10"
   ]
  },
  {
   "cell_type": "code",
   "execution_count": 273,
   "metadata": {},
   "outputs": [
    {
     "data": {
      "text/plain": [
       "1526"
      ]
     },
     "execution_count": 273,
     "metadata": {},
     "output_type": "execute_result"
    }
   ],
   "source": [
    "movie_list =['156464','109906']"
   ]
  },
  {
   "cell_type": "code",
   "execution_count": 315,
   "metadata": {},
   "outputs": [],
   "source": [
    "def getMovieCode():\n",
    "\n",
    "    # 영화코드를 담을 리스트\n",
    "    movie_code_list = []\n",
    "    \n",
    "    # 크롤링 페이지 설정\n",
    "    url = 'https://movie.naver.com/movie/running/current.nhn?order=reserve'\n",
    "    soup = requestPage(url)\n",
    "    a = soup.select('ul.lst_detail_t1 li>div.thumb>a')\n",
    "\n",
    "    for li in a:\n",
    "        movie_code = (li.attrs['href'].strip().split('=')[1])\n",
    "        movie_code_list.append(movie_code)\n",
    "\n",
    "    return movie_code_list"
   ]
  },
  {
   "cell_type": "code",
   "execution_count": 316,
   "metadata": {},
   "outputs": [
    {
     "data": {
      "text/plain": [
       "['163608',\n",
       " '132623',\n",
       " '161984',\n",
       " '153580',\n",
       " '180425',\n",
       " '171539',\n",
       " '179974',\n",
       " '148909',\n",
       " '172145',\n",
       " '167651',\n",
       " '163008',\n",
       " '167054',\n",
       " '182206',\n",
       " '182360',\n",
       " '172143',\n",
       " '177374',\n",
       " '174830',\n",
       " '181717',\n",
       " '182407',\n",
       " '167616',\n",
       " '170286',\n",
       " '174832',\n",
       " '158873',\n",
       " '174730',\n",
       " '167099',\n",
       " '179318',\n",
       " '183104',\n",
       " '178097',\n",
       " '170953',\n",
       " '156464',\n",
       " '154288',\n",
       " '181711',\n",
       " '168740',\n",
       " '160837',\n",
       " '181959',\n",
       " '174297',\n",
       " '98446',\n",
       " '98447',\n",
       " '179694',\n",
       " '175051',\n",
       " '109193',\n",
       " '168744',\n",
       " '169262',\n",
       " '10334',\n",
       " '148647',\n",
       " '167648',\n",
       " '119552',\n",
       " '180992',\n",
       " '179033',\n",
       " '181554',\n",
       " '168743',\n",
       " '181409',\n",
       " '154983',\n",
       " '144379',\n",
       " '179666',\n",
       " '182841',\n",
       " '178483',\n",
       " '147065',\n",
       " '153297',\n",
       " '174329',\n",
       " '149479',\n",
       " '66598',\n",
       " '176748',\n",
       " '151151',\n",
       " '174296',\n",
       " '162854',\n",
       " '37847',\n",
       " '19583',\n",
       " '164335',\n",
       " '61101',\n",
       " '162229',\n",
       " '21931',\n",
       " '144318',\n",
       " '112082',\n",
       " '62858',\n",
       " '19449',\n",
       " '159070',\n",
       " '29357',\n",
       " '122489',\n",
       " '35189',\n",
       " '76309',\n",
       " '49687',\n",
       " '154433',\n",
       " '155123',\n",
       " '181564',\n",
       " '53047',\n",
       " '182032',\n",
       " '181544']"
      ]
     },
     "execution_count": 316,
     "metadata": {},
     "output_type": "execute_result"
    }
   ],
   "source": [
    "getMovieCode()"
   ]
  },
  {
   "cell_type": "code",
   "execution_count": null,
   "metadata": {},
   "outputs": [],
   "source": []
  }
 ],
 "metadata": {
  "kernelspec": {
   "display_name": "Python 3",
   "language": "python",
   "name": "python3"
  },
  "language_info": {
   "codemirror_mode": {
    "name": "ipython",
    "version": 3
   },
   "file_extension": ".py",
   "mimetype": "text/x-python",
   "name": "python",
   "nbconvert_exporter": "python",
   "pygments_lexer": "ipython3",
   "version": "3.7.0"
  }
 },
 "nbformat": 4,
 "nbformat_minor": 2
}
