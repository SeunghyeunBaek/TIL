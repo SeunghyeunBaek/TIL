{
 "cells": [
  {
   "cell_type": "markdown",
   "metadata": {
    "toc": true
   },
   "source": [
    "<h1>Table of Contents<span class=\"tocSkip\"></span></h1>\n",
    "<div class=\"toc\"><ul class=\"toc-item\"><li><span><a href=\"#연도별-교육-수준\" data-toc-modified-id=\"연도별-교육-수준-1\"><span class=\"toc-item-num\">1&nbsp;&nbsp;</span>연도별 교육 수준</a></span></li><li><span><a href=\"#여성-교육-수준별-자녀-수\" data-toc-modified-id=\"여성-교육-수준별-자녀-수-2\"><span class=\"toc-item-num\">2&nbsp;&nbsp;</span>여성 교육 수준별 자녀 수</a></span></li></ul></div>"
   ]
  },
  {
   "cell_type": "code",
   "execution_count": 54,
   "metadata": {
    "ExecuteTime": {
     "end_time": "2019-06-06T13:29:03.591419Z",
     "start_time": "2019-06-06T13:29:03.586457Z"
    }
   },
   "outputs": [],
   "source": [
    "import numpy as np\n",
    "import pandas as pd\n",
    "import matplotlib.pyplot as plt"
   ]
  },
  {
   "cell_type": "markdown",
   "metadata": {},
   "source": [
    "##  연도별 교육 수준"
   ]
  },
  {
   "cell_type": "code",
   "execution_count": 43,
   "metadata": {
    "ExecuteTime": {
     "end_time": "2019-06-06T13:01:47.679714Z",
     "start_time": "2019-06-06T13:01:47.672229Z"
    }
   },
   "outputs": [],
   "source": [
    "bins = np.array([0, 5, 8, 9, 12, 13, 16,17])\n",
    "widths = bins[1:] - bins[:-1]\n",
    "\n",
    "freq_1960 = np.array([8, 14, 18, 19, 25, 9,8])\n",
    "freq_1970 = np.array([6, 10, 13, 19, 31, 11,11])\n",
    "freq_1991 = np.array([2, 4, 4, 11, 39, 18,21])\n",
    "\n",
    "ratio_1960 = (freq_1960/freq_1960.sum())*100\n",
    "ratio_1970 = (freq_1970/freq_1970.sum())*100\n",
    "ratio_1991 = (freq_1991/freq_1991.sum())*100\n",
    "\n",
    "height_1960 = ratio_1960.astype(np.float)/widths\n",
    "height_1970 = ratio_1970.astype(np.float)/widths\n",
    "height_1991 = ratio_1991.astype(np.float)/widths"
   ]
  },
  {
   "cell_type": "code",
   "execution_count": 53,
   "metadata": {
    "ExecuteTime": {
     "end_time": "2019-06-06T13:08:17.303892Z",
     "start_time": "2019-06-06T13:08:16.981977Z"
    }
   },
   "outputs": [
    {
     "data": {
      "image/png": "[encoded data removed]",
      "text/plain": [
       "<Figure size 864x360 with 1 Axes>"
      ]
     },
     "metadata": {
      "needs_background": "light"
     },
     "output_type": "display_data"
    }
   ],
   "source": [
    "# 1991\n",
    "plt.figure(figsize = (12,5))\n",
    "\n",
    "plt.fill_between(bins.repeat(2)[1:-1],height_1960.repeat(2), \n",
    "                 alpha = 0.5, label = '1960', color = 'red')\n",
    "plt.fill_between(bins.repeat(2)[1:-1],height_1970.repeat(2), \n",
    "                 alpha = 0.5, label = '1970', color = 'blue')\n",
    "# plt.fill_between(bins.repeat(2)[1:-1],height_1991.repeat(2), \n",
    "#                  alpha = 0.5, label = '1991', color = 'blue')\n",
    "\n",
    "\n",
    "plt.legend()\n",
    "plt.show()"
   ]
  },
  {
   "cell_type": "markdown",
   "metadata": {},
   "source": [
    "## 여성 교육 수준별 자녀 수"
   ]
  },
  {
   "cell_type": "code",
   "execution_count": 67,
   "metadata": {
    "ExecuteTime": {
     "end_time": "2019-06-06T13:36:05.676788Z",
     "start_time": "2019-06-06T13:36:05.660916Z"
    }
   },
   "outputs": [
    {
     "data": {
      "text/html": [
       "<div>\n",
       "<style scoped>\n",
       "    .dataframe tbody tr th:only-of-type {\n",
       "        vertical-align: middle;\n",
       "    }\n",
       "\n",
       "    .dataframe tbody tr th {\n",
       "        vertical-align: top;\n",
       "    }\n",
       "\n",
       "    .dataframe thead th {\n",
       "        text-align: right;\n",
       "    }\n",
       "</style>\n",
       "<table border=\"1\" class=\"dataframe\">\n",
       "  <thead>\n",
       "    <tr style=\"text-align: right;\">\n",
       "      <th></th>\n",
       "      <th>n_child</th>\n",
       "      <th>highschool_women</th>\n",
       "      <th>univ_women</th>\n",
       "    </tr>\n",
       "  </thead>\n",
       "  <tbody>\n",
       "    <tr>\n",
       "      <th>0</th>\n",
       "      <td>0</td>\n",
       "      <td>25.4</td>\n",
       "      <td>49.3</td>\n",
       "    </tr>\n",
       "    <tr>\n",
       "      <th>1</th>\n",
       "      <td>1</td>\n",
       "      <td>24.5</td>\n",
       "      <td>18.8</td>\n",
       "    </tr>\n",
       "    <tr>\n",
       "      <th>2</th>\n",
       "      <td>2</td>\n",
       "      <td>32.0</td>\n",
       "      <td>23.0</td>\n",
       "    </tr>\n",
       "    <tr>\n",
       "      <th>3</th>\n",
       "      <td>3</td>\n",
       "      <td>13.2</td>\n",
       "      <td>7.1</td>\n",
       "    </tr>\n",
       "    <tr>\n",
       "      <th>4</th>\n",
       "      <td>4</td>\n",
       "      <td>3.7</td>\n",
       "      <td>1.5</td>\n",
       "    </tr>\n",
       "    <tr>\n",
       "      <th>5</th>\n",
       "      <td>5</td>\n",
       "      <td>1.1</td>\n",
       "      <td>0.4</td>\n",
       "    </tr>\n",
       "  </tbody>\n",
       "</table>\n",
       "</div>"
      ],
      "text/plain": [
       "   n_child  highschool_women  univ_women\n",
       "0        0              25.4        49.3\n",
       "1        1              24.5        18.8\n",
       "2        2              32.0        23.0\n",
       "3        3              13.2         7.1\n",
       "4        4               3.7         1.5\n",
       "5        5               1.1         0.4"
      ]
     },
     "execution_count": 67,
     "metadata": {},
     "output_type": "execute_result"
    }
   ],
   "source": [
    "n_child = [0, 1, 2, 3, 4, 5]\n",
    "high_school_women = [25.4, 24.5, 32.0, 13.2, 3.7, 1.1]\n",
    "univ_women = [49.3, 18.8, 23.0, 7.1, 1.5, 0.4]\n",
    "temp = list(zip(n_child, high_school_women, univ_women))\n",
    "df_women = pd.DataFrame(temp, columns=['n_child', 'highschool_women', 'univ_women'])\n",
    "df_women"
   ]
  },
  {
   "cell_type": "code",
   "execution_count": 76,
   "metadata": {
    "ExecuteTime": {
     "end_time": "2019-06-06T13:41:36.529907Z",
     "start_time": "2019-06-06T13:41:36.376383Z"
    }
   },
   "outputs": [
    {
     "data": {
      "image/png": "[encoded data removed]",
      "text/plain": [
       "<Figure size 864x360 with 1 Axes>"
      ]
     },
     "metadata": {
      "needs_background": "light"
     },
     "output_type": "display_data"
    }
   ],
   "source": [
    "plt.figure(figsize=(12,5))\n",
    "x_pos = np.arange(df_women.shape[0])\n",
    "plt.bar(x=x_pos, height=df_women['highschool_women'],\n",
    "        alpha = 0.5, label='highschool')\n",
    "plt.bar(x=x_pos, height=df_women['univ_women'], \n",
    "        alpha = 0.5, label='univ')\n",
    "plt.xticks(x_pos, df_women['n_child'])\n",
    "plt.legend()\n",
    "plt.show()"
   ]
  },
  {
   "cell_type": "code",
   "execution_count": null,
   "metadata": {},
   "outputs": [],
   "source": []
  }
 ],
 "metadata": {
  "kernelspec": {
   "display_name": "Python 3",
   "language": "python",
   "name": "python3"
  },
  "language_info": {
   "codemirror_mode": {
    "name": "ipython",
    "version": 3
   },
   "file_extension": ".py",
   "mimetype": "text/x-python",
   "name": "python",
   "nbconvert_exporter": "python",
   "pygments_lexer": "ipython3",
   "version": "3.7.0"
  },
  "toc": {
   "base_numbering": 1,
   "nav_menu": {},
   "number_sections": true,
   "sideBar": true,
   "skip_h1_title": true,
   "title_cell": "Table of Contents",
   "title_sidebar": "Contents",
   "toc_cell": true,
   "toc_position": {},
   "toc_section_display": true,
   "toc_window_display": false
  },
  "varInspector": {
   "cols": {
    "lenName": 16,
    "lenType": 16,
    "lenVar": 40
   },
   "kernels_config": {
    "python": {
     "delete_cmd_postfix": "",
     "delete_cmd_prefix": "del ",
     "library": "var_list.py",
     "varRefreshCmd": "print(var_dic_list())"
    },
    "r": {
     "delete_cmd_postfix": ") ",
     "delete_cmd_prefix": "rm(",
     "library": "var_list.r",
     "varRefreshCmd": "cat(var_dic_list()) "
    }
   },
   "types_to_exclude": [
    "module",
    "function",
    "builtin_function_or_method",
    "instance",
    "_Feature"
   ],
   "window_display": false
  }
 },
 "nbformat": 4,
 "nbformat_minor": 2
}
