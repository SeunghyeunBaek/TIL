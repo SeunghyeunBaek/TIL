{
 "cells": [
  {
   "cell_type": "code",
   "execution_count": 12,
   "metadata": {
    "ExecuteTime": {
     "end_time": "2019-06-15T11:48:33.794710Z",
     "start_time": "2019-06-15T11:48:33.790742Z"
    },
    "hide_input": false
   },
   "outputs": [],
   "source": [
    "import pandas as pd\n",
    "import numpy as np\n",
    "import matplotlib.pyplot as plt\n",
    "import matplotlib\n",
    "matplotlib.rcParams['figure.figsize'] = (12,5)\n",
    "import seaborn as sb\n",
    "\n",
    "\n",
    "from sklearn.linear_model import LinearRegression\n",
    "from statsmodels.regression.linear_model import OLS"
   ]
  },
  {
   "cell_type": "markdown",
   "metadata": {},
   "source": [
    "1.연령을 가로축으로 시간당 임금을 세로축으로 하는 산포도를 그려라\n",
    "    * 주평균 소득 = 월 평균 소득/4\n",
    "    * 봉급 생활자 시간당 평균 소득 = 주 평균 소득 / P15\n",
    "    * 자영업자 시간당 평균 소득 = 주 평균 소득 / P25"
   ]
  },
  {
   "cell_type": "code",
   "execution_count": 40,
   "metadata": {
    "ExecuteTime": {
     "end_time": "2019-06-15T11:58:26.305727Z",
     "start_time": "2019-06-15T11:58:26.108768Z"
    },
    "hide_input": true
   },
   "outputs": [],
   "source": [
    "# load and slice data\n",
    "data_route = r'D:\\document\\data\\통계학_류근관\\daewoo.xls'\n",
    "df = pd.read_excel(data_route)\n",
    "\n",
    "tmp_df = df[(df['JOB1']==1)|(df['JOB1']==2)].copy()\n",
    "tmp_df.reset_index(drop=True, inplace=True)\n",
    "w = []\n",
    "for i in range(tmp_df.shape[0]):\n",
    "    row = tmp_df.iloc[i]\n",
    "    if row['JOB1'] == 1:\n",
    "        w.append((row['P19']/4)/row['P15'])\n",
    "    else:\n",
    "        w.append((row['P29']/4)/row['P25'])\n",
    "tmp_df['INCOME_PER_HOUR'] = w\n",
    "tmp_df['INCOME_PER_HOUR'].fillna(np.mean(tmp_df['INCOME_PER_HOUR']), inplace=True)"
   ]
  },
  {
   "cell_type": "code",
   "execution_count": 41,
   "metadata": {
    "ExecuteTime": {
     "end_time": "2019-06-15T11:58:32.634993Z",
     "start_time": "2019-06-15T11:58:32.414499Z"
    }
   },
   "outputs": [
    {
     "data": {
      "image/png": "[encoded data removed]",
      "text/plain": [
       "<Figure size 864x360 with 1 Axes>"
      ]
     },
     "metadata": {
      "needs_background": "light"
     },
     "output_type": "display_data"
    }
   ],
   "source": [
    "plt.scatter(x=tmp_df['AGE1'], y=tmp_df['INCOME_PER_HOUR'], color='deepskyblue')\n",
    "plt.show()"
   ]
  },
  {
   "cell_type": "markdown",
   "metadata": {},
   "source": [
    "2. 다음 회귀분석 모형을 이용해 연령집단별 시간당 임금이 어떻게 다른지 분석하라.\n",
    "\n",
    "`w = a+b*AGE+u`"
   ]
  },
  {
   "cell_type": "code",
   "execution_count": 50,
   "metadata": {
    "ExecuteTime": {
     "end_time": "2019-06-15T11:59:54.478476Z",
     "start_time": "2019-06-15T11:59:54.472524Z"
    }
   },
   "outputs": [],
   "source": [
    "x = tmp_df['AGE1'].values.reshape(-1, 1)\n",
    "y = tmp_df['INCOME_PER_HOUR'].values.reshape(-1, 1)\n",
    "lm_2 = LinearRegression()\n",
    "lm_2.fit(x, y)\n",
    "\n",
    "coef_2 = lm_2.coef_[0][0]\n",
    "inter_2 = lm_2.intercept_[0]\n",
    "r_2 = lm_2.score(x, y)"
   ]
  },
  {
   "cell_type": "markdown",
   "metadata": {
    "variables": {
     "round(coef_2,3)": "0.002",
     "round(inter_2,3)": "0.513",
     "round(r_2*100,3)": "0.293"
    }
   },
   "source": [
    "* b = {{round(coef_2,3)}} : 연령이 한살 증가할 때 마다 시간당 임금은 20원 증가하는 경향\n",
    "* a+u = {{round(inter_2,3)}} : 23세(최소 연령)의 시간당 임금 평균은 약 5130원\n",
    "* r^2 = {{round(r_2*100,3)}} : 0.3%로 설명력이 적다. 회귀 직선으로 설명할 수 있는 변동이 너무 적기에 좋은 모델이라고 할 수 없다. \n"
   ]
  },
  {
   "cell_type": "markdown",
   "metadata": {
    "ExecuteTime": {
     "end_time": "2019-06-15T04:48:52.971019Z",
     "start_time": "2019-06-15T04:48:52.965067Z"
    }
   },
   "source": [
    "3. 다음 회귀식으로 연령별 임금 분포를 설명하라  \n",
    "`W = a + b*AGE + c*AGE^2 + u`  "
   ]
  },
  {
   "cell_type": "code",
   "execution_count": 61,
   "metadata": {
    "ExecuteTime": {
     "end_time": "2019-06-15T12:07:46.797253Z",
     "start_time": "2019-06-15T12:07:46.791301Z"
    }
   },
   "outputs": [],
   "source": [
    "age = tmp_df['AGE1'].values.reshape(-1, 1)\n",
    "age_squared = np.square(age)\n",
    "x = np.hstack((age, age_squared))\n",
    "lm_3 = LinearRegression()\n",
    "lm_3.fit(x, y)\n",
    "\n",
    "coef_3 = lm_3.coef_[0]\n",
    "inter_3 = lm_3.intercept_[0]\n",
    "r_3 = lm_3.score(x, y)"
   ]
  },
  {
   "cell_type": "markdown",
   "metadata": {
    "ExecuteTime": {
     "end_time": "2019-06-15T12:07:52.698656Z",
     "start_time": "2019-06-15T12:07:52.692706Z"
    },
    "variables": {
     "round(coef_3[0],3)": "0.069",
     "round(coef_3[1],3)": "-0.001",
     "round(inter_3,3)": "-0.892"
    }
   },
   "source": [
    "* a+u = {{round(inter_3,3)}}\n",
    "* b = {{round(coef_3[0],3)}}: 1) 한살 증가할 때 마다 시간당 임금은 690원 증가하는 추세\n",
    "* c = {{round(coef_3[1],3)}}  \n",
    "\n",
    "\n",
    "회귀선은 포물선 형태로 번했다. 45-50세 집단에서 최대 임금 발생.\n"
   ]
  },
  {
   "cell_type": "code",
   "execution_count": 89,
   "metadata": {
    "ExecuteTime": {
     "end_time": "2019-06-15T12:14:59.246557Z",
     "start_time": "2019-06-15T12:14:58.592275Z"
    }
   },
   "outputs": [
    {
     "data": {
      "image/png": "[encoded data removed]",
      "text/plain": [
       "<Figure size 864x360 with 1 Axes>"
      ]
     },
     "metadata": {
      "needs_background": "light"
     },
     "output_type": "display_data"
    }
   ],
   "source": [
    "y_pred = lm_3.predict(x)\n",
    "plt.scatter(x=tmp_df['AGE1'], y=tmp_df['INCOME_PER_HOUR'], color='deepskyblue')\n",
    "sb.lineplot(tmp_df['AGE1'], y_pred.reshape(1,-1)[0], color='deeppink')\n",
    "plt.show()"
   ]
  },
  {
   "cell_type": "markdown",
   "metadata": {},
   "source": [
    "3. 다음 회귀분석 모형을 이용해 성별이 임금에 미치는 영향을 분석하라  \n",
    "`w = a + b*AGE + c*AGE^2 + d*SEX + u`    "
   ]
  },
  {
   "cell_type": "code",
   "execution_count": 106,
   "metadata": {
    "ExecuteTime": {
     "end_time": "2019-06-15T12:27:39.871083Z",
     "start_time": "2019-06-15T12:27:39.863645Z"
    }
   },
   "outputs": [],
   "source": [
    "sex = (tmp_df['SEX1']-1).values.reshape(-1, 1)\n",
    "x = np.hstack((age, age_squared, sex))\n",
    "lm_4 = LinearRegression().fit(x, y)\n",
    "coef_4 = lm_4.coef_[0]\n",
    "inter_4 = lm_4.intercept_[0]\n",
    "r_4 = lm_4.score(x, y)"
   ]
  },
  {
   "cell_type": "markdown",
   "metadata": {
    "variables": {
     " round(coef_4[0], 3) ": "0.068",
     " round(coef_4[1], 3) ": "-0.001",
     " round(coef_4[2], 3) ": "-0.166",
     " round(inter_4, 3) ": "-0.866",
     " round(r_4, 3) ": "0.041"
    }
   },
   "source": [
    "* a+u = {{ round(inter_4, 3) }}\n",
    "* b = {{ round(coef_4[0], 3) }}\n",
    "* c = {{ round(coef_4[1], 3) }}\n",
    "* d = {{ round(coef_4[2], 3) }} : 남성은 여성에 비해 시간당 임금이 1660원 적다고 해석할 수 없다. 직군이 혼동요인으로 작용할 수 있다.\n",
    "* r_squared = {{ round(r_4, 3) }} : r square 값이 0.041로 여전히 낮다."
   ]
  },
  {
   "cell_type": "code",
   "execution_count": 118,
   "metadata": {
    "ExecuteTime": {
     "end_time": "2019-06-15T12:30:35.901916Z",
     "start_time": "2019-06-15T12:30:34.959549Z"
    }
   },
   "outputs": [
    {
     "data": {
      "image/png": "[encoded data removed]",
      "text/plain": [
       "<Figure size 864x360 with 1 Axes>"
      ]
     },
     "metadata": {
      "needs_background": "light"
     },
     "output_type": "display_data"
    }
   ],
   "source": [
    "y_pred = lm_4.predict(x)\n",
    "plt.scatter(x=tmp_df['AGE1'], y=tmp_df['INCOME_PER_HOUR'], color='deepskyblue')\n",
    "sb.lineplot(tmp_df['AGE1'], y_pred.reshape(1,-1)[0], color='deeppink')\n",
    "\n",
    "sb.lineplot(tmp_df['AGE1'], y_pred.reshape(1,-1)[0], color='deeppink')\n",
    "plt.show()"
   ]
  },
  {
   "cell_type": "markdown",
   "metadata": {},
   "source": [
    "4. 다음 회귀분석 모형을 이용해 성별이 임금에 미치는 영향을 분석하라  \n",
    "`w = a + b*AGE + c*AGE^2 + d*SEX + e*MAR + u`    "
   ]
  },
  {
   "cell_type": "code",
   "execution_count": 137,
   "metadata": {
    "ExecuteTime": {
     "end_time": "2019-06-15T12:38:19.202305Z",
     "start_time": "2019-06-15T12:38:19.194309Z"
    }
   },
   "outputs": [],
   "source": [
    "mar = tmp_df['MAR'].apply(lambda x : 1 if x != 2 else 0).values.reshape(-1, 1)\n",
    "x = np.hstack((age, age_squared, sex, mar))\n",
    "lm_5 = LinearRegression().fit(x, y)\n",
    "coef_5 = lm_5.coef_[0]\n",
    "inter_5 = lm_5.intercept_[0]\n",
    "r_5 = lm_5.score(x, y)"
   ]
  },
  {
   "cell_type": "markdown",
   "metadata": {
    "ExecuteTime": {
     "end_time": "2019-06-15T12:40:20.675152Z",
     "start_time": "2019-06-15T12:40:20.669667Z"
    },
    "variables": {
     " round(coef_5[0], 3) ": "0.074",
     " round(coef_5[1], 3) ": "-0.001",
     " round(coef_5[2], 3) ": "-0.201",
     " round(coef_5[3], 3) ": "-0.195",
     " round(inter_5, 3) ": "-0.819",
     " round(r_5, 3) ": "0.048"
    }
   },
   "source": [
    "* a+u = {{ round(inter_5, 3) }}\n",
    "* b = {{ round(coef_5[0], 3) }}\n",
    "* c = {{ round(coef_5[1], 3) }}\n",
    "* d = {{ round(coef_5[2], 3) }}\n",
    "* e = {{ round(coef_5[3], 3) }}\n",
    "* r_squared = {{ round(r_5, 3) }}"
   ]
  },
  {
   "cell_type": "code",
   "execution_count": 141,
   "metadata": {
    "ExecuteTime": {
     "end_time": "2019-06-15T12:40:24.365918Z",
     "start_time": "2019-06-15T12:40:23.229101Z"
    }
   },
   "outputs": [
    {
     "data": {
      "image/png": "[encoded data removed]",
      "text/plain": [
       "<Figure size 864x360 with 1 Axes>"
      ]
     },
     "metadata": {
      "needs_background": "light"
     },
     "output_type": "display_data"
    }
   ],
   "source": [
    "y_pred = lm_5.predict(x)\n",
    "plt.scatter(x=tmp_df['AGE1'], y=tmp_df['INCOME_PER_HOUR'], color='deepskyblue')\n",
    "sb.lineplot(tmp_df['AGE1'], y_pred.reshape(1,-1)[0], color='deeppink')\n",
    "\n",
    "sb.lineplot(tmp_df['AGE1'], y_pred.reshape(1,-1)[0], color='deeppink')\n",
    "plt.show()"
   ]
  },
  {
   "cell_type": "markdown",
   "metadata": {},
   "source": [
    "아파트 가격 문제"
   ]
  },
  {
   "cell_type": "code",
   "execution_count": null,
   "metadata": {},
   "outputs": [],
   "source": []
  }
 ],
 "metadata": {
  "kernelspec": {
   "display_name": "Python 3",
   "language": "python",
   "name": "python3"
  },
  "language_info": {
   "codemirror_mode": {
    "name": "ipython",
    "version": 3
   },
   "file_extension": ".py",
   "mimetype": "text/x-python",
   "name": "python",
   "nbconvert_exporter": "python",
   "pygments_lexer": "ipython3",
   "version": "3.7.0"
  },
  "toc": {
   "base_numbering": 1,
   "nav_menu": {},
   "number_sections": true,
   "sideBar": true,
   "skip_h1_title": true,
   "title_cell": "Table of Contents",
   "title_sidebar": "Contents",
   "toc_cell": false,
   "toc_position": {},
   "toc_section_display": true,
   "toc_window_display": false
  },
  "varInspector": {
   "cols": {
    "lenName": 16,
    "lenType": 16,
    "lenVar": 40
   },
   "kernels_config": {
    "python": {
     "delete_cmd_postfix": "",
     "delete_cmd_prefix": "del ",
     "library": "var_list.py",
     "varRefreshCmd": "print(var_dic_list())"
    },
    "r": {
     "delete_cmd_postfix": ") ",
     "delete_cmd_prefix": "rm(",
     "library": "var_list.r",
     "varRefreshCmd": "cat(var_dic_list()) "
    }
   },
   "types_to_exclude": [
    "module",
    "function",
    "builtin_function_or_method",
    "instance",
    "_Feature"
   ],
   "window_display": false
  }
 },
 "nbformat": 4,
 "nbformat_minor": 2
}
