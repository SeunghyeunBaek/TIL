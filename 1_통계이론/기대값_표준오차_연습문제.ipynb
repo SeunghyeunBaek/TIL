{
 "cells": [
  {
   "cell_type": "markdown",
   "metadata": {
    "toc": true
   },
   "source": [
    "<h1>Table of Contents<span class=\"tocSkip\"></span></h1>\n",
    "<div class=\"toc\"><ul class=\"toc-item\"><li><span><a href=\"#기대값과-표준오차\" data-toc-modified-id=\"기대값과-표준오차-1\"><span class=\"toc-item-num\">1&nbsp;&nbsp;</span>기대값과 표준오차</a></span></li><li><span><a href=\"#예제\" data-toc-modified-id=\"예제-2\"><span class=\"toc-item-num\">2&nbsp;&nbsp;</span>예제</a></span><ul class=\"toc-item\"><li><span><a href=\"#어느-카지노에서-룰렛-하나당-게임이-한달에-만번씩-진행된다고-가정하자.-한번의-룰렛-게임에서-카지노측이-돈을-딸-확률은-20/38,-잃을-확률은-18/38-이다.-한-게임당-돈을-천원씩-걸-때,-한달간-25만원-이상-딸-확률을-구하라\" data-toc-modified-id=\"어느-카지노에서-룰렛-하나당-게임이-한달에-만번씩-진행된다고-가정하자.-한번의-룰렛-게임에서-카지노측이-돈을-딸-확률은-20/38,-잃을-확률은-18/38-이다.-한-게임당-돈을-천원씩-걸-때,-한달간-25만원-이상-딸-확률을-구하라-2.1\"><span class=\"toc-item-num\">2.1&nbsp;&nbsp;</span>어느 카지노에서 룰렛 하나당 게임이 한달에 만번씩 진행된다고 가정하자. 한번의 룰렛 게임에서 카지노측이 돈을 딸 확률은 20/38, 잃을 확률은 18/38 이다. 한 게임당 돈을 천원씩 걸 때, 한달간 25만원 이상 딸 확률을 구하라</a></span></li></ul></li><li><span><a href=\"#연습문제\" data-toc-modified-id=\"연습문제-3\"><span class=\"toc-item-num\">3&nbsp;&nbsp;</span>연습문제</a></span><ul class=\"toc-item\"><li><span><a href=\"#-1,1-이-한장씩-들어있는-카드에서-무작위-추출한다.-다음-각-경우에서-10번-추출,-100번-추출-하는-쪽-중-유리한-경우를-골라라.\" data-toc-modified-id=\"-1,1-이-한장씩-들어있는-카드에서-무작위-추출한다.-다음-각-경우에서-10번-추출,-100번-추출-하는-쪽-중-유리한-경우를-골라라.-3.1\"><span class=\"toc-item-num\">3.1&nbsp;&nbsp;</span>-1,1 이 한장씩 들어있는 카드에서 무작위 추출한다. 다음 각 경우에서 10번 추출, 100번 추출 하는 쪽 중 유리한 경우를 골라라.</a></span></li><li><span><a href=\"#다음-두가지-중-한가지를-선택할-때-유리한-쪽은?\" data-toc-modified-id=\"다음-두가지-중-한가지를-선택할-때-유리한-쪽은?-3.2\"><span class=\"toc-item-num\">3.2&nbsp;&nbsp;</span>다음 두가지 중 한가지를 선택할 때 유리한 쪽은?</a></span></li></ul></li></ul></div>"
   ]
  },
  {
   "cell_type": "code",
   "execution_count": 48,
   "metadata": {
    "ExecuteTime": {
     "end_time": "2019-07-01T02:36:07.172162Z",
     "start_time": "2019-07-01T02:36:07.167180Z"
    }
   },
   "outputs": [],
   "source": [
    "import matplotlib.pyplot as plt\n",
    "import numpy as np\n",
    "import pandas as pd\n",
    "import scipy.stats as stats\n",
    "import math"
   ]
  },
  {
   "cell_type": "markdown",
   "metadata": {},
   "source": [
    "## 기대값과 표준오차\n",
    "* 기대값: 분포의 중심이 되는 값\n",
    "* 확률오차: 기대값과 실제 시행에서 나온 확률간의 차이\n",
    "* 표준오차: 확률 오차의 표준적 크기\n",
    "    * 합의 표준오차 = 상자의 표준편차 x sqrt(추출 횟수)\n",
    "    * 상자으 표준편차는 개념상 모표준편차에 해당한다.\n"
   ]
  },
  {
   "cell_type": "markdown",
   "metadata": {},
   "source": [
    "## 예제"
   ]
  },
  {
   "cell_type": "markdown",
   "metadata": {},
   "source": [
    "### 어느 카지노에서 룰렛 하나당 게임이 한달에 만번씩 진행된다고 가정하자. 한번의 룰렛 게임에서 카지노측이 돈을 딸 확률은 20/38, 잃을 확률은 18/38 이다. 한 게임당 돈을 천원씩 걸 때, 한달간 25만원 이상 딸 확률을 구하라"
   ]
  },
  {
   "cell_type": "code",
   "execution_count": 4,
   "metadata": {
    "ExecuteTime": {
     "end_time": "2019-07-01T01:39:56.196758Z",
     "start_time": "2019-07-01T01:39:56.190772Z"
    }
   },
   "outputs": [
    {
     "name": "stdout",
     "output_type": "stream",
     "text": [
      "\n",
      "exp_win: 526.3157894736842 won\n",
      "\n",
      "exp_lose: 473.6842105263158 won\n",
      "\n"
     ]
    }
   ],
   "source": [
    "n = 10000\n",
    "prob_win = 20/38\n",
    "prob_lose = 18/38\n",
    "betting = 1000\n",
    "exp_win = betting*prob_win\n",
    "exp_lose = betting*prob_lose\n",
    "print(f'''\n",
    "exp_win: {exp_win} won\\n\n",
    "exp_lose: {exp_lose} won\n",
    "''')"
   ]
  },
  {
   "cell_type": "markdown",
   "metadata": {
    "ExecuteTime": {
     "end_time": "2019-07-01T01:41:08.761905Z",
     "start_time": "2019-07-01T01:41:08.752913Z"
    }
   },
   "source": [
    "**상자모형으로 생각하기**  \n",
    "상자안에 38장의 카드가 있다. +1000카드는 20장, -1000카드는 18장이 있다. 10000번을 뽑을 때 카드 숫자의 합이 250000이상일 확률은?"
   ]
  },
  {
   "cell_type": "code",
   "execution_count": 17,
   "metadata": {
    "ExecuteTime": {
     "end_time": "2019-07-01T01:55:30.526484Z",
     "start_time": "2019-07-01T01:55:30.520526Z"
    }
   },
   "outputs": [
    {
     "name": "stdout",
     "output_type": "stream",
     "text": [
      "\n",
      "mu: 52.63157894736838\n",
      "\n",
      "sigma: 998.6139979479093\n",
      "\n",
      "exp_earn: 526315.7894736838\n",
      "\n",
      "se: 99861.39979479092\n",
      "\n"
     ]
    }
   ],
   "source": [
    "# 상자의 평균\n",
    "mu = 1000*prob_win - 1000*prob_lose\n",
    "sd = math.sqrt((1000-mu)**2*prob_win + (-1000 - mu)**2*prob_lose)\n",
    "# 순 이득에 대한 기대값, 합의 기대값 = 추춧횟수 x 상자의 평균\n",
    "exp_earn = mu*n\n",
    "# 합의 표준오차 = sqrt(추출횟수) x 상자의 표준편차\n",
    "se = math.sqrt(n) * sigma\n",
    "print(f'''\n",
    "mu: {mu}\\n\n",
    "sigma: {sigma}\\n\n",
    "exp_earn: {exp_earn}\\n\n",
    "se: {se}\n",
    "''')"
   ]
  },
  {
   "cell_type": "markdown",
   "metadata": {},
   "source": [
    "`25만원 = 50만원 - 25만원 = 평균 - 2.5 * SE` 와 같다. 정규분포 상에서 p(z>-2.5) = 99%다."
   ]
  },
  {
   "cell_type": "markdown",
   "metadata": {},
   "source": [
    "## 연습문제"
   ]
  },
  {
   "cell_type": "markdown",
   "metadata": {},
   "source": [
    "### -1,1 이 한장씩 들어있는 카드에서 무작위 추출한다. 다음 각 경우에서 10번 추출, 100번 추출 하는 쪽 중 유리한 경우를 골라라."
   ]
  },
  {
   "cell_type": "code",
   "execution_count": 24,
   "metadata": {
    "ExecuteTime": {
     "end_time": "2019-07-01T02:11:31.054833Z",
     "start_time": "2019-07-01T02:11:31.047852Z"
    }
   },
   "outputs": [
    {
     "name": "stdout",
     "output_type": "stream",
     "text": [
      "\n",
      "mu: 0.0\n",
      "sd: 1.0\n",
      "\n",
      "exp_sum1: 0.0\n",
      "exp_sum2: 0.0\n",
      "se1(n = 10): 3.1622776601683795\n",
      "se2(n = 100): 10.0\n",
      "\n"
     ]
    }
   ],
   "source": [
    "# 상자 평균\n",
    "mu = 0.5 * 1 + 0.5 * -1\n",
    "# 상자 표준편차\n",
    "sd = math.sqrt((0.5 * (1-0) ** 2) + (0.5 * (-1 - 0) ** 2))\n",
    "\n",
    "n1 = 10\n",
    "n2 = 100\n",
    "\n",
    "# 표준오차\n",
    "se1 = math.sqrt(n1) * sd\n",
    "se2 = math.sqrt(n2) * sd\n",
    "\n",
    "# 합의 기대값\n",
    "exp_sum1 = n1 * mu\n",
    "exp_sum2 = n2 * mu\n",
    "\n",
    "print(f'''\n",
    "mu: {mu}\n",
    "sd: {sd}\n",
    "\n",
    "exp_sum1: {exp_sum1}\n",
    "exp_sum2: {exp_sum2}\n",
    "se1(n = 10): {se1}\n",
    "se2(n = 100): {se2}\n",
    "''')"
   ]
  },
  {
   "cell_type": "markdown",
   "metadata": {},
   "source": [
    "* 합이 5 이상이면 1원을 번다 => 100번\n",
    "* 합이 -5 이하면 1원을 번다 => 100번\n",
    "* 합이 -5에서 5사이일 때 1원을 번다 => 10번"
   ]
  },
  {
   "cell_type": "code",
   "execution_count": 41,
   "metadata": {
    "ExecuteTime": {
     "end_time": "2019-07-01T02:18:46.294873Z",
     "start_time": "2019-07-01T02:18:46.082441Z"
    }
   },
   "outputs": [
    {
     "data": {
      "image/png": "[encoded data removed]",
      "text/plain": [
       "<Figure size 864x360 with 1 Axes>"
      ]
     },
     "metadata": {
      "needs_background": "light"
     },
     "output_type": "display_data"
    }
   ],
   "source": [
    "plt.figure(figsize=(12,5))\n",
    "x1 = np.linspace(exp_sum1 - 3 * se1, exp_sum1 + 3* se1)\n",
    "x2 = np.linspace(exp_sum2 - 3 * se2, exp_sum2 + 3* se2)\n",
    "\n",
    "plt.plot(x1, stats.norm.pdf(x1, exp_sum1, se1), label='n=10')\n",
    "plt.plot(x2, stats.norm.pdf(x2, exp_sum2, se2), label='n=100')\n",
    "\n",
    "plt.axvline(x=5, color='green')\n",
    "plt.axvline(x=-5, color='green')\n",
    "\n",
    "plt.legend()\n",
    "plt.show()"
   ]
  },
  {
   "cell_type": "markdown",
   "metadata": {},
   "source": [
    "### 다음 두가지 중 한가지를 선택할 때 유리한 쪽은?\n",
    "1) 1, 1, 5, 7, 8, 8 이 들어있는 상자 100번 무작위 추출  \n",
    "2) 14, 17, 21, 23, 25 이 들어있는 상자 25번 무작위 추출\n",
    "\n",
    "1. 합이 550 이상이면 1000원을 번다\n",
    "2. 합이 450 이하면 1000원을 번다\n",
    "3. 합이 450에서 550사이면 1000원을 번다"
   ]
  },
  {
   "cell_type": "code",
   "execution_count": 82,
   "metadata": {
    "ExecuteTime": {
     "end_time": "2019-07-01T02:50:25.329602Z",
     "start_time": "2019-07-01T02:50:25.133090Z"
    }
   },
   "outputs": [
    {
     "data": {
      "text/html": [
       "<div>\n",
       "<style scoped>\n",
       "    .dataframe tbody tr th:only-of-type {\n",
       "        vertical-align: middle;\n",
       "    }\n",
       "\n",
       "    .dataframe tbody tr th {\n",
       "        vertical-align: top;\n",
       "    }\n",
       "\n",
       "    .dataframe thead th {\n",
       "        text-align: right;\n",
       "    }\n",
       "</style>\n",
       "<table border=\"1\" class=\"dataframe\">\n",
       "  <thead>\n",
       "    <tr style=\"text-align: right;\">\n",
       "      <th></th>\n",
       "      <th>mu</th>\n",
       "      <th>sd</th>\n",
       "      <th>n</th>\n",
       "      <th>sum_exp</th>\n",
       "      <th>se</th>\n",
       "    </tr>\n",
       "  </thead>\n",
       "  <tbody>\n",
       "    <tr>\n",
       "      <th>0</th>\n",
       "      <td>5.0</td>\n",
       "      <td>3.0</td>\n",
       "      <td>100</td>\n",
       "      <td>500.0</td>\n",
       "      <td>30.0</td>\n",
       "    </tr>\n",
       "    <tr>\n",
       "      <th>1</th>\n",
       "      <td>20.0</td>\n",
       "      <td>4.0</td>\n",
       "      <td>25</td>\n",
       "      <td>500.0</td>\n",
       "      <td>20.0</td>\n",
       "    </tr>\n",
       "  </tbody>\n",
       "</table>\n",
       "</div>"
      ],
      "text/plain": [
       "     mu   sd    n  sum_exp    se\n",
       "0   5.0  3.0  100    500.0  30.0\n",
       "1  20.0  4.0   25    500.0  20.0"
      ]
     },
     "metadata": {},
     "output_type": "display_data"
    },
    {
     "data": {
      "image/png": "[encoded data removed]",
      "text/plain": [
       "<Figure size 864x360 with 1 Axes>"
      ]
     },
     "metadata": {
      "needs_background": "light"
     },
     "output_type": "display_data"
    }
   ],
   "source": [
    "list1 = [1, 1, 5, 7, 8, 8]\n",
    "list2 = [14, 17, 21, 23, 25]\n",
    "\n",
    "mu = [np.mean(list1), np.mean(list2)]\n",
    "sd = [np.std(list1), np.std(list2)]\n",
    "n = [100, 25]\n",
    "sum_exp = [mu[0] * n[0], mu[1] * n[1]]\n",
    "se = [sd[0] * math.sqrt(n[0]), sd[1] * math.sqrt(n[1])]\n",
    "\n",
    "desc_static_df = pd.DataFrame(list(zip(mu, sd, n, sum_exp, se)),\n",
    "                             columns = ['mu', 'sd', 'n', 'sum_exp', 'se'])\n",
    "display(desc_static_df)\n",
    "\n",
    "plt.figure(figsize=(12, 5))\n",
    "x1 = np.linspace(sum_exp[0] - 3 * se[0], sum_exp[0] + 3 * se[0])\n",
    "x2 = np.linspace(sum_exp[1] - 3 * se[1], sum_exp[1] + 3 * se[1])\n",
    "plt.plot(x1, stats.norm.pdf(x1, sum_exp[0], se[0]), label='1')\n",
    "plt.plot(x2, stats.norm.pdf(x2, sum_exp[1], se[1]), label='2')\n",
    "plt.axvline(x=550, color='green')\n",
    "plt.axvline(x=450, color='green')\n",
    "\n",
    "plt.legend()\n",
    "plt.show()"
   ]
  },
  {
   "cell_type": "code",
   "execution_count": null,
   "metadata": {},
   "outputs": [],
   "source": []
  }
 ],
 "metadata": {
  "kernelspec": {
   "display_name": "Python 3",
   "language": "python",
   "name": "python3"
  },
  "language_info": {
   "codemirror_mode": {
    "name": "ipython",
    "version": 3
   },
   "file_extension": ".py",
   "mimetype": "text/x-python",
   "name": "python",
   "nbconvert_exporter": "python",
   "pygments_lexer": "ipython3",
   "version": "3.7.0"
  },
  "toc": {
   "base_numbering": 1,
   "nav_menu": {},
   "number_sections": true,
   "sideBar": true,
   "skip_h1_title": true,
   "title_cell": "Table of Contents",
   "title_sidebar": "Contents",
   "toc_cell": true,
   "toc_position": {},
   "toc_section_display": true,
   "toc_window_display": false
  }
 },
 "nbformat": 4,
 "nbformat_minor": 2
}
