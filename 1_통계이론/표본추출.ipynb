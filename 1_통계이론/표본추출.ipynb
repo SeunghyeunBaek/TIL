{
 "cells": [
  {
   "cell_type": "markdown",
   "metadata": {
    "toc": true
   },
   "source": [
    "<h1>Table of Contents<span class=\"tocSkip\"></span></h1>\n",
    "<div class=\"toc\"><ul class=\"toc-item\"><li><span><a href=\"#모집단과-표본\" data-toc-modified-id=\"모집단과-표본-1\"><span class=\"toc-item-num\">1&nbsp;&nbsp;</span>모집단과 표본</a></span><ul class=\"toc-item\"><li><span><a href=\"#추출과-추론\" data-toc-modified-id=\"추출과-추론-1.1\"><span class=\"toc-item-num\">1.1&nbsp;&nbsp;</span>추출과 추론</a></span></li><li><span><a href=\"#모수와-통계량\" data-toc-modified-id=\"모수와-통계량-1.2\"><span class=\"toc-item-num\">1.2&nbsp;&nbsp;</span>모수와 통계량</a></span></li><li><span><a href=\"#편의\" data-toc-modified-id=\"편의-1.3\"><span class=\"toc-item-num\">1.3&nbsp;&nbsp;</span>편의</a></span></li><li><span><a href=\"#표본추출-방법\" data-toc-modified-id=\"표본추출-방법-1.4\"><span class=\"toc-item-num\">1.4&nbsp;&nbsp;</span>표본추출 방법</a></span></li></ul></li><li><span><a href=\"#연습문제\" data-toc-modified-id=\"연습문제-2\"><span class=\"toc-item-num\">2&nbsp;&nbsp;</span>연습문제</a></span></li></ul></div>"
   ]
  },
  {
   "cell_type": "markdown",
   "metadata": {},
   "source": [
    "## 모집단과 표본\n",
    "\n",
    "### 추출과 추론\n",
    "* 추출: 모집단에서 표본을 골라내는 과정\n",
    "* 추론: 표본의 통계량으로 모수를 알아내는 과정\n",
    "\n",
    "### 모수와 통계량\n",
    "* 모수: 모집단의 특성을 나타내는 수치(평균, 표준편차, 분위수 ..)\n",
    "* 통계량: 표본의 특성을 나태내는 수치\n",
    "    * 사전적 확률변수, 어떤 표본이 추출되냐에 따라 통계량이 다른 값으로 실현될 수 있다.\n",
    "    * 추정량: 모수를 추정할 목적으로 정의하는 통계량(표본평균, 표본표준편차, 표본비율...)\n",
    "    * 검정통계량: 가설검정을 목적으로 정의하는 통계량\n",
    "* 통계치: 표본의 추출됐을 때 결정된 통계량의 값(사후적 실수) \n",
    "\n",
    "\n",
    "**모수추정, 가설검정을 하려면 표본이 모집단을 대표해야 한다**\n",
    "\n",
    "### 편의\n",
    "* 편의: 표본과 모집단간에 발생하는 체계적인 차이\n",
    "    * 표본추출 편의: 모집단 중 특정 특성을 지니는 표본만 추출한 경우\n",
    "        * ex) 여론조사에서 중상위층만 설문조사하고 당선자 예측을 실시\n",
    "    * 무응답편의: 응답자와 무응답자간의 차이에서 발생하는 편의\n",
    "        * ex) 다이제스트사의 여론조사에서 무응답자들은 대부분 루즈벨트를 지지했음\n",
    "    * 응답편의: 설문질문, 조사자의 태도, 질문의 어조에 따라 발생하는 편의 \n",
    "        * ex) 1948년 미국 대선 여론조사에서 후보자 이름 순서를 바꾸자 예측결과가 5% 이상 차이남\n",
    "    * 가구편의: 가구 당 1명을 대상으로 설문조사를 할 경우 인원이 많은 가구의 가구원이 선정될 확률이 작아 발생하는 편의\n",
    "        * ex) 가구 당 1명을 대상으로 대선 여론조사를 실시했다. 이 때 크기가 5인 가구의 가구원이 설문지를 받을 확률은 1/5이다. 반면 크기가 10인 가구원이 설문지를 받을 확률은 1/10이다.\n",
    "        \n",
    "### 표본추출 방법\n",
    "* 할당 추출: 모집단의 구성비가 표본의 구성비에 반영되도록 표본 구성\n",
    "    * ex) 남녀 비율이 7:3인 모집단에서 성비를 7:3인 표본을 추출한다.\n",
    "    * 단점: 할당 추출에 쓰인 조건만 맞추고, 그 외의 조건들은 조사원이 임의로 선택해 결과의 신뢰성이 떨어진다.\n",
    "* 단순 무작위 추출: 무작위 비복원 추출\n",
    "    * ex) 전교생 1000명 중 100명의 학생을 뽑는다. 학생별로 번호표를 1장씩 배부하고, 비복원 추출로 100장의 번호표를 뽑는다.\n",
    "    * 단점: 모든 표본 개체의 명단을 알아야하기 때문에 현실성이 낮다\n",
    "* 다단계 군집 추출: 모집단의 구획을 나눠서 추출한다.\n",
    "    * 한 대상의 추출확률은 그 규모에 비례하도록 설정해야함 **가구편의 해결**\n",
    "    * ex) 서울, 부산 가운데 하나의 도시를 뽑고, 뽑힌 도시로부터 4개의 구획을 뽑는다. 서울은 30개의 구획, 부산은 10개의 구획을 가진다.\n",
    "        * 서울, 부산을 동일하게 1/2의 확률로 뽑으면 부산의 구획이 뽑힐 확률이 3배 높다.\n",
    "            * 서울 내 구획을 뽑을 확률: 1/2 x 4/30 = 1/15\n",
    "            * 부산 내 구획을 뽑을 확률: 1/2 x 4/10 = 1/5\n",
    "        * 전체 40개 구획 중 4개 구획이 뽑힐 확률은 1/10이다. 서울을 뽑을 확률을 3/4, 부산을 뽑을 확률을 1/4로 설정하면 두 도시 모두 구획을 뽑을 확률이 1/10로 동일하다.\n",
    "            * 서울 내 구획을 뽑을 확률: 3/4 x 4/30 = 1/10\n",
    "            * 부산 내 구획을 뽑을 확률: 1/4 x 4/10 = 1/10"
   ]
  },
  {
   "cell_type": "markdown",
   "metadata": {},
   "source": [
    "## 연습문제\n",
    "1. 응답편의: 1번 질문에는 현재까지 한번 이상 해당 상품의 세제를 사용했다면 그렇다 라고 응답할 수 있음. 2번 질문에는 현재 사용중인 세제만 응답. 1번 질문에서 시장 점유율이 높게 측정될 수 있음.\n",
    "2. 표본추출편의: 돈을 딴 사람들은 땃다고 떠벌리지만 잃은 사람은 말이 없다. 땃다는 사람 말만 듣고 도박에 뛰어들 수 있음\n",
    "3. 표본추출편의: 처음 200명은 증상이 심각한 사람, 마지막 200명은 상대적으로 증상이 약한 사람일 수 있음. \n",
    "4. 확률적 표본 조사 방법이라고 볼 수 없다. 시간에 따른 건물별 유동인구를 조사하고 이에 따라 추출 확률을 계산해야한다.\n",
    "5. 표본추출편의: TEPS를 보는 초등학생이면 영제교육을 받을 확률이 높음\n",
    "6. 표본추출편의: 5년내에 집이 없어 노숙생활을 했던 사람들 중 전화기가 있을 확률은 낮음. 과소평가됐다."
   ]
  },
  {
   "cell_type": "code",
   "execution_count": null,
   "metadata": {},
   "outputs": [],
   "source": []
  }
 ],
 "metadata": {
  "kernelspec": {
   "display_name": "Python 3",
   "language": "python",
   "name": "python3"
  },
  "language_info": {
   "codemirror_mode": {
    "name": "ipython",
    "version": 3
   },
   "file_extension": ".py",
   "mimetype": "text/x-python",
   "name": "python",
   "nbconvert_exporter": "python",
   "pygments_lexer": "ipython3",
   "version": "3.7.0"
  },
  "toc": {
   "base_numbering": 1,
   "nav_menu": {},
   "number_sections": true,
   "sideBar": true,
   "skip_h1_title": true,
   "title_cell": "Table of Contents",
   "title_sidebar": "Contents",
   "toc_cell": true,
   "toc_position": {},
   "toc_section_display": true,
   "toc_window_display": false
  }
 },
 "nbformat": 4,
 "nbformat_minor": 2
}
