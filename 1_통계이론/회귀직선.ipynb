{
 "cells": [
  {
   "cell_type": "markdown",
   "metadata": {},
   "source": [
    "## 회귀직선\n",
    "* 회귀직선의 기울기는 x가 1단위 증가할 때 y가 증가하는 정도를 나타낸다.  \n",
    "`회귀직선의 기울기 = r x (SDy/SDx)`\n",
    "* 회귀직선의 절편은 x가 0일때 y의 추정치(평균)이다.  \n",
    "* 회귀직선에 대응하는 방정식을 **회귀방정식**이라고 말한다.\n",
    "* 회귀직선의 추정치는 자료가 중심에서 벗어날 수록 신뢰도가 떨어진다.  \n",
    "### 회귀직선 기울기의 의미\n",
    "\n",
    "기울기는 누군가가 '개입해' x를 바꿀경우 이에 반응해 y가 얼마나 변할지를 나타낸다. **외부개입-내부반응** 식의 해석은 자료가 통제된 실험에서 사용했을 때 일반적으로 타당하며 관측된 자료에서 혼동요인이 존재할 경우 해석에 유의해야한다.  \n",
    "\n",
    "예를들어 소득~교육연수의 회귀방정식의 기울기가 7만원/연 이라고 가정하자. 그렇다면 정부가 무작위로 사람을 뽑아 4년간 교육을 시킨다면 이들의 평균소득이 그렇지 않은 집단보다 28만원 높을 것인가? 그렇지 않다. 통제된 실험이 아니라 관측했기 때문에 **통제되지 않은 요인**이 혼동요인으로 작용할 수 있다. 야망, 가정환경 등 다양한 혼동요인이 있다. 이는 교육연차가 소득에 미치는 영향을 왜곡하며, 기울기는 교육의 순수효과를 반영하지 못한다. 외부개입-내부반응으로 해석할 수 있는 실험은 용수철의 무게-늘어난 길이 등이 있다.\n",
    "\n",
    "원칙적으로 실험적 통제가 가장 좋은 방법이지만 실험이 불가능 하다면 통계적 통제라도 해야한다. 중회귀분석은 특정 변수가 다른 변수와 어떻게 관련하는지 알려주는 통계적 통제 방법이다."
   ]
  },
  {
   "cell_type": "code",
   "execution_count": null,
   "metadata": {},
   "outputs": [],
   "source": []
  }
 ],
 "metadata": {
  "kernelspec": {
   "display_name": "Python 3",
   "language": "python",
   "name": "python3"
  },
  "language_info": {
   "codemirror_mode": {
    "name": "ipython",
    "version": 3
   },
   "file_extension": ".py",
   "mimetype": "text/x-python",
   "name": "python",
   "nbconvert_exporter": "python",
   "pygments_lexer": "ipython3",
   "version": "3.7.0"
  },
  "toc": {
   "base_numbering": 1,
   "nav_menu": {},
   "number_sections": true,
   "sideBar": true,
   "skip_h1_title": true,
   "title_cell": "Table of Contents",
   "title_sidebar": "Contents",
   "toc_cell": false,
   "toc_position": {},
   "toc_section_display": true,
   "toc_window_display": false
  },
  "varInspector": {
   "cols": {
    "lenName": 16,
    "lenType": 16,
    "lenVar": 40
   },
   "kernels_config": {
    "python": {
     "delete_cmd_postfix": "",
     "delete_cmd_prefix": "del ",
     "library": "var_list.py",
     "varRefreshCmd": "print(var_dic_list())"
    },
    "r": {
     "delete_cmd_postfix": ") ",
     "delete_cmd_prefix": "rm(",
     "library": "var_list.r",
     "varRefreshCmd": "cat(var_dic_list()) "
    }
   },
   "types_to_exclude": [
    "module",
    "function",
    "builtin_function_or_method",
    "instance",
    "_Feature"
   ],
   "window_display": false
  }
 },
 "nbformat": 4,
 "nbformat_minor": 2
}
