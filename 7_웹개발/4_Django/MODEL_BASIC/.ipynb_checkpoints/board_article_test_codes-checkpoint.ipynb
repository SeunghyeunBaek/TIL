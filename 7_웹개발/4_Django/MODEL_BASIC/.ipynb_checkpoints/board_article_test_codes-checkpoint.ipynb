{
 "cells": [
  {
   "cell_type": "markdown",
   "metadata": {
    "toc": true
   },
   "source": [
    "<h1>Table of Contents<span class=\"tocSkip\"></span></h1>\n",
    "<div class=\"toc\"><ul class=\"toc-item\"><li><span><a href=\"#CRUD-Basic\" data-toc-modified-id=\"CRUD-Basic-1\"><span class=\"toc-item-num\">1&nbsp;&nbsp;</span>CRUD Basic</a></span><ul class=\"toc-item\"><li><span><a href=\"#CRUD-Operation\" data-toc-modified-id=\"CRUD-Operation-1.1\"><span class=\"toc-item-num\">1.1&nbsp;&nbsp;</span>CRUD Operation</a></span></li><li><span><a href=\"#Articles-Table\" data-toc-modified-id=\"Articles-Table-1.2\"><span class=\"toc-item-num\">1.2&nbsp;&nbsp;</span>Articles Table</a></span></li><li><span><a href=\"#Create\" data-toc-modified-id=\"Create-1.3\"><span class=\"toc-item-num\">1.3&nbsp;&nbsp;</span>Create</a></span></li><li><span><a href=\"#Read\" data-toc-modified-id=\"Read-1.4\"><span class=\"toc-item-num\">1.4&nbsp;&nbsp;</span>Read</a></span></li><li><span><a href=\"#Update\" data-toc-modified-id=\"Update-1.5\"><span class=\"toc-item-num\">1.5&nbsp;&nbsp;</span>Update</a></span></li><li><span><a href=\"#Delete\" data-toc-modified-id=\"Delete-1.6\"><span class=\"toc-item-num\">1.6&nbsp;&nbsp;</span>Delete</a></span></li></ul></li></ul></div>"
   ]
  },
  {
   "cell_type": "markdown",
   "metadata": {},
   "source": [
    "## CRUD Basic\n",
    "\n",
    "### CRUD Operation\n",
    "* Create : 데이터 생성\n",
    "* Read(Retrive) : 데이터 조회\n",
    "* Update : 데이터 수정\n",
    "* Delete : 데이터 삭제\n",
    "\n",
    "### Articles Table\n",
    "\n",
    "Data schema\n",
    "\n",
    "| Field name | Data type                   |\n",
    "| ---------- | --------------------------- |\n",
    "| `id`       | Integer, Primary Key        |\n",
    "| `title`    | CharField(max_length = 200) |\n",
    "| `content`  | TextField()                 |"
   ]
  },
  {
   "cell_type": "markdown",
   "metadata": {
    "ExecuteTime": {
     "end_time": "2019-06-04T07:18:03.168973Z",
     "start_time": "2019-06-04T07:18:03.159551Z"
    }
   },
   "source": [
    "### Create\n",
    "1. `Article` 객체를 생성한다.  \n",
    "2. Field를 채우다.\n",
    "3. 저장한다."
   ]
  },
  {
   "cell_type": "code",
   "execution_count": 1,
   "metadata": {
    "ExecuteTime": {
     "end_time": "2019-06-04T07:24:06.784418Z",
     "start_time": "2019-06-04T07:24:06.279465Z"
    }
   },
   "outputs": [],
   "source": [
    "# article = Article()\n",
    "# article.title = 'test title'\n",
    "# article.content = 'test content'\n",
    "# article.save()"
   ]
  },
  {
   "cell_type": "markdown",
   "metadata": {},
   "source": [
    "### Read\n",
    "1. 여러개 조회\n",
    "    * 전체 조회\n",
    "    * 조건부 조회\n",
    "2. 한개 조회\n",
    "    * id(pk) 로 조회\n",
    "    * 특정 조건을 만족하는 첫 번째 레코드 조회"
   ]
  },
  {
   "cell_type": "code",
   "execution_count": 6,
   "metadata": {
    "ExecuteTime": {
     "end_time": "2019-06-04T07:53:57.378378Z",
     "start_time": "2019-06-04T07:53:57.373911Z"
    }
   },
   "outputs": [
    {
     "data": {
      "text/plain": [
       "<django.db.models.manager.Manager at 0x1449a0a1a90>"
      ]
     },
     "execution_count": 6,
     "metadata": {},
     "output_type": "execute_result"
    }
   ],
   "source": [
    "# model manager\n",
    "Article.objects"
   ]
  },
  {
   "cell_type": "code",
   "execution_count": 1,
   "metadata": {
    "ExecuteTime": {
     "end_time": "2019-06-04T07:48:52.685570Z",
     "start_time": "2019-06-04T07:48:52.672711Z"
    }
   },
   "outputs": [
    {
     "data": {
      "text/plain": [
       "<QuerySet [<Article: 1 : First article(modified) - The content of the first article(modified)>, <Article: 2 : Second article - The content of the second article>, <Article: 4 : 3 - trash>, <Article: 11 : 1 - 3>, <Article: 12 : test title - test content>]>"
      ]
     },
     "execution_count": 1,
     "metadata": {},
     "output_type": "execute_result"
    }
   ],
   "source": [
    "# 전체 조회\n",
    "Article.objects.all()"
   ]
  },
  {
   "cell_type": "code",
   "execution_count": 5,
   "metadata": {
    "ExecuteTime": {
     "end_time": "2019-06-04T07:50:33.356536Z",
     "start_time": "2019-06-04T07:50:33.351590Z"
    }
   },
   "outputs": [
    {
     "data": {
      "text/plain": [
       "<Article: 1 : First article(modified) - The content of the first article(modified)>"
      ]
     },
     "execution_count": 5,
     "metadata": {},
     "output_type": "execute_result"
    }
   ],
   "source": [
    "# ID로 한개 조회\n",
    "Article.objects.get(id=1)"
   ]
  },
  {
   "cell_type": "markdown",
   "metadata": {},
   "source": [
    "### Update\n",
    "1. `Article` 객체 하나 고른다.\n",
    "2. 필드를 수정한다.\n",
    "3. 저장한다."
   ]
  },
  {
   "cell_type": "code",
   "execution_count": 10,
   "metadata": {
    "ExecuteTime": {
     "end_time": "2019-06-04T08:11:15.972969Z",
     "start_time": "2019-06-04T08:11:15.963045Z"
    }
   },
   "outputs": [],
   "source": [
    "# 고른다\n",
    "article_tmp = Article.objects.get(pk=11)"
   ]
  },
  {
   "cell_type": "code",
   "execution_count": 12,
   "metadata": {
    "ExecuteTime": {
     "end_time": "2019-06-04T08:11:41.464434Z",
     "start_time": "2019-06-04T08:11:41.460962Z"
    }
   },
   "outputs": [],
   "source": [
    "# 수정한다.\n",
    "article_tmp.title = 'modified'\n",
    "article_tmp.content = 'modified'"
   ]
  },
  {
   "cell_type": "code",
   "execution_count": 13,
   "metadata": {
    "ExecuteTime": {
     "end_time": "2019-06-04T08:11:55.127858Z",
     "start_time": "2019-06-04T08:11:54.606356Z"
    }
   },
   "outputs": [],
   "source": [
    "# 저장한다.\n",
    "article_tmp.save()"
   ]
  },
  {
   "cell_type": "markdown",
   "metadata": {},
   "source": [
    "### Delete\n",
    "1. `Article` 객체 하나 고른다.\n",
    "2. 삭제한다."
   ]
  },
  {
   "cell_type": "code",
   "execution_count": 16,
   "metadata": {
    "ExecuteTime": {
     "end_time": "2019-06-04T08:13:44.298317Z",
     "start_time": "2019-06-04T08:13:43.758009Z"
    }
   },
   "outputs": [
    {
     "data": {
      "text/plain": [
       "(1, {'board.Article': 1})"
      ]
     },
     "execution_count": 16,
     "metadata": {},
     "output_type": "execute_result"
    }
   ],
   "source": [
    "# article_del = Article.objects.get(id=2)\n",
    "# article_del.delete()"
   ]
  },
  {
   "cell_type": "code",
   "execution_count": null,
   "metadata": {},
   "outputs": [],
   "source": []
  }
 ],
 "metadata": {
  "kernelspec": {
   "display_name": "Django Shell-Plus",
   "language": "python",
   "name": "django_extensions"
  },
  "language_info": {
   "codemirror_mode": {
    "name": "ipython",
    "version": 3
   },
   "file_extension": ".py",
   "mimetype": "text/x-python",
   "name": "python",
   "nbconvert_exporter": "python",
   "pygments_lexer": "ipython3",
   "version": "3.7.0"
  },
  "toc": {
   "base_numbering": 1,
   "nav_menu": {},
   "number_sections": true,
   "sideBar": true,
   "skip_h1_title": true,
   "title_cell": "Table of Contents",
   "title_sidebar": "Contents",
   "toc_cell": true,
   "toc_position": {},
   "toc_section_display": true,
   "toc_window_display": false
  },
  "varInspector": {
   "cols": {
    "lenName": 16,
    "lenType": 16,
    "lenVar": 40
   },
   "kernels_config": {
    "python": {
     "delete_cmd_postfix": "",
     "delete_cmd_prefix": "del ",
     "library": "var_list.py",
     "varRefreshCmd": "print(var_dic_list())"
    },
    "r": {
     "delete_cmd_postfix": ") ",
     "delete_cmd_prefix": "rm(",
     "library": "var_list.r",
     "varRefreshCmd": "cat(var_dic_list()) "
    }
   },
   "types_to_exclude": [
    "module",
    "function",
    "builtin_function_or_method",
    "instance",
    "_Feature"
   ],
   "window_display": false
  }
 },
 "nbformat": 4,
 "nbformat_minor": 2
}
