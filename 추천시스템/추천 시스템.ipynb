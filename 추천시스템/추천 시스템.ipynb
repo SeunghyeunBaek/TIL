{
 "cells": [
  {
   "cell_type": "markdown",
   "metadata": {
    "toc": true
   },
   "source": [
    "<h1>Table of Contents<span class=\"tocSkip\"></span></h1>\n",
    "<div class=\"toc\"><ul class=\"toc-item\"><li><span><a href=\"#개요\" data-toc-modified-id=\"개요-1\"><span class=\"toc-item-num\">1&nbsp;&nbsp;</span>개요</a></span></li></ul></div>"
   ]
  },
  {
   "cell_type": "markdown",
   "metadata": {},
   "source": [
    "## 개요"
   ]
  },
  {
   "cell_type": "markdown",
   "metadata": {},
   "source": [
    "* surprise 모듈\n",
    "    * sklearn 추천 시스템 모듈\n",
    "    * [documentation](https://surprise.readthedocs.io/en/stable/)  \n",
    "        * [movielens dataset](https://grouplens.org/datasets/movielens/)\n",
    "    * [데이터셋 구조](https://surprise.readthedocs.io/en/stable/trainset.html)\n",
    "        * build_full_trainset().\n",
    "            * ur : 사용자 평점, {user_id : (item_id, rating)}  \n",
    "            * ir : 아이템 평점, {item_id : (user_id, rating)}  \n",
    "            * u_users : 사용자 수\n",
    "            * n_items : 아이템 수\n",
    "            * n_ratings : 평점 수\n",
    "            * all_items : 모든 아이템 반환\n",
    "    * 사용할 데이터\n",
    "        * u.item : movie id | movie title | release date | video release date | IMDb URL | unknown | Action | Adventure | Animation |\n",
    "              Children's | Comedy | Crime | Documentary | Drama | Fantasy |\n",
    "              Film-Noir | Horror | Musical | Mystery | Romance | Sci-Fi |\n",
    "              Thriller | War | Western |\n",
    "         * u.data : user id | item id | rating | timestamp. \n",
    "    * u.user : user id 는 1부터 시작하는 연속형 변수가돼야한다.\n",
    "    \n",
    "    \n",
    "    \n",
    "* 유사도 측정방식 추천시스템 구현\n",
    "    * 사용자 A가 평점을 기록한 상품에 대해 다른 사용자가 기록한 평점을 분석한다.\n",
    "    * 사용자 A와 비슷한 평점을 기록한 사용자 집단을 선정한다(A Cluster, 사용자 평점간 피어슨 유사도 분석)\n",
    "    * A Cluster의 평점 정보를 바탕으로 사용자 A가 평점을 기록하지 않은 상품에 대한 평점 예측\n",
    "    * 사람들이 많다면 학습시간이 오래걸린다.\n"
   ]
  },
  {
   "cell_type": "code",
   "execution_count": 39,
   "metadata": {
    "ExecuteTime": {
     "end_time": "2019-04-05T05:32:26.121126Z",
     "start_time": "2019-04-05T05:32:26.117138Z"
    }
   },
   "outputs": [],
   "source": [
    "import surprise"
   ]
  },
  {
   "cell_type": "code",
   "execution_count": 40,
   "metadata": {
    "ExecuteTime": {
     "end_time": "2019-04-05T05:32:30.222157Z",
     "start_time": "2019-04-05T05:32:26.499117Z"
    }
   },
   "outputs": [
    {
     "name": "stdout",
     "output_type": "stream",
     "text": [
      "Dataset ml-100k could not be found. Do you want to download it? [Y/n] \n",
      "Trying to download dataset from http://files.grouplens.org/datasets/movielens/ml-100k.zip...\n",
      "Done! Dataset ml-100k has been saved to C:\\Users\\wonca/.surprise_data/ml-100k\n"
     ]
    }
   ],
   "source": [
    "# 데이터셋 준비\n",
    "data = surprise.Dataset.load_builtin('ml-100k')"
   ]
  },
  {
   "cell_type": "code",
   "execution_count": 41,
   "metadata": {
    "ExecuteTime": {
     "end_time": "2019-04-05T05:32:30.326944Z",
     "start_time": "2019-04-05T05:32:30.258062Z"
    }
   },
   "outputs": [],
   "source": [
    "# 영화 정보 데이터(영화 ID, 제목)를 dictionary로 구성\n",
    "item_path = 'D:/document/추천시스템_190405/ml-100k/ml-100k/u.item'\n",
    "# item_list = open(item_path).readlines()\n",
    "# 'cp949' codec can't decode byte 0xe9 in position 2892: illegal multibyte sequence\n",
    "#  cp949 는 파이썬 기본 codec, 인식할 수 없는 문자열이 있다.\n",
    "\n",
    "# item_list = open(item_path,encoding='utf-8').readlines()\n",
    "# UnicodeDecodeError: 'utf-8' codec can't decode byte 0xe9 in position 2892: invalid continuation byte\n",
    "# text editor에서 encoding 방식을 확인해야함 => iso-8859-2 or Windows-1252\n",
    "# encoding 할때 utf-8로 하면 깨지지 않지만 파일 크기가 커진다.\n",
    "\n",
    "item_list = open(item_path,encoding='Windows-1252').readlines()"
   ]
  },
  {
   "cell_type": "code",
   "execution_count": 42,
   "metadata": {
    "ExecuteTime": {
     "end_time": "2019-04-05T05:32:30.380733Z",
     "start_time": "2019-04-05T05:32:30.369242Z"
    },
    "scrolled": false
   },
   "outputs": [],
   "source": [
    "# item_id, item_name을 저장한다.\n",
    "tmp_list = []\n",
    "for line in item_list:\n",
    "    sd = line.split('|')\n",
    "    tmp_list.append([sd[0],sd[1]])\n",
    "movie_dict = dict(tmp_list)"
   ]
  },
  {
   "cell_type": "code",
   "execution_count": 43,
   "metadata": {
    "ExecuteTime": {
     "end_time": "2019-04-05T05:32:37.494719Z",
     "start_time": "2019-04-05T05:32:34.297448Z"
    }
   },
   "outputs": [
    {
     "name": "stdout",
     "output_type": "stream",
     "text": [
      "Computing the pearson similarity matrix...\n",
      "Done computing similarity matrix.\n"
     ]
    },
    {
     "data": {
      "text/plain": [
       "<surprise.prediction_algorithms.knns.KNNBasic at 0x23d5ad7f160>"
      ]
     },
     "execution_count": 43,
     "metadata": {},
     "output_type": "execute_result"
    }
   ],
   "source": [
    "# 유사도 계산 방식\n",
    "# 평균 제곱 차이 유사도\n",
    "option1 = {'name' : 'msd'}\n",
    "# 코사인 유사도\n",
    "option2 = {'name' : 'cosine'}\n",
    "# 피어슨 유사도\n",
    "option3 = {'name' : 'pearson'}\n",
    "# 모델 객체를 생성한다.\n",
    "model = surprise.KNNBasic(sim_options=option3)\n",
    "# 학습한다.\n",
    "trainset = data.build_full_trainset()\n",
    "model.fit(trainset)"
   ]
  },
  {
   "cell_type": "code",
   "execution_count": 47,
   "metadata": {
    "ExecuteTime": {
     "end_time": "2019-04-05T05:36:34.863360Z",
     "start_time": "2019-04-05T05:36:34.854254Z"
    }
   },
   "outputs": [
    {
     "name": "stdout",
     "output_type": "stream",
     "text": [
      "Get Shorty (1995)\n",
      "E.T. the Extra-Terrestrial (1982)\n",
      "Deer Hunter, The (1978)\n",
      "My Life as a Dog (Mitt liv som hund) (1985)\n",
      "Young Poisoner's Handbook, The (1995)\n"
     ]
    }
   ],
   "source": [
    "# 100번 사용자에 대한 영화 5개를 추천받는다.\n",
    "result = model.get_neighbors(100, k=5)\n",
    "\n",
    "for r1 in result : \n",
    "    movie_name = movie_dict.get(str(r1))\n",
    "    print(movie_name)"
   ]
  }
 ],
 "metadata": {
  "kernelspec": {
   "display_name": "Python 3",
   "language": "python",
   "name": "python3"
  },
  "language_info": {
   "codemirror_mode": {
    "name": "ipython",
    "version": 3
   },
   "file_extension": ".py",
   "mimetype": "text/x-python",
   "name": "python",
   "nbconvert_exporter": "python",
   "pygments_lexer": "ipython3",
   "version": "3.7.0"
  },
  "toc": {
   "base_numbering": 1,
   "nav_menu": {},
   "number_sections": true,
   "sideBar": true,
   "skip_h1_title": true,
   "title_cell": "Table of Contents",
   "title_sidebar": "Contents",
   "toc_cell": true,
   "toc_position": {},
   "toc_section_display": true,
   "toc_window_display": true
  },
  "varInspector": {
   "cols": {
    "lenName": 16,
    "lenType": 16,
    "lenVar": 40
   },
   "kernels_config": {
    "python": {
     "delete_cmd_postfix": "",
     "delete_cmd_prefix": "del ",
     "library": "var_list.py",
     "varRefreshCmd": "print(var_dic_list())"
    },
    "r": {
     "delete_cmd_postfix": ") ",
     "delete_cmd_prefix": "rm(",
     "library": "var_list.r",
     "varRefreshCmd": "cat(var_dic_list()) "
    }
   },
   "types_to_exclude": [
    "module",
    "function",
    "builtin_function_or_method",
    "instance",
    "_Feature"
   ],
   "window_display": false
  }
 },
 "nbformat": 4,
 "nbformat_minor": 2
}
