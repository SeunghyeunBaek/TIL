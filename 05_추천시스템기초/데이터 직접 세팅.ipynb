{
 "cells": [
  {
   "cell_type": "markdown",
   "metadata": {
    "toc": true
   },
   "source": [
    "<h1>Table of Contents<span class=\"tocSkip\"></span></h1>\n",
    "<div class=\"toc\"><ul class=\"toc-item\"></ul></div>"
   ]
  },
  {
   "cell_type": "code",
   "execution_count": 4,
   "metadata": {
    "ExecuteTime": {
     "end_time": "2019-04-05T05:34:08.754894Z",
     "start_time": "2019-04-05T05:34:03.124897Z"
    }
   },
   "outputs": [],
   "source": [
    "import surprise\n",
    "import pandas as pd"
   ]
  },
  {
   "cell_type": "code",
   "execution_count": 2,
   "metadata": {
    "ExecuteTime": {
     "end_time": "2019-04-05T05:33:14.663808Z",
     "start_time": "2019-04-05T05:33:14.451083Z"
    }
   },
   "outputs": [],
   "source": [
    "data = surprise.Dataset.load_builtin('ml-100k')"
   ]
  },
  {
   "cell_type": "code",
   "execution_count": 18,
   "metadata": {
    "ExecuteTime": {
     "end_time": "2019-04-05T05:49:06.057611Z",
     "start_time": "2019-04-05T05:49:06.050628Z"
    }
   },
   "outputs": [],
   "source": [
    "# 데이터\n",
    "user_name_list = ('홍길동','김길동','최길동','박길동','이길동','황길동')\n",
    "item_name_list = ('아이폰','갤럭시','G8','픽셀','파워맥스','홍미노트','갤럭시A','갤럭시J','갤럭시F')\n",
    "# (user_id, item_id, rating)\n",
    "rating_data = (\n",
    "    (1,1,5.0),(1,2,4.5),(1,3,3.0),(1,5,2.0),\n",
    "    (2,1,5.0),(2,2,3.0),(2,7,5.0),\n",
    "    (3,1,4.0),(3,2,4.0),(3,6,1.0),(3,8,3.0),\n",
    "    (4,1,1.0),(4,2,1.0),(4,6,1.0),\n",
    "    (5,1,1.0))\n"
   ]
  },
  {
   "cell_type": "code",
   "execution_count": 28,
   "metadata": {
    "ExecuteTime": {
     "end_time": "2019-04-05T05:57:16.585520Z",
     "start_time": "2019-04-05T05:57:16.577513Z"
    }
   },
   "outputs": [],
   "source": [
    "# surprise 요구사항에 맞는 데이터 구성\n",
    "rating_dic = {\n",
    "    'user_id' : [],\n",
    "    'item_id' : [],\n",
    "    'rating' : []\n",
    "}\n",
    "\n",
    "for user_data in rating_data:\n",
    "    rating_dic['user_id'].append(user_data[0])\n",
    "    rating_dic['item_id'].append(user_data[1])\n",
    "    rating_dic['rating'].append(user_data[2])\n",
    "\n",
    "# DataFrame을 만든다.\n",
    "df = pd.DataFrame(rating_dic)\n",
    "\n",
    "# surprise 데이터셋을 만든다.\n",
    "# rating_scale : 평점의 범위\n",
    "reader = surprise.Reader(rating_scale=(0.0,5.0))\n",
    "# user_id => user, item_id => item, rating_id =>rate\n",
    "col_list = ['user_id','item_id','rating']\n",
    "data = surprise.Dataset.load_from_df(df,reader)\n"
   ]
  },
  {
   "cell_type": "code",
   "execution_count": 29,
   "metadata": {
    "ExecuteTime": {
     "end_time": "2019-04-05T06:00:09.203325Z",
     "start_time": "2019-04-05T06:00:09.196594Z"
    }
   },
   "outputs": [
    {
     "name": "stdout",
     "output_type": "stream",
     "text": [
      "Computing the pearson similarity matrix...\n",
      "Done computing similarity matrix.\n"
     ]
    },
    {
     "data": {
      "text/plain": [
       "<surprise.prediction_algorithms.knns.KNNBasic at 0x2b3b7777e80>"
      ]
     },
     "execution_count": 29,
     "metadata": {},
     "output_type": "execute_result"
    }
   ],
   "source": [
    "# 학습한다.\n",
    "trainset = data.build_full_trainset()\n",
    "option1 = {'name':'pearson'}\n",
    "model = surprise.KNNBasic(sim_options=option1)\n",
    "model.fit(trainset)"
   ]
  },
  {
   "cell_type": "code",
   "execution_count": 43,
   "metadata": {
    "ExecuteTime": {
     "end_time": "2019-04-05T06:03:43.108871Z",
     "start_time": "2019-04-05T06:03:43.102517Z"
    }
   },
   "outputs": [
    {
     "name": "stdout",
     "output_type": "stream",
     "text": [
      "갤럭시F\n",
      "아이폰\n",
      "갤럭시\n",
      "G8\n"
     ]
    }
   ],
   "source": [
    "# 3개 추천\n",
    "res = model.get_neighbors(4,k=5)\n",
    "for r1 in res:\n",
    "    print(f'{item_name_list[r1-1]}')"
   ]
  },
  {
   "cell_type": "code",
   "execution_count": null,
   "metadata": {},
   "outputs": [],
   "source": []
  },
  {
   "cell_type": "code",
   "execution_count": null,
   "metadata": {},
   "outputs": [],
   "source": []
  },
  {
   "cell_type": "code",
   "execution_count": null,
   "metadata": {},
   "outputs": [],
   "source": []
  }
 ],
 "metadata": {
  "kernelspec": {
   "display_name": "Python 3",
   "language": "python",
   "name": "python3"
  },
  "language_info": {
   "codemirror_mode": {
    "name": "ipython",
    "version": 3
   },
   "file_extension": ".py",
   "mimetype": "text/x-python",
   "name": "python",
   "nbconvert_exporter": "python",
   "pygments_lexer": "ipython3",
   "version": "3.7.0"
  },
  "toc": {
   "base_numbering": 1,
   "nav_menu": {},
   "number_sections": true,
   "sideBar": true,
   "skip_h1_title": true,
   "title_cell": "Table of Contents",
   "title_sidebar": "Contents",
   "toc_cell": true,
   "toc_position": {},
   "toc_section_display": true,
   "toc_window_display": true
  },
  "varInspector": {
   "cols": {
    "lenName": 16,
    "lenType": 16,
    "lenVar": 40
   },
   "kernels_config": {
    "python": {
     "delete_cmd_postfix": "",
     "delete_cmd_prefix": "del ",
     "library": "var_list.py",
     "varRefreshCmd": "print(var_dic_list())"
    },
    "r": {
     "delete_cmd_postfix": ") ",
     "delete_cmd_prefix": "rm(",
     "library": "var_list.r",
     "varRefreshCmd": "cat(var_dic_list()) "
    }
   },
   "types_to_exclude": [
    "module",
    "function",
    "builtin_function_or_method",
    "instance",
    "_Feature"
   ],
   "window_display": false
  }
 },
 "nbformat": 4,
 "nbformat_minor": 2
}
