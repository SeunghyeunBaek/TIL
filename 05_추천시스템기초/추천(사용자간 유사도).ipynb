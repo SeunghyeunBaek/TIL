{
 "cells": [
  {
   "cell_type": "markdown",
   "metadata": {
    "toc": true
   },
   "source": [
    "<h1>Table of Contents<span class=\"tocSkip\"></span></h1>\n",
    "<div class=\"toc\"><ul class=\"toc-item\"></ul></div>"
   ]
  },
  {
   "cell_type": "markdown",
   "metadata": {},
   "source": [
    "# Surprise 모듈\n",
    "\n",
    "scikit learn에서 만든 추천 시스템용 패키지\n",
    "\n",
    "유사도 측정방식의 추천 시스템을 구현해 본다.\n",
    "\n",
    "사용자 A가 평점을 준 상품들에 대해 다른 사용자가 준 평점들을 분석하여 평점 유사도가 높은 사용자들이 준 평점 정보를 분석하여 사용자 A 가 평가를 내리지 않은 상품에 대해 평점을 얼마나 줄것인가를 예측."
   ]
  },
  {
   "cell_type": "code",
   "execution_count": 17,
   "metadata": {},
   "outputs": [],
   "source": [
    "# pip install surprise\n",
    "import surprise"
   ]
  },
  {
   "cell_type": "code",
   "execution_count": 51,
   "metadata": {},
   "outputs": [],
   "source": [
    "# 사용할 데이터 셋을 준비한다.\n",
    "data = surprise.Dataset.load_builtin('ml-100k')\n",
    "# 영화 정보 데이터(영화ID, 제목)\n",
    "item_path = 'C:/Users/student/.surprise_data/ml-100k/ml-100k/u.item'\n",
    "item_list = open(item_path, encoding='iso-8859-2').readlines()\n",
    "\n",
    "temp_list = []\n",
    "\n",
    "for line in item_list :\n",
    "    sd = line.split('|')\n",
    "    temp_list.append([sd[0], sd[1]])\n",
    "    \n",
    "movie_dict = dict(temp_list)"
   ]
  },
  {
   "cell_type": "code",
   "execution_count": 52,
   "metadata": {},
   "outputs": [
    {
     "name": "stdout",
     "output_type": "stream",
     "text": [
      "Computing the pearson similarity matrix...\n",
      "Done computing similarity matrix.\n"
     ]
    },
    {
     "data": {
      "text/plain": [
       "<surprise.prediction_algorithms.knns.KNNBasic at 0x12677240>"
      ]
     },
     "execution_count": 52,
     "metadata": {},
     "output_type": "execute_result"
    }
   ],
   "source": [
    "# 유사도 계산 방식\n",
    "# 평균 제곱 차이 유사도\n",
    "option1 = {'name' : 'msd'}\n",
    "# 코사인 유사도\n",
    "option2 = {'name' : 'cosine'}\n",
    "# 피어슨 유사도\n",
    "option3 = {'name' : 'pearson'}\n",
    "# 모델 객체를 생성한다.\n",
    "model = surprise.KNNBasic(sim_options=option3)\n",
    "# 학습한다.\n",
    "trainset = data.build_full_trainset()\n",
    "model.fit(trainset)"
   ]
  },
  {
   "cell_type": "code",
   "execution_count": 64,
   "metadata": {},
   "outputs": [
    {
     "name": "stdout",
     "output_type": "stream",
     "text": [
      "Get Shorty (1995)\n",
      "E.T. the Extra-Terrestrial (1982)\n",
      "Deer Hunter, The (1978)\n",
      "My Life as a Dog (Mitt liv som hund) (1985)\n",
      "Young Poisoner's Handbook, The (1995)\n"
     ]
    }
   ],
   "source": [
    "# 100번 사용자에 대한 영화 5개를 추천받는다.\n",
    "result = model.get_neighbors(100, k=5)\n",
    "\n",
    "for r1 in result : \n",
    "    movie_name = movie_dict.get(str(r1))\n",
    "    print(movie_name)"
   ]
  },
  {
   "cell_type": "code",
   "execution_count": null,
   "metadata": {},
   "outputs": [],
   "source": []
  }
 ],
 "metadata": {
  "kernelspec": {
   "display_name": "Python 3",
   "language": "python",
   "name": "python3"
  },
  "language_info": {
   "codemirror_mode": {
    "name": "ipython",
    "version": 3
   },
   "file_extension": ".py",
   "mimetype": "text/x-python",
   "name": "python",
   "nbconvert_exporter": "python",
   "pygments_lexer": "ipython3",
   "version": "3.7.0"
  },
  "toc": {
   "base_numbering": 1,
   "nav_menu": {},
   "number_sections": true,
   "sideBar": true,
   "skip_h1_title": true,
   "title_cell": "Table of Contents",
   "title_sidebar": "Contents",
   "toc_cell": true,
   "toc_position": {},
   "toc_section_display": true,
   "toc_window_display": true
  },
  "varInspector": {
   "cols": {
    "lenName": 16,
    "lenType": 16,
    "lenVar": 40
   },
   "kernels_config": {
    "python": {
     "delete_cmd_postfix": "",
     "delete_cmd_prefix": "del ",
     "library": "var_list.py",
     "varRefreshCmd": "print(var_dic_list())"
    },
    "r": {
     "delete_cmd_postfix": ") ",
     "delete_cmd_prefix": "rm(",
     "library": "var_list.r",
     "varRefreshCmd": "cat(var_dic_list()) "
    }
   },
   "types_to_exclude": [
    "module",
    "function",
    "builtin_function_or_method",
    "instance",
    "_Feature"
   ],
   "window_display": false
  }
 },
 "nbformat": 4,
 "nbformat_minor": 2
}
