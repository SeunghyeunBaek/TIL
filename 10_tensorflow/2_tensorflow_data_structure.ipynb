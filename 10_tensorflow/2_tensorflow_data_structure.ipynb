{
 "cells": [
  {
   "cell_type": "markdown",
   "metadata": {
    "toc": true
   },
   "source": [
    "<h1>Table of Contents<span class=\"tocSkip\"></span></h1>\n",
    "<div class=\"toc\"><ul class=\"toc-item\"></ul></div>"
   ]
  },
  {
   "cell_type": "markdown",
   "metadata": {},
   "source": [
    "**텐서**\n",
    "* 동적 크기를 갖는 다차원 자료구조\n",
    "* 차원 표기법\n",
    "    * 구조(shape): [D0, D1, ... Dn-1]\n",
    "    * 랭크(rank): n\n",
    "    * 차원번호(dimension number): n-D\n",
    "* 변수와 상수 선언\n",
    "    * 변수: `tf.variable()`\n",
    "    * 상수: `tf.constant()`\n",
    "    * 변수 초기화: `tf.global_variables_initializer()`\n",
    "    * 심벌릭 변수\n",
    "        * 프로그램 실행 중 데이터를 바꾸기 위함\n",
    "        * `ph_1 = tf.placeholder('자료형, 구조`): 심벌릭 변수 선언\n",
    "        * `sess.run(..., feed_dict={ph_1: a, ph2: b})` 플레이스홀더에 값 입력"
   ]
  },
  {
   "cell_type": "code",
   "execution_count": 1,
   "metadata": {
    "ExecuteTime": {
     "end_time": "2019-08-03T09:00:26.400882Z",
     "start_time": "2019-08-03T09:00:16.551529Z"
    }
   },
   "outputs": [],
   "source": [
    "import tensorflow as tf"
   ]
  },
  {
   "cell_type": "code",
   "execution_count": 11,
   "metadata": {
    "ExecuteTime": {
     "end_time": "2019-08-03T09:04:41.560916Z",
     "start_time": "2019-08-03T09:04:41.543059Z"
    }
   },
   "outputs": [
    {
     "data": {
      "text/plain": [
       "12.0"
      ]
     },
     "execution_count": 11,
     "metadata": {},
     "output_type": "execute_result"
    }
   ],
   "source": [
    "ph_1 = tf.placeholder('float')\n",
    "ph_2 = tf.placeholder('float')\n",
    "\n",
    "y = tf.multiply(ph_1, ph_2)  # 연산 등록, 곱하기\n",
    "\n",
    "\n",
    "sess = tf.Session()\n",
    "init = tf.global_variables_initializer()\n",
    "\n",
    "sess.run(init)  # 초기화\n",
    "sess.run(y, feed_dict={ph_1: 3, ph_2: 4})  # 플레이스홀더에 값 입력"
   ]
  },
  {
   "cell_type": "code",
   "execution_count": null,
   "metadata": {},
   "outputs": [],
   "source": []
  }
 ],
 "metadata": {
  "kernelspec": {
   "display_name": "Python 3",
   "language": "python",
   "name": "python3"
  },
  "language_info": {
   "codemirror_mode": {
    "name": "ipython",
    "version": 3
   },
   "file_extension": ".py",
   "mimetype": "text/x-python",
   "name": "python",
   "nbconvert_exporter": "python",
   "pygments_lexer": "ipython3",
   "version": "3.7.0"
  },
  "toc": {
   "base_numbering": 1,
   "nav_menu": {},
   "number_sections": true,
   "sideBar": true,
   "skip_h1_title": true,
   "title_cell": "Table of Contents",
   "title_sidebar": "Contents",
   "toc_cell": true,
   "toc_position": {},
   "toc_section_display": true,
   "toc_window_display": true
  }
 },
 "nbformat": 4,
 "nbformat_minor": 2
}
