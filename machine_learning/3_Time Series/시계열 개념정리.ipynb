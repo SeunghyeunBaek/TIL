{
 "cells": [
  {
   "cell_type": "markdown",
   "metadata": {
    "toc": true
   },
   "source": [
    "<h1>Table of Contents<span class=\"tocSkip\"></span></h1>\n",
    "<div class=\"toc\"><ul class=\"toc-item\"><li><span><a href=\"#시계열의-정상성-검정\" data-toc-modified-id=\"시계열의-정상성-검정-1\"><span class=\"toc-item-num\">1&nbsp;&nbsp;</span>시계열의 정상성 검정</a></span><ul class=\"toc-item\"><li><span><a href=\"#ADF,-KPSS,-PP\" data-toc-modified-id=\"ADF,-KPSS,-PP-1.1\"><span class=\"toc-item-num\">1.1&nbsp;&nbsp;</span>ADF, KPSS, PP</a></span></li></ul></li><li><span><a href=\"#시계열-모델링\" data-toc-modified-id=\"시계열-모델링-2\"><span class=\"toc-item-num\">2&nbsp;&nbsp;</span>시계열 모델링</a></span><ul class=\"toc-item\"><li><span><a href=\"#일변수-시계열(Univariate-Time-Series)\" data-toc-modified-id=\"일변수-시계열(Univariate-Time-Series)-2.1\"><span class=\"toc-item-num\">2.1&nbsp;&nbsp;</span>일변수 시계열(Univariate Time Series)</a></span></li><li><span><a href=\"#다변수-시계열(Multivariate-Time-Series)\" data-toc-modified-id=\"다변수-시계열(Multivariate-Time-Series)-2.2\"><span class=\"toc-item-num\">2.2&nbsp;&nbsp;</span>다변수 시계열(Multivariate Time Series)</a></span></li><li><span><a href=\"#AR,-MA,-ARIMA\" data-toc-modified-id=\"AR,-MA,-ARIMA-2.3\"><span class=\"toc-item-num\">2.3&nbsp;&nbsp;</span>AR, MA, ARIMA</a></span></li><li><span><a href=\"#Prophet\" data-toc-modified-id=\"Prophet-2.4\"><span class=\"toc-item-num\">2.4&nbsp;&nbsp;</span>Prophet</a></span></li><li><span><a href=\"#UCM\" data-toc-modified-id=\"UCM-2.5\"><span class=\"toc-item-num\">2.5&nbsp;&nbsp;</span>UCM</a></span></li><li><span><a href=\"#Hirachial\" data-toc-modified-id=\"Hirachial-2.6\"><span class=\"toc-item-num\">2.6&nbsp;&nbsp;</span>Hirachial</a></span></li></ul></li><li><span><a href=\"#최적모델탐색\" data-toc-modified-id=\"최적모델탐색-3\"><span class=\"toc-item-num\">3&nbsp;&nbsp;</span>최적모델탐색</a></span><ul class=\"toc-item\"><li><span><a href=\"#ACF,-PACF,-AIC,-Order\" data-toc-modified-id=\"ACF,-PACF,-AIC,-Order-3.1\"><span class=\"toc-item-num\">3.1&nbsp;&nbsp;</span>ACF, PACF, AIC, Order</a></span></li><li><span><a href=\"#References\" data-toc-modified-id=\"References-3.2\"><span class=\"toc-item-num\">3.2&nbsp;&nbsp;</span>References</a></span></li></ul></li></ul></div>"
   ]
  },
  {
   "cell_type": "markdown",
   "metadata": {},
   "source": [
    "## 시계열의 정상성 검정"
   ]
  },
  {
   "cell_type": "markdown",
   "metadata": {},
   "source": [
    "### ADF, KPSS, PP"
   ]
  },
  {
   "cell_type": "markdown",
   "metadata": {},
   "source": [
    "## 시계열 모델링"
   ]
  },
  {
   "cell_type": "markdown",
   "metadata": {},
   "source": [
    "### 일변수 시계열(Univariate Time Series)"
   ]
  },
  {
   "cell_type": "markdown",
   "metadata": {
    "ExecuteTime": {
     "end_time": "2019-04-03T07:22:28.433748Z",
     "start_time": "2019-04-03T07:22:28.426762Z"
    }
   },
   "source": [
    "**Simple Average**  \n",
    "**Moving Average**  \n",
    "**Holt's Linear Trend**  \n",
    "**Holt's Winter Method**"
   ]
  },
  {
   "cell_type": "markdown",
   "metadata": {},
   "source": [
    "### 다변수 시계열(Multivariate Time Series)"
   ]
  },
  {
   "cell_type": "markdown",
   "metadata": {},
   "source": [
    "**Vector Auto Regression(VAR)**  \n",
    "**LDTM**  \n",
    "**Reinfoced Learning**  "
   ]
  },
  {
   "cell_type": "markdown",
   "metadata": {},
   "source": [
    "### AR, MA, ARIMA"
   ]
  },
  {
   "cell_type": "markdown",
   "metadata": {},
   "source": [
    "### Prophet"
   ]
  },
  {
   "cell_type": "markdown",
   "metadata": {},
   "source": [
    "### UCM"
   ]
  },
  {
   "cell_type": "markdown",
   "metadata": {},
   "source": [
    "### Hirachial"
   ]
  },
  {
   "cell_type": "markdown",
   "metadata": {},
   "source": [
    "## 최적모델탐색"
   ]
  },
  {
   "cell_type": "markdown",
   "metadata": {},
   "source": [
    "### ACF, PACF, AIC, Order"
   ]
  },
  {
   "cell_type": "markdown",
   "metadata": {},
   "source": [
    "### References"
   ]
  },
  {
   "cell_type": "markdown",
   "metadata": {},
   "source": [
    "1. [Time Series - Siraj Raval](https://www.youtube.com/watch?v=d4Sn6ny_5LI)"
   ]
  },
  {
   "cell_type": "code",
   "execution_count": null,
   "metadata": {},
   "outputs": [],
   "source": []
  }
 ],
 "metadata": {
  "kernelspec": {
   "display_name": "Python 3",
   "language": "python",
   "name": "python3"
  },
  "language_info": {
   "codemirror_mode": {
    "name": "ipython",
    "version": 3
   },
   "file_extension": ".py",
   "mimetype": "text/x-python",
   "name": "python",
   "nbconvert_exporter": "python",
   "pygments_lexer": "ipython3",
   "version": "3.7.0"
  },
  "toc": {
   "base_numbering": 1,
   "nav_menu": {},
   "number_sections": true,
   "sideBar": true,
   "skip_h1_title": true,
   "title_cell": "Table of Contents",
   "title_sidebar": "Contents",
   "toc_cell": true,
   "toc_position": {},
   "toc_section_display": true,
   "toc_window_display": true
  },
  "varInspector": {
   "cols": {
    "lenName": 16,
    "lenType": 16,
    "lenVar": 40
   },
   "kernels_config": {
    "python": {
     "delete_cmd_postfix": "",
     "delete_cmd_prefix": "del ",
     "library": "var_list.py",
     "varRefreshCmd": "print(var_dic_list())"
    },
    "r": {
     "delete_cmd_postfix": ") ",
     "delete_cmd_prefix": "rm(",
     "library": "var_list.r",
     "varRefreshCmd": "cat(var_dic_list()) "
    }
   },
   "types_to_exclude": [
    "module",
    "function",
    "builtin_function_or_method",
    "instance",
    "_Feature"
   ],
   "window_display": false
  }
 },
 "nbformat": 4,
 "nbformat_minor": 2
}
