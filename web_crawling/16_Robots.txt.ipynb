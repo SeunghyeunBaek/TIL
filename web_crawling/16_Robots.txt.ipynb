{
 "cells": [
  {
   "cell_type": "markdown",
   "metadata": {
    "toc": true
   },
   "source": [
    "<h1>Table of Contents<span class=\"tocSkip\"></span></h1>\n",
    "<div class=\"toc\"><ul class=\"toc-item\"></ul></div>"
   ]
  },
  {
   "cell_type": "markdown",
   "metadata": {},
   "source": [
    "딜레이 타임을 넉넉하게(1초) 준다."
   ]
  },
  {
   "cell_type": "code",
   "execution_count": 2,
   "metadata": {
    "ExecuteTime": {
     "end_time": "2019-03-26T06:25:32.217860Z",
     "start_time": "2019-03-26T06:25:32.213873Z"
    }
   },
   "outputs": [],
   "source": [
    "# robots.txt 파일을 파싱할 수 있는 모듈\n",
    "# 크롤링할 수 있는 페이지인지 확인해야한다.\n",
    "\n",
    "import urllib.robotparser"
   ]
  },
  {
   "cell_type": "code",
   "execution_count": 6,
   "metadata": {
    "ExecuteTime": {
     "end_time": "2019-03-26T06:27:53.113069Z",
     "start_time": "2019-03-26T06:27:52.073846Z"
    }
   },
   "outputs": [],
   "source": [
    "# robots.txt 를 생성할 수 있는 파서 생성\n",
    "rp = urllib.robotparser.RobotFileParser()\n",
    "rp.set_url('https://twitter.com/robots.txt')\n",
    "rp.read()"
   ]
  },
  {
   "cell_type": "markdown",
   "metadata": {},
   "source": [
    "https://twitter.com/robots.txt\n",
    "\n",
    "Every bot that might possibly read and respect this file.\n",
    "\n",
    "User-agent: *\n",
    "\n",
    "Allow: /*?lang=\n",
    "\n",
    "Allow: /hashtag/*?src=\n",
    "\n",
    "Allow: /search?q=%23\n",
    "\n",
    "Disallow: /search/realtime\n",
    "\n",
    "Disallow: /search/users\n",
    "\n",
    "Disallow: /search/*/grid"
   ]
  },
  {
   "cell_type": "code",
   "execution_count": 13,
   "metadata": {
    "ExecuteTime": {
     "end_time": "2019-03-26T06:31:34.792233Z",
     "start_time": "2019-03-26T06:31:34.782292Z"
    }
   },
   "outputs": [
    {
     "name": "stdout",
     "output_type": "stream",
     "text": [
      "False\n"
     ]
    }
   ],
   "source": [
    "# 헤당 URL의 크롤링 가능 여부 확인\n",
    "# User-agent 에서 사용자정보 확인\n",
    "# *은 지정된 사용자 이외의 모든 사용자를 뜻함\n",
    "\n",
    "a1 = rp.can_fetch('*','https://twitter.com/search/realtime') \n",
    "print(a1) # 불가"
   ]
  },
  {
   "cell_type": "code",
   "execution_count": 16,
   "metadata": {
    "ExecuteTime": {
     "end_time": "2019-03-26T06:33:54.530784Z",
     "start_time": "2019-03-26T06:33:54.524798Z"
    }
   },
   "outputs": [
    {
     "name": "stdout",
     "output_type": "stream",
     "text": [
      "True\n"
     ]
    }
   ],
   "source": [
    "a2 = rp.can_fetch('*','https://twitter.com/search/*?lang=') \n",
    "print(a2) # 허용"
   ]
  },
  {
   "cell_type": "code",
   "execution_count": 20,
   "metadata": {
    "ExecuteTime": {
     "end_time": "2019-03-26T06:35:14.619656Z",
     "start_time": "2019-03-26T06:35:14.610288Z"
    }
   },
   "outputs": [
    {
     "name": "stdout",
     "output_type": "stream",
     "text": [
      "None\n"
     ]
    }
   ],
   "source": [
    "# delytime 읽어오기\n",
    "# delay_time 은 잘 동작하지 않는다.\n",
    "\n",
    "delay_time = rp.crawl_delay('*')\n",
    "print(delay_time)"
   ]
  },
  {
   "cell_type": "code",
   "execution_count": null,
   "metadata": {},
   "outputs": [],
   "source": []
  }
 ],
 "metadata": {
  "kernelspec": {
   "display_name": "Python 3",
   "language": "python",
   "name": "python3"
  },
  "language_info": {
   "codemirror_mode": {
    "name": "ipython",
    "version": 3
   },
   "file_extension": ".py",
   "mimetype": "text/x-python",
   "name": "python",
   "nbconvert_exporter": "python",
   "pygments_lexer": "ipython3",
   "version": "3.7.0"
  },
  "toc": {
   "base_numbering": 1,
   "nav_menu": {},
   "number_sections": true,
   "sideBar": true,
   "skip_h1_title": false,
   "title_cell": "Table of Contents",
   "title_sidebar": "Contents",
   "toc_cell": true,
   "toc_position": {},
   "toc_section_display": true,
   "toc_window_display": true
  },
  "varInspector": {
   "cols": {
    "lenName": 16,
    "lenType": 16,
    "lenVar": 40
   },
   "kernels_config": {
    "python": {
     "delete_cmd_postfix": "",
     "delete_cmd_prefix": "del ",
     "library": "var_list.py",
     "varRefreshCmd": "print(var_dic_list())"
    },
    "r": {
     "delete_cmd_postfix": ") ",
     "delete_cmd_prefix": "rm(",
     "library": "var_list.r",
     "varRefreshCmd": "cat(var_dic_list()) "
    }
   },
   "types_to_exclude": [
    "module",
    "function",
    "builtin_function_or_method",
    "instance",
    "_Feature"
   ],
   "window_display": false
  }
 },
 "nbformat": 4,
 "nbformat_minor": 2
}
