{
 "cells": [
  {
   "cell_type": "markdown",
   "metadata": {
    "toc": true
   },
   "source": [
    "<h1>Table of Contents<span class=\"tocSkip\"></span></h1>\n",
    "<div class=\"toc\"><ul class=\"toc-item\"></ul></div>"
   ]
  },
  {
   "cell_type": "code",
   "execution_count": 27,
   "metadata": {
    "ExecuteTime": {
     "end_time": "2019-03-22T06:26:07.849594Z",
     "start_time": "2019-03-22T06:26:07.845560Z"
    }
   },
   "outputs": [],
   "source": [
    "from selenium import webdriver\n",
    "from selenium.webdriver.support.ui import Select"
   ]
  },
  {
   "cell_type": "code",
   "execution_count": 10,
   "metadata": {
    "ExecuteTime": {
     "end_time": "2019-03-22T05:53:45.427199Z",
     "start_time": "2019-03-22T05:53:40.426278Z"
    }
   },
   "outputs": [],
   "source": [
    "driver = webdriver.Chrome('chromedriver')\n",
    "driver.get('https://naver.com')"
   ]
  },
  {
   "cell_type": "code",
   "execution_count": 11,
   "metadata": {
    "ExecuteTime": {
     "end_time": "2019-03-22T05:54:03.361345Z",
     "start_time": "2019-03-22T05:54:02.820208Z"
    }
   },
   "outputs": [],
   "source": [
    "# 회원가입 버튼 가져와서 클릭\n",
    "a_tag = driver.find_element_by_css_selector('#account > div > div > a')\n",
    "a_tag.click()"
   ]
  },
  {
   "cell_type": "code",
   "execution_count": 13,
   "metadata": {
    "ExecuteTime": {
     "end_time": "2019-03-22T05:55:05.399539Z",
     "start_time": "2019-03-22T05:55:05.320776Z"
    }
   },
   "outputs": [],
   "source": [
    "# 약관동의 체크박스\n",
    "checkbox_tag = driver.find_element_by_css_selector('#join_form > div.terms_p > p > span > label')\n",
    "checkbox_tag.click()"
   ]
  },
  {
   "cell_type": "code",
   "execution_count": 15,
   "metadata": {
    "ExecuteTime": {
     "end_time": "2019-03-22T05:57:00.389663Z",
     "start_time": "2019-03-22T05:57:00.083610Z"
    }
   },
   "outputs": [],
   "source": [
    "# 동의\n",
    "agree_btn = driver.find_element_by_css_selector('#btnAgree')\n",
    "agree_btn.click()"
   ]
  },
  {
   "cell_type": "code",
   "execution_count": 22,
   "metadata": {
    "ExecuteTime": {
     "end_time": "2019-03-22T06:22:25.064168Z",
     "start_time": "2019-03-22T06:22:24.466418Z"
    }
   },
   "outputs": [],
   "source": [
    "# id 입력\n",
    "input_id = driver.find_element_by_css_selector('#id')\n",
    "input_id.send_keys('wonca15') # Endter\n",
    "\n",
    "input_pswd = driver.find_element_by_css_selector('#pswd1')\n",
    "input_pswd.send_keys('Tmdgus553#')\n",
    "input_pswd2 = driver.find_element_by_css_selector('#pswd2')\n",
    "input_pswd2.send_keys('Tmdgus553#')\n",
    "\n",
    "name = driver.find_element_by_css_selector('#name')\n",
    "name.send_keys('백승현')\n",
    "\n",
    "#생년월\n",
    "year = driver.find_element_by_css_selector('#yy')\n",
    "year.send_keys('1991')\n",
    "\n",
    "month = driver.find_element_by_css_selector('#mm')\n",
    "# 객체화\n",
    "select_tag = Select(month)\n",
    "select_tag.select_by_value('02')\n",
    "\n",
    "year = driver.find_element_by_css_selector('#dd')\n",
    "year.send_keys('10')\n",
    "\n",
    "# 성별\n",
    "gender = driver.find_element_by_css_selector('#gender')\n",
    "# 객체화\n",
    "gender_tag = Select(gender)\n",
    "gender_tag.select_by_value('0')\n",
    "\n",
    "# email\n",
    "email = driver.find_element_by_css_selector('#email')\n",
    "email.send_keys('wonca14@ajou.ac.kr')\n",
    "\n",
    "pn = driver.find_element_by_css_selector('#phoneNo')\n",
    "pn.send_keys('01028374875')\n",
    "\n",
    "# 인증번호 받기\n",
    "cert_btn = driver.find_element_by_css_selector('#btnSend')\n",
    "cert_btn.click()\n",
    "\n",
    "sns_code = input('인증번호를 입력해주세요')\n",
    "auth_no = driver.find_element_by_css_selector('#authNo')\n",
    "auth_no.send_keys(sns_code)\n",
    "\n",
    "# 가입 확인 버튼\n",
    "join_btn = driver.find_element_by_css_selector('#btnJoin')\n",
    "join_btn.click()\n"
   ]
  }
 ],
 "metadata": {
  "kernelspec": {
   "display_name": "Python 3",
   "language": "python",
   "name": "python3"
  },
  "language_info": {
   "codemirror_mode": {
    "name": "ipython",
    "version": 3
   },
   "file_extension": ".py",
   "mimetype": "text/x-python",
   "name": "python",
   "nbconvert_exporter": "python",
   "pygments_lexer": "ipython3",
   "version": "3.7.0"
  },
  "toc": {
   "base_numbering": 1,
   "nav_menu": {},
   "number_sections": true,
   "sideBar": true,
   "skip_h1_title": false,
   "title_cell": "Table of Contents",
   "title_sidebar": "Contents",
   "toc_cell": true,
   "toc_position": {},
   "toc_section_display": true,
   "toc_window_display": true
  },
  "varInspector": {
   "cols": {
    "lenName": 16,
    "lenType": 16,
    "lenVar": 40
   },
   "kernels_config": {
    "python": {
     "delete_cmd_postfix": "",
     "delete_cmd_prefix": "del ",
     "library": "var_list.py",
     "varRefreshCmd": "print(var_dic_list())"
    },
    "r": {
     "delete_cmd_postfix": ") ",
     "delete_cmd_prefix": "rm(",
     "library": "var_list.r",
     "varRefreshCmd": "cat(var_dic_list()) "
    }
   },
   "types_to_exclude": [
    "module",
    "function",
    "builtin_function_or_method",
    "instance",
    "_Feature"
   ],
   "window_display": false
  }
 },
 "nbformat": 4,
 "nbformat_minor": 2
}
