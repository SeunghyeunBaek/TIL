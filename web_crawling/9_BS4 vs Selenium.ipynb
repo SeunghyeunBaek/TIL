{
 "cells": [
  {
   "cell_type": "markdown",
   "metadata": {
    "toc": true
   },
   "source": [
    "<h1>Table of Contents<span class=\"tocSkip\"></span></h1>\n",
    "<div class=\"toc\"><ul class=\"toc-item\"></ul></div>"
   ]
  },
  {
   "cell_type": "code",
   "execution_count": 2,
   "metadata": {
    "ExecuteTime": {
     "end_time": "2019-03-22T05:14:22.117905Z",
     "start_time": "2019-03-22T05:14:21.910448Z"
    }
   },
   "outputs": [],
   "source": [
    "import requests\n",
    "import bs4\n",
    "from selenium import webdriver"
   ]
  },
  {
   "cell_type": "code",
   "execution_count": 3,
   "metadata": {
    "ExecuteTime": {
     "end_time": "2019-03-22T05:14:49.997848Z",
     "start_time": "2019-03-22T05:14:49.995052Z"
    }
   },
   "outputs": [],
   "source": [
    "# 요청할 주소\n",
    "url = 'http://www.softcampus.co.kr/test100.jsp'"
   ]
  },
  {
   "cell_type": "code",
   "execution_count": 7,
   "metadata": {
    "ExecuteTime": {
     "end_time": "2019-03-22T05:18:34.814502Z",
     "start_time": "2019-03-22T05:18:34.774081Z"
    }
   },
   "outputs": [
    {
     "name": "stdout",
     "output_type": "stream",
     "text": [
      "[]\n"
     ]
    }
   ],
   "source": [
    "# requests + bs4\n",
    "response = requests.get(url)\n",
    "soup = bs4.BeautifulSoup(response.text,'lxml')\n",
    "\n",
    "#서버로 부터 받은 응답결과에는 id가 test인 태그가 없다.\n",
    "tag_test = soup.select('#test')\n",
    "print(tag_test)"
   ]
  },
  {
   "cell_type": "code",
   "execution_count": 10,
   "metadata": {
    "ExecuteTime": {
     "end_time": "2019-03-22T05:21:45.715144Z",
     "start_time": "2019-03-22T05:21:41.415768Z"
    }
   },
   "outputs": [
    {
     "name": "stdout",
     "output_type": "stream",
     "text": [
      "<selenium.webdriver.remote.webelement.WebElement (session=\"f93abf8db9582ab2ea21b4b3f458e0df\", element=\"0.4453883425482783-1\")>\n"
     ]
    }
   ],
   "source": [
    "# selenium\n",
    "driver = webdriver.Chrome('chromedriver')\n",
    "driver.get(url)\n",
    "test_tag = driver.find_element_by_id('test')\n",
    "print(test_tag)"
   ]
  },
  {
   "cell_type": "code",
   "execution_count": 16,
   "metadata": {
    "ExecuteTime": {
     "end_time": "2019-03-22T05:37:32.191208Z",
     "start_time": "2019-03-22T05:37:28.735087Z"
    }
   },
   "outputs": [
    {
     "name": "stdout",
     "output_type": "stream",
     "text": [
      "<!DOCTYPE html><html xmlns=\"http://www.w3.org/1999/xhtml\" lang=\"en\"><head>\n",
      "  <title>Document</title>\n",
      "  <meta charset=\"utf-8\" />\n",
      "  <script>\n",
      "\t\twindow.onload = function(){\n",
      "\t\t\tvar result = document.getElementById(\"result\");\n",
      "\n",
      "\t\t\tresult.innerHTML = \"&lt;p id='test'&gt;id test p 태그&lt;/p&gt;\"\n",
      "\t\t}\n",
      "  </script>\n",
      " </head>\n",
      " <body>\n",
      "\t<div id=\"result\"><p id=\"test\">id test p 태그</p></div>\n",
      " \n",
      "\n",
      "\n",
      "</body></html>\n",
      "<p id=\"test\">id test p 태그</p>\n"
     ]
    }
   ],
   "source": [
    "# selenium+bs4\n",
    "driver = webdriver.Chrome('chromedriver')\n",
    "driver.get('http://www.softcampus.co.kr/test100.jsp')\n",
    "body = driver.page_source # element 탭에 있는 코드를 읽어온다.\n",
    "print(body)\n",
    "\n",
    "#print html\n",
    "soup = bs4.BeautifulSoup(driver.page_source,'lxml')\n",
    "test_tag = soup.select('#test')[0]\n",
    "print(test_tag)"
   ]
  },
  {
   "cell_type": "code",
   "execution_count": null,
   "metadata": {},
   "outputs": [],
   "source": []
  }
 ],
 "metadata": {
  "kernelspec": {
   "display_name": "Python 3",
   "language": "python",
   "name": "python3"
  },
  "language_info": {
   "codemirror_mode": {
    "name": "ipython",
    "version": 3
   },
   "file_extension": ".py",
   "mimetype": "text/x-python",
   "name": "python",
   "nbconvert_exporter": "python",
   "pygments_lexer": "ipython3",
   "version": "3.7.0"
  },
  "toc": {
   "base_numbering": 1,
   "nav_menu": {},
   "number_sections": true,
   "sideBar": true,
   "skip_h1_title": false,
   "title_cell": "Table of Contents",
   "title_sidebar": "Contents",
   "toc_cell": true,
   "toc_position": {},
   "toc_section_display": true,
   "toc_window_display": true
  },
  "varInspector": {
   "cols": {
    "lenName": 16,
    "lenType": 16,
    "lenVar": 40
   },
   "kernels_config": {
    "python": {
     "delete_cmd_postfix": "",
     "delete_cmd_prefix": "del ",
     "library": "var_list.py",
     "varRefreshCmd": "print(var_dic_list())"
    },
    "r": {
     "delete_cmd_postfix": ") ",
     "delete_cmd_prefix": "rm(",
     "library": "var_list.r",
     "varRefreshCmd": "cat(var_dic_list()) "
    }
   },
   "types_to_exclude": [
    "module",
    "function",
    "builtin_function_or_method",
    "instance",
    "_Feature"
   ],
   "window_display": false
  }
 },
 "nbformat": 4,
 "nbformat_minor": 2
}
