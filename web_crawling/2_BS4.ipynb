{
 "cells": [
  {
   "cell_type": "markdown",
   "metadata": {},
   "source": [
    "# 2_BS4"
   ]
  },
  {
   "cell_type": "markdown",
   "metadata": {},
   "source": [
    "xml이나 html 문서를 분석해서 원하는 데이터를 쉽게 가져올 수 있도록 제작된 모듈"
   ]
  },
  {
   "cell_type": "code",
   "execution_count": 1,
   "metadata": {},
   "outputs": [],
   "source": [
    "#import module\n",
    "#pip install beautifulsoup4\n",
    "#pip install lxml\n",
    "import bs4"
   ]
  },
  {
   "cell_type": "code",
   "execution_count": 2,
   "metadata": {},
   "outputs": [],
   "source": [
    "#객체 생성 방법\n",
    "html = ''\n",
    "soup = bs4.BeautifulSoup(html,'lxml') # input = html, parser ; lxml 성능이 가장 좋다."
   ]
  },
  {
   "cell_type": "code",
   "execution_count": 3,
   "metadata": {},
   "outputs": [
    {
     "name": "stdout",
     "output_type": "stream",
     "text": [
      "<html><body><p>test</p></body></html>\n",
      "\n",
      "\n",
      "<html>\n",
      " <body>\n",
      "  <p>\n",
      "   test\n",
      "  </p>\n",
      " </body>\n",
      "</html>\n"
     ]
    }
   ],
   "source": [
    "html = '<p>test</p>' # <p> 단락을 구분\n",
    "soup = bs4.BeautifulSoup(html,'lxml') # html 양식을 붙여서 객체를 만든다. <html><body>...\n",
    "print(soup)\n",
    "print('\\n')\n",
    "print(soup.prettify()) # 들여쓰기, 세로쓰기 적용, 코드를 눈으로 확인해 보고 싶을 때 prettify() 함수를 쓴다."
   ]
  },
  {
   "cell_type": "code",
   "execution_count": 4,
   "metadata": {
    "scrolled": true
   },
   "outputs": [
    {
     "name": "stdout",
     "output_type": "stream",
     "text": [
      "<html><body><p>\n",
      "        test\n",
      "    </p>\n",
      "</body></html>\n",
      "\n",
      "\n",
      "<html>\n",
      " <body>\n",
      "  <p>\n",
      "   test\n",
      "  </p>\n",
      " </body>\n",
      "</html>\n"
     ]
    }
   ],
   "source": [
    "html ='''\n",
    "    <p>\n",
    "        test\n",
    "    </p>\n",
    "'''\n",
    "soup = bs4.BeautifulSoup(html, 'lxml')\n",
    "print(soup)\n",
    "print('\\n')\n",
    "print(soup.prettify())"
   ]
  },
  {
   "cell_type": "code",
   "execution_count": 5,
   "metadata": {},
   "outputs": [],
   "source": [
    "# html 예제\n",
    "html = '''\n",
    "    <html>\n",
    "        <head>\n",
    "            <title>타이틀 태그</title>\n",
    "        </head>\n",
    "        <body>\n",
    "            <p>test1</p>\n",
    "            <p>test2</p>\n",
    "            <p>test3</p>\n",
    "        </body>\n",
    "    </html>\n",
    "'''"
   ]
  },
  {
   "cell_type": "code",
   "execution_count": 6,
   "metadata": {},
   "outputs": [],
   "source": [
    "soup = bs4.BeautifulSoup(html, 'lxml')"
   ]
  },
  {
   "cell_type": "code",
   "execution_count": 7,
   "metadata": {},
   "outputs": [
    {
     "name": "stdout",
     "output_type": "stream",
     "text": [
      "태그 : <title>타이틀 태그</title>\n",
      "태그 사이의 문자열 : 타이틀 태그\n",
      "태그 이름 : title\n"
     ]
    }
   ],
   "source": [
    "# 타이틀 태그 객체\n",
    "# bs4 로 객체를 만들면 html 태그를 객체로 저장한다.\n",
    "print(f'태그 : {soup.title}')\n",
    "print(f'태그 사이의 문자열 : {soup.title.text}')\n",
    "print(f'태그 이름 : {soup.title.name}')"
   ]
  },
  {
   "cell_type": "code",
   "execution_count": 8,
   "metadata": {},
   "outputs": [
    {
     "name": "stdout",
     "output_type": "stream",
     "text": [
      "{'type': 'text', 'id': 'test id', 'class': ['c1', 'c2']}\n",
      "------------------------------------------------------------------------------------------------------------------------\n",
      "text\n",
      "test id\n",
      "['c1', 'c2']\n",
      "------------------------------------------------------------------------------------------------------------------------\n",
      "default value\n"
     ]
    }
   ],
   "source": [
    "# 태그 속성 가져오기\n",
    "# type, id, class\n",
    "html = '''\n",
    "    <html>\n",
    "        <body>\n",
    "            <input type = 'text' id = 'test id' class = 'c1 c2'/>\n",
    "        </body>\n",
    "    </html>\n",
    "'''\n",
    "soup = bs4.BeautifulSoup(html,'lxml')\n",
    "print(soup.input.attrs) # attrs 는 dictionary로 저장됨\n",
    "print('-'*120)\n",
    "print(soup.input.attrs['type'])\n",
    "print(soup.input.attrs['id'])\n",
    "print(soup.input.attrs['class'])\n",
    "print('-'*120)\n",
    "#Dictionary 에 없는 key 값을 참조하면 오류가 난다. get 함수를 쓰면 None 을 반환한다.\n",
    "#print(soup.input.attrs['non_ex_key'])\n",
    "print(soup.input.attrs.get('non_ex_key','default value')) #key가 없으면 default value 를 반환함."
   ]
  },
  {
   "cell_type": "code",
   "execution_count": 10,
   "metadata": {},
   "outputs": [
    {
     "name": "stdout",
     "output_type": "stream",
     "text": [
      "p태그 내부의 문자열\n",
      "p태그 내부의 문자열\n"
     ]
    }
   ],
   "source": [
    "# 태그 내부의 문자열 값 가져오기\n",
    "html = '''\n",
    "    <p>p태그 내부의 문자열</p> \n",
    "'''\n",
    "soup = bs4.BeautifulSoup(html)\n",
    "\n",
    "print(soup.p.text)\n",
    "print(soup.p.string)"
   ]
  },
  {
   "cell_type": "code",
   "execution_count": 19,
   "metadata": {
    "scrolled": true
   },
   "outputs": [
    {
     "name": "stdout",
     "output_type": "stream",
     "text": [
      "<html>\n",
      " <body>\n",
      "  <p>\n",
      "   test0\n",
      "   <span>\n",
      "    test1\n",
      "   </span>\n",
      "   <span>\n",
      "    test2\n",
      "   </span>\n",
      "   <span>\n",
      "    test3\n",
      "   </span>\n",
      "  </p>\n",
      " </body>\n",
      "</html>\n",
      "--------------------------------------------------------------------------------\n",
      "\n",
      "        test0\n",
      "        test1\n",
      "test2\n",
      "test3\n",
      "\n",
      "--------------------------------------------------------------------------------\n",
      "None\n"
     ]
    }
   ],
   "source": [
    "html = '''\n",
    "    <p>\n",
    "        test0\n",
    "        <span>test1</span>\n",
    "        <span>test2</span>\n",
    "        <span>test3</span>\n",
    "    </p>\n",
    "'''\n",
    "soup = bs4.BeautifulSoup(html,'lxml')\n",
    "print(soup.prettify())\n",
    "print('--'*40)\n",
    "print(soup.p.text) # 태그사이에 다른 태그가 있어도 문자열을 모두 가져옴\n",
    "print('--'*40)\n",
    "print(soup.p.string) # 태그사이에 다른 태그가 있으면 None을 반납함"
   ]
  },
  {
   "cell_type": "code",
   "execution_count": null,
   "metadata": {},
   "outputs": [],
   "source": []
  }
 ],
 "metadata": {
  "kernelspec": {
   "display_name": "Python 3",
   "language": "python",
   "name": "python3"
  },
  "language_info": {
   "codemirror_mode": {
    "name": "ipython",
    "version": 3
   },
   "file_extension": ".py",
   "mimetype": "text/x-python",
   "name": "python",
   "nbconvert_exporter": "python",
   "pygments_lexer": "ipython3",
   "version": "3.7.0"
  }
 },
 "nbformat": 4,
 "nbformat_minor": 2
}
