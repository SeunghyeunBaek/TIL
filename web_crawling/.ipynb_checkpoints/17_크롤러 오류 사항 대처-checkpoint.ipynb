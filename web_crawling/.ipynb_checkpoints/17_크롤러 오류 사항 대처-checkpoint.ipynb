{
 "cells": [
  {
   "cell_type": "markdown",
   "metadata": {
    "toc": true
   },
   "source": [
    "<h1>Table of Contents<span class=\"tocSkip\"></span></h1>\n",
    "<div class=\"toc\"><ul class=\"toc-item\"></ul></div>"
   ]
  },
  {
   "cell_type": "markdown",
   "metadata": {},
   "source": [
    "http://httpbin.org/status/200,404,503,408,500,502,504\n",
    "\n",
    "다양한 에러를 랜덤으로 테스트해볼 수 있음.\n",
    "\n",
    "크롤링을 하다가 중간에 오류가 발생할 수 있기때문에, 크롤러 개발시 오류처리에 유의해야한다.\n",
    "\n",
    "500번 에러가날 경우 답이 없다. 서버 개발자가 코드를 잘못 만들어서 나는 오류다."
   ]
  },
  {
   "cell_type": "code",
   "execution_count": 1,
   "metadata": {
    "ExecuteTime": {
     "end_time": "2019-03-26T07:36:36.180477Z",
     "start_time": "2019-03-26T07:36:36.078745Z"
    }
   },
   "outputs": [],
   "source": [
    "import requests \n",
    "import time\n",
    "from retrying import retry\n"
   ]
  },
  {
   "cell_type": "code",
   "execution_count": 2,
   "metadata": {
    "ExecuteTime": {
     "end_time": "2019-03-26T07:36:36.724019Z",
     "start_time": "2019-03-26T07:36:36.719032Z"
    }
   },
   "outputs": [],
   "source": [
    "# 일시적인 오류(네트워크 상태, 일시적인 장애)를 나타내는 상태코드(500번 제외)\n",
    "# 500번은 서버 코드가 잘못돼 발생하는 코드\n",
    "# 404 는 url 오류\n",
    "\n",
    "error_code = (503,408,502,504,400)"
   ]
  },
  {
   "cell_type": "code",
   "execution_count": 3,
   "metadata": {
    "ExecuteTime": {
     "end_time": "2019-03-26T07:36:37.287513Z",
     "start_time": "2019-03-26T07:36:37.280530Z"
    }
   },
   "outputs": [],
   "source": [
    "# 요청처리를 하는 함수\n",
    "# retry 는 힘수 실행도중 오류나 예외가 발생하면 해당 함수를 다시 호출하는 함수\n",
    "# stop_max_attemp_number : 함수 최대 호출 횟수\n",
    "# wait_expinential_multiplier : 함수 호출 간격 1000 ms = 1 초\n",
    "\n",
    "@retry(stop_max_attempt_number=3, wait_exponential_multiplier=1000)\n",
    "\n",
    "def fetch(url):\n",
    "    \n",
    "    # 요청\n",
    "    res = requests.get(url)\n",
    "    print(f'응답코드 : {res.status_code}')\n",
    "    \n",
    "    # 일시적 오류가 아니라면 응답결과를 반환\n",
    "    if res.status_code not in error_code : return(res)\n",
    "    \n",
    "    # 일시적인 오류라면 예외 발생\n",
    "    # 예외를 발생시켜야 retry가 작동한다.\n",
    "    raise Exception('요청 오류 발생')"
   ]
  },
  {
   "cell_type": "code",
   "execution_count": 5,
   "metadata": {
    "ExecuteTime": {
     "end_time": "2019-03-26T07:37:26.434583Z",
     "start_time": "2019-03-26T07:36:49.723259Z"
    },
    "scrolled": true
   },
   "outputs": [
    {
     "name": "stdout",
     "output_type": "stream",
     "text": [
      "응답코드 : 404\n",
      "404\n",
      "영구 오류..집에가자\n",
      "응답코드 : 503\n",
      "응답코드 : 502\n",
      "응답코드 : 502\n",
      "요청 오류 발생\n",
      "일시적 오류 발생\n",
      "오류가 발생한 주소를 파일에 저장해두세요\n",
      "응답코드 : 504\n",
      "504\n",
      "영구 오류..집에가자\n",
      "응답코드 : 504\n",
      "504\n",
      "영구 오류..집에가자\n",
      "응답코드 : 504\n",
      "504\n",
      "영구 오류..집에가자\n",
      "응답코드 : 500\n",
      "500\n",
      "영구 오류..집에가자\n",
      "응답코드 : 504\n",
      "504\n",
      "영구 오류..집에가자\n",
      "응답코드 : 502\n",
      "응답코드 : 500\n",
      "500\n",
      "영구 오류..집에가자\n",
      "응답코드 : 500\n",
      "500\n",
      "영구 오류..집에가자\n",
      "응답코드 : 404\n",
      "404\n",
      "영구 오류..집에가자\n",
      "응답코드 : 404\n",
      "404\n",
      "영구 오류..집에가자\n",
      "응답코드 : 500\n",
      "500\n",
      "영구 오류..집에가자\n",
      "응답코드 : 503\n",
      "응답코드 : 404\n",
      "404\n",
      "영구 오류..집에가자\n",
      "응답코드 : 404\n",
      "404\n",
      "영구 오류..집에가자\n",
      "응답코드 : 500\n",
      "500\n",
      "영구 오류..집에가자\n",
      "응답코드 : 408\n",
      "응답코드 : 200\n",
      "200\n",
      "성공\n",
      "크롤링 코드\n"
     ]
    }
   ],
   "source": [
    "while True:\n",
    "    try :\n",
    "        time.sleep(1)\n",
    "        \n",
    "        # 요청\n",
    "        res = fetch('http://httpbin.org/status/200,404,503,408,500,502,504')\n",
    "        \n",
    "        # 응답 코드에 따라 분기\n",
    "        print(res.status_code)\n",
    "        if 200<= res.status_code<300:\n",
    "            print('성공')\n",
    "            print('크롤링 코드')\n",
    "            break\n",
    "            \n",
    "        else : print('영구 오류..집에가자')\n",
    "            \n",
    "    except Exception as e:\n",
    "        print(e)\n",
    "        print('일시적 오류 발생')\n",
    "        print('오류가 발생한 주소를 파일에 저장해두세요')"
   ]
  },
  {
   "cell_type": "code",
   "execution_count": null,
   "metadata": {},
   "outputs": [],
   "source": []
  }
 ],
 "metadata": {
  "kernelspec": {
   "display_name": "Python 3",
   "language": "python",
   "name": "python3"
  },
  "language_info": {
   "codemirror_mode": {
    "name": "ipython",
    "version": 3
   },
   "file_extension": ".py",
   "mimetype": "text/x-python",
   "name": "python",
   "nbconvert_exporter": "python",
   "pygments_lexer": "ipython3",
   "version": "3.7.0"
  },
  "toc": {
   "base_numbering": 1,
   "nav_menu": {},
   "number_sections": true,
   "sideBar": true,
   "skip_h1_title": false,
   "title_cell": "Table of Contents",
   "title_sidebar": "Contents",
   "toc_cell": true,
   "toc_position": {},
   "toc_section_display": true,
   "toc_window_display": true
  },
  "varInspector": {
   "cols": {
    "lenName": 16,
    "lenType": 16,
    "lenVar": 40
   },
   "kernels_config": {
    "python": {
     "delete_cmd_postfix": "",
     "delete_cmd_prefix": "del ",
     "library": "var_list.py",
     "varRefreshCmd": "print(var_dic_list())"
    },
    "r": {
     "delete_cmd_postfix": ") ",
     "delete_cmd_prefix": "rm(",
     "library": "var_list.r",
     "varRefreshCmd": "cat(var_dic_list()) "
    }
   },
   "types_to_exclude": [
    "module",
    "function",
    "builtin_function_or_method",
    "instance",
    "_Feature"
   ],
   "window_display": false
  }
 },
 "nbformat": 4,
 "nbformat_minor": 2
}
