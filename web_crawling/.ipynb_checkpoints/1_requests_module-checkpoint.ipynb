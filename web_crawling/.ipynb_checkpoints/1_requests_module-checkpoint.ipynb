{
 "cells": [
  {
   "cell_type": "markdown",
   "metadata": {},
   "source": [
    "# 1_requests 모듈"
   ]
  },
  {
   "cell_type": "markdown",
   "metadata": {},
   "source": [
    "### requests : 웹 서버 요청을 쉽게할 수 있도록 만든 모듈\n",
    "- 파이썬 코어(기본 모듈)에도 urllib 가 있지만 기능이 제한돼있다."
   ]
  },
  {
   "cell_type": "code",
   "execution_count": 1,
   "metadata": {},
   "outputs": [],
   "source": [
    "#import module\n",
    "#!pip install requests\n",
    "import requests"
   ]
  },
  {
   "cell_type": "code",
   "execution_count": 4,
   "metadata": {},
   "outputs": [],
   "source": [
    "# 접속할 페이지 주소 확인\n",
    "url = 'https://www.google.com'"
   ]
  },
  {
   "cell_type": "code",
   "execution_count": 6,
   "metadata": {},
   "outputs": [
    {
     "name": "stdout",
     "output_type": "stream",
     "text": [
      "<Response [200]>\n"
     ]
    }
   ],
   "source": [
    "# 요청(Get)\n",
    "response = requests.get(url)\n",
    "print(response) # 응답코드 200: 정상, 서버에 데이터를 요청하고 응답코드를 받기 때문에 조금 시간이 걸린다"
   ]
  },
  {
   "cell_type": "code",
   "execution_count": 7,
   "metadata": {},
   "outputs": [
    {
     "name": "stdout",
     "output_type": "stream",
     "text": [
      "<Response [405]>\n"
     ]
    }
   ],
   "source": [
    "# 요청(POST)\n",
    "response = requests.post(url)\n",
    "print(response) # 응답코드 405: 잘못된 요청 메소드 사용, google.com 은 post 방식의 요청을 받지 못한다."
   ]
  },
  {
   "cell_type": "code",
   "execution_count": 11,
   "metadata": {},
   "outputs": [
    {
     "name": "stdout",
     "output_type": "stream",
     "text": [
      "get:200\n",
      "get:405\n"
     ]
    }
   ],
   "source": [
    "# 응답 코드 가져오기, status_code 가 200일때 데이터를 가져올 수 있다.\n",
    "response = requests.get(url)\n",
    "print(f'get:{response.status_code}')\n",
    "\n",
    "response = requests.post(url)\n",
    "print(f'get:{response.status_code}')"
   ]
  },
  {
   "cell_type": "code",
   "execution_count": 14,
   "metadata": {},
   "outputs": [
    {
     "data": {
      "text/plain": [
       "{'Date': 'Mon, 18 Mar 2019 06:21:48 GMT', 'Expires': '-1', 'Cache-Control': 'private, max-age=0', 'Content-Type': 'text/html; charset=ISO-8859-1', 'P3P': 'CP=\"This is not a P3P policy! See g.co/p3phelp for more info.\"', 'Content-Encoding': 'gzip', 'Server': 'gws', 'X-XSS-Protection': '1; mode=block', 'X-Frame-Options': 'SAMEORIGIN', 'Set-Cookie': '1P_JAR=2019-03-18-06; expires=Wed, 17-Apr-2019 06:21:48 GMT; path=/; domain=.google.com, NID=164=TamBdGG9-TT2OyLlbP6iMH9J_Yk4cUT-2hMAC5MK4YQF7yZ9lGOUiODL-nViWky5__CM-qirlqtWjpUc5q5Wk0gDUhYuKF4lbmTGUuG7ZcGa-irNr-wQJt1S9ETkGfQ7SuVZcI9d2wdsw7Hp55_eIP7HoVuN9L9hxUo1adcx4Ho; expires=Tue, 17-Sep-2019 06:21:48 GMT; path=/; domain=.google.com; HttpOnly', 'Alt-Svc': 'quic=\":443\"; ma=2592000; v=\"46,44,43,39\"', 'Transfer-Encoding': 'chunked'}"
      ]
     },
     "execution_count": 14,
     "metadata": {},
     "output_type": "execute_result"
    }
   ],
   "source": [
    "# 헤더정보\n",
    "response = requests.get(url)\n",
    "response.headers"
   ]
  },
  {
   "cell_type": "code",
   "execution_count": 21,
   "metadata": {},
   "outputs": [
    {
     "data": {
      "text/plain": [
       "'<!doctype html><html itemscope=\"\" itemtype=\"http://schema.org/WebPage\" lang=\"ko\"><head><meta content'"
      ]
     },
     "execution_count": 21,
     "metadata": {},
     "output_type": "execute_result"
    }
   ],
   "source": [
    "# 응답결과 \n",
    "response.text[:100]"
   ]
  }
 ],
 "metadata": {
  "kernelspec": {
   "display_name": "Python 3",
   "language": "python",
   "name": "python3"
  },
  "language_info": {
   "codemirror_mode": {
    "name": "ipython",
    "version": 3
   },
   "file_extension": ".py",
   "mimetype": "text/x-python",
   "name": "python",
   "nbconvert_exporter": "python",
   "pygments_lexer": "ipython3",
   "version": "3.7.0"
  }
 },
 "nbformat": 4,
 "nbformat_minor": 2
}
