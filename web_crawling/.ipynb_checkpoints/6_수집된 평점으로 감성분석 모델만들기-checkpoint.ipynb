{
 "cells": [
  {
   "cell_type": "markdown",
   "metadata": {
    "toc": true
   },
   "source": [
    "<h1>Table of Contents<span class=\"tocSkip\"></span></h1>\n",
    "<div class=\"toc\"><ul class=\"toc-item\"><li><span><a href=\"#데이터-전처리\" data-toc-modified-id=\"데이터-전처리-1\"><span class=\"toc-item-num\">1&nbsp;&nbsp;</span>데이터 전처리</a></span></li><li><span><a href=\"#학습데이터와-검증-데이터로-나눈다\" data-toc-modified-id=\"학습데이터와-검증-데이터로-나눈다-2\"><span class=\"toc-item-num\">2&nbsp;&nbsp;</span>학습데이터와 검증 데이터로 나눈다</a></span></li><li><span><a href=\"#학습\" data-toc-modified-id=\"학습-3\"><span class=\"toc-item-num\">3&nbsp;&nbsp;</span>학습</a></span></li></ul></div>"
   ]
  },
  {
   "cell_type": "code",
   "execution_count": 1,
   "metadata": {},
   "outputs": [],
   "source": [
    "from sklearn.model_selection import train_test_split\n",
    "import pandas as pd\n",
    "import numpy as np\n",
    "from sklearn.linear_model import LogisticRegression\n",
    "from sklearn.feature_extraction.text import TfidfVectorizer\n",
    "from sklearn.pipeline import Pipeline\n",
    "from sklearn.metrics import accuracy_score\n",
    "import pickle\n",
    "from konlpy.tag import *"
   ]
  },
  {
   "cell_type": "markdown",
   "metadata": {},
   "source": [
    "### 데이터 전처리"
   ]
  },
  {
   "cell_type": "code",
   "execution_count": 8,
   "metadata": {},
   "outputs": [
    {
     "name": "stdout",
     "output_type": "stream",
     "text": [
      "전처리 완료\n"
     ]
    }
   ],
   "source": [
    "\n",
    "# 데이터를 읽어온다.\n",
    "df = pd.read_csv('naver_star_data.csv')\n",
    "# df.head()\n",
    "# 데이터 전처리\n",
    "# 후기데이터 전처리\n",
    "def text_preprocessing(text) :\n",
    "    # 관람객으로 시작하면 앞에 3글자를 없앤다.\n",
    "    if text.startswith('관람객') :\n",
    "        new_str = text[3:]\n",
    "        return new_str\n",
    "    else :\n",
    "        return text\n",
    "    \n",
    "df['text'] = df['text'].apply(text_preprocessing)\n",
    "\n",
    "# 평점 전처리\n",
    "def score_preprocessing(text) :\n",
    "    value = int(text)\n",
    "    if value <= 5 :\n",
    "        return '0'\n",
    "    else :\n",
    "        return '1'\n",
    "    \n",
    "df['star'] = df['star'].apply(score_preprocessing)\n",
    "\n",
    "df.to_csv('naver_star_data_pre.csv', index=False, encoding='utf-8-sig')\n",
    "\n",
    "print('전처리 완료')"
   ]
  },
  {
   "cell_type": "markdown",
   "metadata": {},
   "source": [
    "### 학습데이터와 검증 데이터로 나눈다"
   ]
  },
  {
   "cell_type": "code",
   "execution_count": 9,
   "metadata": {},
   "outputs": [
    {
     "name": "stdout",
     "output_type": "stream",
     "text": [
      "저장완료\n"
     ]
    }
   ],
   "source": [
    "# 데이터를 읽어온다.\n",
    "df = pd.read_csv('naver_star_data_pre.csv')\n",
    "# 7:3 비율로 나눈다.\n",
    "text_list = df['text'].tolist()\n",
    "star_list = df['star'].tolist()\n",
    "\n",
    "text_train, text_test, star_train, star_test = train_test_split(text_list, star_list, test_size=0.3)\n",
    "# 저장한다.\n",
    "dic_train = {\n",
    "    'text' : text_train,\n",
    "    'star' : star_train\n",
    "}\n",
    "dic_test = {\n",
    "    'text' : text_test,\n",
    "    'star' : star_test\n",
    "}\n",
    "\n",
    "df_train = pd.DataFrame(dic_train)\n",
    "df_test = pd.DataFrame(dic_test)\n",
    "\n",
    "df_train.to_csv('train.csv', index=False, encoding='utf-8-sig')\n",
    "df_test.to_csv('test.csv', index=False, encoding='utf-8-sig')\n",
    "\n",
    "print('저장완료')\n"
   ]
  },
  {
   "cell_type": "markdown",
   "metadata": {},
   "source": [
    "### 학습"
   ]
  },
  {
   "cell_type": "code",
   "execution_count": null,
   "metadata": {},
   "outputs": [
    {
     "name": "stdout",
     "output_type": "stream",
     "text": [
      "학습시작\n"
     ]
    }
   ],
   "source": [
    "# 데이터를 읽어온다.\n",
    "train_df = pd.read_csv('train.csv')\n",
    "test_df = pd.read_csv('test.csv')\n",
    "\n",
    "# 입력데이터와 결과 데이터로 나눈다.\n",
    "X_train = train_df['text'].tolist()\n",
    "y_train = train_df['star'].tolist()\n",
    "\n",
    "X_test = test_df['text'].tolist()\n",
    "y_test = test_df['star'].tolist()\n",
    "\n",
    "# 모델 객체 생성\n",
    "# 문자열 데이터를 단어사전을 만들어 백터화 시킨다.\n",
    "okt = Okt()\n",
    "def text_tokenizer(text) :\n",
    "    return okt.morphs(text)\n",
    "\n",
    "model1 = TfidfVectorizer(lowercase=False, tokenizer=text_tokenizer)\n",
    "# 분류 모델\n",
    "model2 = LogisticRegression(C=10.0, penalty='l2')\n",
    "\n",
    "pipe = Pipeline([('vect', model1), ('clf', model2)])\n",
    "\n",
    "# 학습한다.\n",
    "import time\n",
    "start_time = time.time()\n",
    "print('학습시작')\n",
    "pipe.fit(X_train, y_train)\n",
    "print('학습종료')\n",
    "end_time = time.time()\n",
    "print(f'총 학습 시간 : {end_time - start_time}')\n",
    "\n",
    "# 학습 정확도를 측정한다.\n",
    "# 학습된 모델로 예측 결과를 계산한다.\n",
    "y_pred = pipe.predict(X_test)\n",
    "# 예측 결과와 진짜 결과를 비교하여 정확도를 계산한다.\n",
    "print(f'정확도 : {accuracy_score(y_test, y_pred)}')\n",
    "\n",
    "# 저장한다.\n",
    "with open('pipe.dat', 'wb') as fp :\n",
    "    pickle.dump(pipe, fp)\n",
    "    \n",
    "print('저장완료')"
   ]
  },
  {
   "cell_type": "code",
   "execution_count": null,
   "metadata": {},
   "outputs": [],
   "source": []
  },
  {
   "cell_type": "code",
   "execution_count": null,
   "metadata": {},
   "outputs": [],
   "source": []
  },
  {
   "cell_type": "code",
   "execution_count": null,
   "metadata": {},
   "outputs": [],
   "source": []
  },
  {
   "cell_type": "code",
   "execution_count": null,
   "metadata": {},
   "outputs": [],
   "source": []
  }
 ],
 "metadata": {
  "kernelspec": {
   "display_name": "Python 3",
   "language": "python",
   "name": "python3"
  },
  "language_info": {
   "codemirror_mode": {
    "name": "ipython",
    "version": 3
   },
   "file_extension": ".py",
   "mimetype": "text/x-python",
   "name": "python",
   "nbconvert_exporter": "python",
   "pygments_lexer": "ipython3",
   "version": "3.7.0"
  },
  "toc": {
   "base_numbering": 1,
   "nav_menu": {},
   "number_sections": true,
   "sideBar": true,
   "skip_h1_title": false,
   "title_cell": "Table of Contents",
   "title_sidebar": "Contents",
   "toc_cell": true,
   "toc_position": {},
   "toc_section_display": true,
   "toc_window_display": true
  },
  "varInspector": {
   "cols": {
    "lenName": 16,
    "lenType": 16,
    "lenVar": 40
   },
   "kernels_config": {
    "python": {
     "delete_cmd_postfix": "",
     "delete_cmd_prefix": "del ",
     "library": "var_list.py",
     "varRefreshCmd": "print(var_dic_list())"
    },
    "r": {
     "delete_cmd_postfix": ") ",
     "delete_cmd_prefix": "rm(",
     "library": "var_list.r",
     "varRefreshCmd": "cat(var_dic_list()) "
    }
   },
   "types_to_exclude": [
    "module",
    "function",
    "builtin_function_or_method",
    "instance",
    "_Feature"
   ],
   "window_display": false
  }
 },
 "nbformat": 4,
 "nbformat_minor": 2
}
