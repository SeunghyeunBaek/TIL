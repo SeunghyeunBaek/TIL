{
 "cells": [
  {
   "cell_type": "markdown",
   "metadata": {},
   "source": [
    "# 이진 분류 예측 문제 평가 모듈\n",
    "**y_pred 는 확률값으로 넣어야 합니다**\n",
    "- jnput\n",
    "    - y_pred : 예측한 결과의 **확률**, np.ndarray\n",
    "    - y_true : 실제 값, np,adarray\n",
    "    - true_idx : confusion matrix 에서 true 로 설정할 인덱스,(0,1), default = 1\n",
    "        - 0 : 정상거래\n",
    "        - 1 : 이상거래\n",
    "    - thresholds : y_pred 를 1로 판단할 때의 기준 확률, float, default = 0.5\n",
    "- output\n",
    "    - return_dic, dictionary\n",
    "        - conf_mat : confusion matrix, np.ndarray\n",
    "        - acc : accuracy, float\n",
    "        - pre : precision, float\n",
    "        - re : recall, float\n",
    "        - f1 : f1 score, float\n",
    "        - avg_pre : average precision, float\n",
    "    - graph\n",
    "        - PR Curve\n",
    "        - ROC Curve\n",
    "        - *KS Graph(미구현)*"
   ]
  },
  {
   "cell_type": "code",
   "execution_count": 203,
   "metadata": {},
   "outputs": [],
   "source": [
    "def evaluation_class(y_true,y_pred,true_idx=1,thresholds = 0.5):\n",
    "    \n",
    "    from sklearn import metrics # for result\n",
    "    import matplotlib.pyplot as plt # for visualization\n",
    "    \n",
    "    # tranform y_pred into integer array\n",
    "    y_pred_val = ([1 if prob>0.5 else 0 for prob in y_pred[:,true_idx]])\n",
    "    # counfusion matrix\n",
    "    conf_mat = metrics.confusion_matrix(y_true,y_pred_val)\n",
    "    \n",
    "    #acc\n",
    "    acc = metrics.accuracy_score(y_true,y_pred_val)   \n",
    "    #recall\n",
    "    re = metrics.recall_score(y_true.values,y_pred_val) \n",
    "    #precision\n",
    "    pre = metrics.precision_score(y_true.values,y_pred_val)\n",
    "    #f1\n",
    "    f1 = metrics.f1_score(y_true,y_pred_val)   \n",
    "    #average precsion\n",
    "    avg_pre = metrics.average_precision_score(y_true,y_pred[:,true_idx])  \n",
    "    \n",
    "    # visualization\n",
    "    fig,ax = plt.subplots(1,2,figsize = (15,6))\n",
    "    \n",
    "    # ROC\n",
    "    fpr,tpr,thresholds = metrics.roc_curve(y_true,y_pred[:,true_idx])\n",
    "    ax[0].plot(fpr,tpr,color = 'b')\n",
    "    ax[0].set_title('ROC Curve',fontsize = 15)\n",
    "    ax[0].set_xlabel('1- FP')\n",
    "    ax[0].set_ylabel('TP')\n",
    "    \n",
    "    # PR\n",
    "    precision,recall,thresholds = metrics.precision_recall_curve(y_true,y_pred[:,true_idx])\n",
    "    ax[1].step(recall,precision,color = 'r', where = 'post')\n",
    "    ax[1].set_title('PR Curve',fontsize = 15)\n",
    "    ax[1].set_xlabel('Recall')\n",
    "    ax[1].set_ylabel('Precision')\n",
    "    \n",
    "    \n",
    "    # 결과 저장\n",
    "    result_dic = {\n",
    "        'confusion matrix':conf_mat,\n",
    "        'acc':acc,\n",
    "        'recall':re,\n",
    "        'precision':pre,\n",
    "        'f1 score':f1,\n",
    "        'average precision':avg_pre\n",
    "    }\n",
    "    return result_dic"
   ]
  },
  {
   "cell_type": "markdown",
   "metadata": {},
   "source": [
    "# Test"
   ]
  },
  {
   "cell_type": "code",
   "execution_count": 190,
   "metadata": {},
   "outputs": [],
   "source": [
    "import pandas as pd\n",
    "import numpy as np\n",
    "from sklearn.preprocessing import RobustScaler\n",
    "from sklearn.model_selection import train_test_split\n",
    "from sklearn.linear_model import LogisticRegression"
   ]
  },
  {
   "cell_type": "code",
   "execution_count": 191,
   "metadata": {},
   "outputs": [],
   "source": [
    "df = pd.read_csv(r'D:\\A_Document\\DA_Proj\\Kaggle\\card_fraud\\creditcard.csv')"
   ]
  },
  {
   "cell_type": "code",
   "execution_count": 192,
   "metadata": {},
   "outputs": [
    {
     "data": {
      "text/plain": [
       "1    492\n",
       "0    492\n",
       "Name: Class, dtype: int64"
      ]
     },
     "execution_count": 192,
     "metadata": {},
     "output_type": "execute_result"
    }
   ],
   "source": [
    "# under Sample\n",
    "fraud = df.loc[df.Class == 1]\n",
    "df_suff = df.sample(frac = 1)\n",
    "not_fraud = df_suff.loc[df.Class == 0][:492]\n",
    "under_sampled = pd.concat([fraud,not_fraud])\n",
    "under_sampled.Class.value_counts()"
   ]
  },
  {
   "cell_type": "code",
   "execution_count": 193,
   "metadata": {},
   "outputs": [],
   "source": [
    "x,y = under_sampled.drop(columns='Class'),under_sampled.Class"
   ]
  },
  {
   "cell_type": "code",
   "execution_count": 194,
   "metadata": {},
   "outputs": [],
   "source": [
    "x_train,x_test,y_train,y_test = train_test_split(x,y,test_size =0.3, random_state = 123)"
   ]
  },
  {
   "cell_type": "code",
   "execution_count": 195,
   "metadata": {},
   "outputs": [
    {
     "name": "stderr",
     "output_type": "stream",
     "text": [
      "d:\\pl\\python\\python37\\lib\\site-packages\\sklearn\\linear_model\\logistic.py:433: FutureWarning: Default solver will be changed to 'lbfgs' in 0.22. Specify a solver to silence this warning.\n",
      "  FutureWarning)\n"
     ]
    },
    {
     "data": {
      "text/plain": [
       "LogisticRegression(C=1.0, class_weight=None, dual=False, fit_intercept=True,\n",
       "          intercept_scaling=1, max_iter=100, multi_class='warn',\n",
       "          n_jobs=None, penalty='l2', random_state=None, solver='warn',\n",
       "          tol=0.0001, verbose=0, warm_start=False)"
      ]
     },
     "execution_count": 195,
     "metadata": {},
     "output_type": "execute_result"
    }
   ],
   "source": [
    "glm = LogisticRegression()\n",
    "glm.fit(x_train,y_train)"
   ]
  },
  {
   "cell_type": "code",
   "execution_count": 204,
   "metadata": {},
   "outputs": [],
   "source": [
    "y_pred = glm.predict_proba(x_test)\n",
    "y_true = y_test"
   ]
  },
  {
   "cell_type": "code",
   "execution_count": 205,
   "metadata": {
    "scrolled": false
   },
   "outputs": [
    {
     "data": {
      "text/plain": [
       "{'confusion matrix': array([[138,   3],\n",
       "        [ 15, 140]], dtype=int64),\n",
       " 'acc': 0.9391891891891891,\n",
       " 'recall': 0.9032258064516129,\n",
       " 'precision': 0.9790209790209791,\n",
       " 'f1 score': 0.9395973154362417,\n",
       " 'average precision': 0.985991369140113}"
      ]
     },
     "execution_count": 205,
     "metadata": {},
     "output_type": "execute_result"
    },
    {
     "data": {
      "image/png": "[encoded data removed]",
      "text/plain": [
       "<Figure size 1080x432 with 2 Axes>"
      ]
     },
     "metadata": {
      "needs_background": "light"
     },
     "output_type": "display_data"
    }
   ],
   "source": [
    "evaluation_class(y_true,y_pred)"
   ]
  },
  {
   "cell_type": "code",
   "execution_count": null,
   "metadata": {},
   "outputs": [],
   "source": []
  },
  {
   "cell_type": "code",
   "execution_count": null,
   "metadata": {},
   "outputs": [],
   "source": []
  }
 ],
 "metadata": {
  "kernelspec": {
   "display_name": "Python 3",
   "language": "python",
   "name": "python3"
  },
  "language_info": {
   "codemirror_mode": {
    "name": "ipython",
    "version": 3
   },
   "file_extension": ".py",
   "mimetype": "text/x-python",
   "name": "python",
   "nbconvert_exporter": "python",
   "pygments_lexer": "ipython3",
   "version": "3.7.0"
  }
 },
 "nbformat": 4,
 "nbformat_minor": 2
}
