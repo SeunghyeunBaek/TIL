{
 "cells": [
  {
   "cell_type": "code",
   "execution_count": 173,
   "metadata": {},
   "outputs": [],
   "source": [
    "# libraries\n",
    "import numpy as np\n",
    "import pandas as pd\n",
    "\n",
    "import matplotlib.pyplot as plt\n",
    "\n",
    "from sklearn.model_selection import train_test_split, GridSearchCV\n",
    "\n",
    "from sklearn.tree import DecisionTreeClassifier\n",
    "from sklearn.ensemble import BaggingClassifier\n",
    "from sklearn.ensemble import RandomForestClassifier\n",
    "\n",
    "from sklearn.pipeline import Pipeline"
   ]
  },
  {
   "cell_type": "markdown",
   "metadata": {},
   "source": [
    "# Bagging, Randomforest"
   ]
  },
  {
   "cell_type": "markdown",
   "metadata": {},
   "source": [
    "* bagging = bootstrap aggregating\n",
    "* bootstrap: 복원추출\n",
    "* 복원추출한 sample로 tree를 만들고, tree를 종합해 결과 산출\n",
    "    * 회귀문제: tree 결과값 평균\n",
    "    * 분류문제: 최빈값 선택\n",
    "* 모델의 분산과 편향과 분산을 모두 줄일수 있다\n",
    "* bagging\n",
    "    * procedure\n",
    "        1. 크기가 n 인 샘플 m개 추출(모든 column 사용)\n",
    "        2. m개의 tree 구성\n",
    "        3. m개의 tree aggregating\n",
    "    * 모든 열을 사용하기 때문에 대부분의 tree 결과가 비슷할 수 있어 분산이 안작아짐\n",
    "* randomforest\n",
    "    * procedure\n",
    "        1. 크기가 n 인 샘플 m개 추출(<span style='color:red'>일부 column 만 사용</span>)\n",
    "        2. m개의 tree 구성\n",
    "        3. m개의 tree aggregating\n",
    "    * 일부 열만 사용해 tree를 구성, bagging의 단점을 보완할 수 있다.\n",
    "    * 분류문제에서는 sqrt(m), 회귀문제에서는 m/3 개의 열 사용. tree 간 상관관계를 줄이고 분산도 줄일수있다."
   ]
  },
  {
   "cell_type": "code",
   "execution_count": 105,
   "metadata": {},
   "outputs": [
    {
     "name": "stdout",
     "output_type": "stream",
     "text": [
      "(1470, 35)\n"
     ]
    },
    {
     "data": {
      "text/html": [
       "<div>\n",
       "<style scoped>\n",
       "    .dataframe tbody tr th:only-of-type {\n",
       "        vertical-align: middle;\n",
       "    }\n",
       "\n",
       "    .dataframe tbody tr th {\n",
       "        vertical-align: top;\n",
       "    }\n",
       "\n",
       "    .dataframe thead th {\n",
       "        text-align: right;\n",
       "    }\n",
       "</style>\n",
       "<table border=\"1\" class=\"dataframe\">\n",
       "  <thead>\n",
       "    <tr style=\"text-align: right;\">\n",
       "      <th></th>\n",
       "      <th>Age</th>\n",
       "      <th>Attrition</th>\n",
       "      <th>BusinessTravel</th>\n",
       "      <th>DailyRate</th>\n",
       "      <th>Department</th>\n",
       "      <th>DistanceFromHome</th>\n",
       "      <th>Education</th>\n",
       "      <th>EducationField</th>\n",
       "      <th>EmployeeCount</th>\n",
       "      <th>EmployeeNumber</th>\n",
       "      <th>...</th>\n",
       "      <th>RelationshipSatisfaction</th>\n",
       "      <th>StandardHours</th>\n",
       "      <th>StockOptionLevel</th>\n",
       "      <th>TotalWorkingYears</th>\n",
       "      <th>TrainingTimesLastYear</th>\n",
       "      <th>WorkLifeBalance</th>\n",
       "      <th>YearsAtCompany</th>\n",
       "      <th>YearsInCurrentRole</th>\n",
       "      <th>YearsSinceLastPromotion</th>\n",
       "      <th>YearsWithCurrManager</th>\n",
       "    </tr>\n",
       "  </thead>\n",
       "  <tbody>\n",
       "    <tr>\n",
       "      <th>0</th>\n",
       "      <td>41</td>\n",
       "      <td>Yes</td>\n",
       "      <td>Travel_Rarely</td>\n",
       "      <td>1102</td>\n",
       "      <td>Sales</td>\n",
       "      <td>1</td>\n",
       "      <td>2</td>\n",
       "      <td>Life Sciences</td>\n",
       "      <td>1</td>\n",
       "      <td>1</td>\n",
       "      <td>...</td>\n",
       "      <td>1</td>\n",
       "      <td>80</td>\n",
       "      <td>0</td>\n",
       "      <td>8</td>\n",
       "      <td>0</td>\n",
       "      <td>1</td>\n",
       "      <td>6</td>\n",
       "      <td>4</td>\n",
       "      <td>0</td>\n",
       "      <td>5</td>\n",
       "    </tr>\n",
       "    <tr>\n",
       "      <th>1</th>\n",
       "      <td>49</td>\n",
       "      <td>No</td>\n",
       "      <td>Travel_Frequently</td>\n",
       "      <td>279</td>\n",
       "      <td>Research &amp; Development</td>\n",
       "      <td>8</td>\n",
       "      <td>1</td>\n",
       "      <td>Life Sciences</td>\n",
       "      <td>1</td>\n",
       "      <td>2</td>\n",
       "      <td>...</td>\n",
       "      <td>4</td>\n",
       "      <td>80</td>\n",
       "      <td>1</td>\n",
       "      <td>10</td>\n",
       "      <td>3</td>\n",
       "      <td>3</td>\n",
       "      <td>10</td>\n",
       "      <td>7</td>\n",
       "      <td>1</td>\n",
       "      <td>7</td>\n",
       "    </tr>\n",
       "  </tbody>\n",
       "</table>\n",
       "<p>2 rows × 35 columns</p>\n",
       "</div>"
      ],
      "text/plain": [
       "   Age Attrition     BusinessTravel  DailyRate              Department  \\\n",
       "0   41       Yes      Travel_Rarely       1102                   Sales   \n",
       "1   49        No  Travel_Frequently        279  Research & Development   \n",
       "\n",
       "   DistanceFromHome  Education EducationField  EmployeeCount  EmployeeNumber  \\\n",
       "0                 1          2  Life Sciences              1               1   \n",
       "1                 8          1  Life Sciences              1               2   \n",
       "\n",
       "   ...  RelationshipSatisfaction StandardHours  StockOptionLevel  \\\n",
       "0  ...                         1            80                 0   \n",
       "1  ...                         4            80                 1   \n",
       "\n",
       "   TotalWorkingYears  TrainingTimesLastYear WorkLifeBalance  YearsAtCompany  \\\n",
       "0                  8                      0               1               6   \n",
       "1                 10                      3               3              10   \n",
       "\n",
       "  YearsInCurrentRole  YearsSinceLastPromotion  YearsWithCurrManager  \n",
       "0                  4                        0                     5  \n",
       "1                  7                        1                     7  \n",
       "\n",
       "[2 rows x 35 columns]"
      ]
     },
     "execution_count": 105,
     "metadata": {},
     "output_type": "execute_result"
    }
   ],
   "source": [
    "root = 'C:/Users/wonca/Documents/git_repositories/TIL/2_머신러닝이론/4_tree_based_models/data/'\n",
    "file_name = 'WA_Fn-UseC_-HR-Employee-Attrition.csv'\n",
    "hr_df = pd.read_csv(root + file_name)\n",
    "print(hr_df.shape)\n",
    "hr_df.head(2)"
   ]
  },
  {
   "cell_type": "markdown",
   "metadata": {},
   "source": [
    "## 변수선택"
   ]
  },
  {
   "cell_type": "code",
   "execution_count": 106,
   "metadata": {},
   "outputs": [],
   "source": [
    "# ylabel\n",
    "y = hr_df['Attrition'].apply(lambda x: 1 if x == 'Yes' else 0)\n",
    "hr_df['y'] = y\n",
    "\n",
    "# 더미변수 생성\n",
    "categorical_cols = ['BusinessTravel', 'Department', 'EducationField', 'Gender', 'JobRole', 'MaritalStatus', 'OverTime']\n",
    "dummy_cols = []\n",
    "for cat_col in categorical_cols:\n",
    "    dummy_col = pd.get_dummies(hr_df[cat_col], prefix=cat_col)\n",
    "    dummy_cols.append(dummy_col)\n",
    "\n",
    "# 연속형 변수\n",
    "origianl_numeric_cols = hr_df.select_dtypes(include=np.int64).columns.tolist()\n",
    "remove_cols = ['EmployeeCount', 'EmployeeNumber', 'StandardHours']\n",
    "numeric_cols = [el for el in origianl_numeric_cols if el not in remove_cols]\n",
    "numeric_df = hr_df[numeric_cols]\n",
    "\n",
    "# 더미변수 + 연속형변수\n",
    "hr_new_df = pd.concat(dummy_cols + [numeric_df], axis=1)\n",
    "\n",
    "# train test splitㅠ\n",
    "x = hr_new_df.drop(['y'], axis=1)\n",
    "y = hr_new_df['y']\n",
    "\n",
    "x_train, x_test, y_train, y_test = train_test_split(x, y, test_size=.7, random_state=42)"
   ]
  },
  {
   "cell_type": "markdown",
   "metadata": {},
   "source": [
    "## Decision Tree, Bagging, Randomfrest 비교"
   ]
  },
  {
   "cell_type": "code",
   "execution_count": 152,
   "metadata": {},
   "outputs": [
    {
     "data": {
      "text/plain": [
       "RandomForestClassifier(bootstrap=True, class_weight={0: 0.2, 1: 0.8},\n",
       "                       criterion='gini', max_depth=5, max_features='auto',\n",
       "                       max_leaf_nodes=None, min_impurity_decrease=0.0,\n",
       "                       min_impurity_split=None, min_samples_leaf=1,\n",
       "                       min_samples_split=2, min_weight_fraction_leaf=0.0,\n",
       "                       n_estimators=5000, n_jobs=-1, oob_score=False,\n",
       "                       random_state=42, verbose=0, warm_start=False)"
      ]
     },
     "execution_count": 152,
     "metadata": {},
     "output_type": "execute_result"
    }
   ],
   "source": [
    "# dt\n",
    "# 분기기준: 지니불순도\n",
    "# 최대깊이: 5\n",
    "# 분할을 위한 최소관측값: 2개\n",
    "# leaf node 최소관측값: 1개\n",
    "class_weight = {0: .2, 1: .8}\n",
    "\n",
    "dt_model = DecisionTreeClassifier(criterion='gini',\n",
    "                                  max_depth=5, \n",
    "                                  min_samples_split=2,\n",
    "                                  min_samples_leaf=1,\n",
    "                                  random_state=42,\n",
    "                                  class_weight=class_weight\n",
    "                                  )\n",
    "\n",
    "# 5000개 샘플, 각 샘플은 전체 데이터의 2/3\n",
    "bagging_model = BaggingClassifier(base_estimator=dt_model,\n",
    "                                  n_estimators=5000,\n",
    "                                  max_features=0.67,\n",
    "                                  bootstrap=True,\n",
    "                                  bootstrap_features=False,\n",
    "                                  n_jobs=-1, random_state=42,\n",
    "                                  )\n",
    "\n",
    "rf_model = RandomForestClassifier(n_estimators=5000,\n",
    "                                  criterion='gini',\n",
    "                                  max_depth=5,\n",
    "                                  min_samples_split=2,\n",
    "                                  min_samples_leaf=1,\n",
    "                                  bootstrap=True,\n",
    "                                  max_features='auto',\n",
    "                                  random_state=42, n_jobs=-1,\n",
    "                                  class_weight=class_weight\n",
    "                                  )\n",
    "\n",
    "dt_model.fit(x_train, y_train)\n",
    "bagging_model.fit(x_train, y_train)\n",
    "rf_model.fit(x_train, y_train)"
   ]
  },
  {
   "cell_type": "code",
   "execution_count": 153,
   "metadata": {},
   "outputs": [],
   "source": [
    "def confusion_matrix(y_true, y_pred):\n",
    "    return pd.crosstab(y_trun, y_pred, colnames=['Predicted'], rownames=['Actual'])"
   ]
  },
  {
   "cell_type": "code",
   "execution_count": 154,
   "metadata": {},
   "outputs": [],
   "source": [
    "# train, test- acc, 1_recl, 1_prec, 0_recl, 0_pred\n",
    "result_table = np.empty((3, 10))\n",
    "result_table = pd.DataFrame(result_table)\n",
    "result_table.columns = ['train_acc', 'train_1_recl', 'train_1_prec', 'train_0_recl', 'train_0_prec', 'test_acc', 'test_1_recl', 'test_1_prec', 'test_0_recl', 'test_0_prec']"
   ]
  },
  {
   "cell_type": "code",
   "execution_count": 155,
   "metadata": {},
   "outputs": [],
   "source": [
    "# results\n",
    "y_insamp_pred_dt = dt_model.predict(x_train)\n",
    "y_outsamp_pred_dt = dt_model.predict(x_test)\n",
    "y_insamp_pred_bagging = bagging_model.predict(x_train)\n",
    "y_outsamp_pred_bagging = bagging_model.predict(x_test)\n",
    "y_insamp_pred_rf = rf_model.predict(x_train)\n",
    "y_outsamp_pred_rf = rf_model.predict(x_test)\n",
    "\n",
    "y_insamp_pred = [y_insamp_pred_dt, y_insamp_pred_bagging, y_insamp_pred_rf]\n",
    "y_outsamp_pred = [y_outsamp_pred_dt, y_outsamp_pred_bagging, y_outsamp_pred_rf]\n",
    "for i in range(3):\n",
    "    clf_report_train = classification_report(y_train, y_insamp_pred[i], output_dict=True)\n",
    "    clf_report_test = classification_report(y_test, y_outsamp_pred[i], output_dict=True)\n",
    "\n",
    "    result_table.loc[i, 'train_acc'] = clf_report_train['accuracy']\n",
    "    result_table.loc[i, 'train_1_recl'] = clf_report_train['1']['recall']\n",
    "    result_table.loc[i, 'train_1_prec'] = clf_report_train['1']['precision']\n",
    "    result_table.loc[i, 'train_0_recl'] = clf_report_train['0']['recall']\n",
    "    result_table.loc[i, 'train_0_prec'] = clf_report_train['0']['precision']\n",
    "    \n",
    "    result_table.loc[i, 'test_acc'] = clf_report_test['accuracy']\n",
    "    result_table.loc[i, 'test_1_recl'] = clf_report_test['1']['recall']\n",
    "    result_table.loc[i, 'test_1_prec'] = clf_report_test['1']['precision']\n",
    "    result_table.loc[i, 'test_0_recl'] = clf_report_test['0']['recall']\n",
    "    result_table.loc[i, 'test_0_prec'] = clf_report_test['0']['precision']"
   ]
  },
  {
   "cell_type": "code",
   "execution_count": 156,
   "metadata": {},
   "outputs": [],
   "source": [
    "result_table.index = ['dt', 'bagging', 'rf']"
   ]
  },
  {
   "cell_type": "code",
   "execution_count": 157,
   "metadata": {},
   "outputs": [
    {
     "data": {
      "text/html": [
       "<div>\n",
       "<style scoped>\n",
       "    .dataframe tbody tr th:only-of-type {\n",
       "        vertical-align: middle;\n",
       "    }\n",
       "\n",
       "    .dataframe tbody tr th {\n",
       "        vertical-align: top;\n",
       "    }\n",
       "\n",
       "    .dataframe thead th {\n",
       "        text-align: right;\n",
       "    }\n",
       "</style>\n",
       "<table border=\"1\" class=\"dataframe\">\n",
       "  <thead>\n",
       "    <tr style=\"text-align: right;\">\n",
       "      <th></th>\n",
       "      <th>train_acc</th>\n",
       "      <th>train_1_recl</th>\n",
       "      <th>train_1_prec</th>\n",
       "      <th>train_0_recl</th>\n",
       "      <th>train_0_prec</th>\n",
       "      <th>test_acc</th>\n",
       "      <th>test_1_recl</th>\n",
       "      <th>test_1_prec</th>\n",
       "      <th>test_0_recl</th>\n",
       "      <th>test_0_prec</th>\n",
       "    </tr>\n",
       "  </thead>\n",
       "  <tbody>\n",
       "    <tr>\n",
       "      <th>dt</th>\n",
       "      <td>0.891156</td>\n",
       "      <td>0.868421</td>\n",
       "      <td>0.634615</td>\n",
       "      <td>0.895890</td>\n",
       "      <td>0.970326</td>\n",
       "      <td>0.752187</td>\n",
       "      <td>0.372671</td>\n",
       "      <td>0.280374</td>\n",
       "      <td>0.822581</td>\n",
       "      <td>0.876074</td>\n",
       "    </tr>\n",
       "    <tr>\n",
       "      <th>bagging</th>\n",
       "      <td>0.986395</td>\n",
       "      <td>0.934211</td>\n",
       "      <td>0.986111</td>\n",
       "      <td>0.997260</td>\n",
       "      <td>0.986450</td>\n",
       "      <td>0.865889</td>\n",
       "      <td>0.254658</td>\n",
       "      <td>0.694915</td>\n",
       "      <td>0.979263</td>\n",
       "      <td>0.876289</td>\n",
       "    </tr>\n",
       "    <tr>\n",
       "      <th>rf</th>\n",
       "      <td>0.975057</td>\n",
       "      <td>0.894737</td>\n",
       "      <td>0.957746</td>\n",
       "      <td>0.991781</td>\n",
       "      <td>0.978378</td>\n",
       "      <td>0.867833</td>\n",
       "      <td>0.260870</td>\n",
       "      <td>0.711864</td>\n",
       "      <td>0.980415</td>\n",
       "      <td>0.877320</td>\n",
       "    </tr>\n",
       "  </tbody>\n",
       "</table>\n",
       "</div>"
      ],
      "text/plain": [
       "         train_acc  train_1_recl  train_1_prec  train_0_recl  train_0_prec  \\\n",
       "dt        0.891156      0.868421      0.634615      0.895890      0.970326   \n",
       "bagging   0.986395      0.934211      0.986111      0.997260      0.986450   \n",
       "rf        0.975057      0.894737      0.957746      0.991781      0.978378   \n",
       "\n",
       "         test_acc  test_1_recl  test_1_prec  test_0_recl  test_0_prec  \n",
       "dt       0.752187     0.372671     0.280374     0.822581     0.876074  \n",
       "bagging  0.865889     0.254658     0.694915     0.979263     0.876289  \n",
       "rf       0.867833     0.260870     0.711864     0.980415     0.877320  "
      ]
     },
     "execution_count": 157,
     "metadata": {},
     "output_type": "execute_result"
    }
   ],
   "source": [
    "result_table"
   ]
  },
  {
   "cell_type": "code",
   "execution_count": 166,
   "metadata": {},
   "outputs": [],
   "source": [
    "# 지니 평균값 감소를 기준으로 산출한 변수중요도\n",
    "model_ranks = pd.Series(rf_model.feature_importances_, index=x_train.columns, name='Importance').sort_values(ascending=False)\n",
    "top_features = model_ranks.iloc[:31].sort_values(ascending=True, inplace=False)"
   ]
  },
  {
   "cell_type": "code",
   "execution_count": 169,
   "metadata": {},
   "outputs": [
    {
     "data": {
      "image/png": "[encoded data removed]",
      "text/plain": [
       "<Figure size 1440x720 with 1 Axes>"
      ]
     },
     "metadata": {
      "needs_background": "light"
     },
     "output_type": "display_data"
    }
   ],
   "source": [
    "plt.figure(figsize=[20, 10])\n",
    "ax = top_features.plot(kind='barh')\n",
    "ax.set_title('Variable importance plot')\n",
    "ax.set_xlabel('mean decreas in Variance')\n",
    "ax.set_yticklabels(top_features.index, fontsize=13)\n",
    "plt.show()"
   ]
  },
  {
   "cell_type": "markdown",
   "metadata": {},
   "source": [
    "## 랜덤포레스트 튜닝"
   ]
  },
  {
   "cell_type": "code",
   "execution_count": 176,
   "metadata": {},
   "outputs": [
    {
     "name": "stdout",
     "output_type": "stream",
     "text": [
      "Fitting 5 folds for each of 48 candidates, totalling 240 fits\n"
     ]
    },
    {
     "name": "stderr",
     "output_type": "stream",
     "text": [
      "[Parallel(n_jobs=-1)]: Using backend LokyBackend with 8 concurrent workers.\n",
      "[Parallel(n_jobs=-1)]: Done  34 tasks      | elapsed:  1.8min\n",
      "[Parallel(n_jobs=-1)]: Done 184 tasks      | elapsed:  9.1min\n",
      "[Parallel(n_jobs=-1)]: Done 240 out of 240 | elapsed: 11.9min finished\n"
     ]
    },
    {
     "data": {
      "text/plain": [
       "GridSearchCV(cv=5, error_score='raise-deprecating',\n",
       "             estimator=Pipeline(memory=None,\n",
       "                                steps=[('clf',\n",
       "                                        RandomForestClassifier(bootstrap=True,\n",
       "                                                               class_weight={0: 0.2,\n",
       "                                                                             1: 0.8},\n",
       "                                                               criterion='gini',\n",
       "                                                               max_depth=5,\n",
       "                                                               max_features='auto',\n",
       "                                                               max_leaf_nodes=None,\n",
       "                                                               min_impurity_decrease=0.0,\n",
       "                                                               min_impurity_split=None,\n",
       "                                                               min_samples_leaf=1,\n",
       "                                                               min_samples_split=2,\n",
       "                                                               min_weight_fraction_leaf=0.0,\n",
       "                                                               n_e...ators=5000,\n",
       "                                                               n_jobs=-1,\n",
       "                                                               oob_score=False,\n",
       "                                                               random_state=42,\n",
       "                                                               verbose=0,\n",
       "                                                               warm_start=False))],\n",
       "                                verbose=False),\n",
       "             iid='warn', n_jobs=-1,\n",
       "             param_grid={'clf__max_depth': [5, 15, 30],\n",
       "                         'clf__min_samples_leaf': [1, 2],\n",
       "                         'clf__min_samples_split': [2, 3],\n",
       "                         'clf__n_estimators': [2000, 3000, 5000, 7000]},\n",
       "             pre_dispatch='2*n_jobs', refit=True, return_train_score=False,\n",
       "             scoring='roc_auc', verbose=1)"
      ]
     },
     "execution_count": 176,
     "metadata": {},
     "output_type": "execute_result"
    }
   ],
   "source": [
    "class_weight = {0: .2, 1: .8}\n",
    "rf_model = RandomForestClassifier(n_estimators=5000,\n",
    "                                  criterion='gini',\n",
    "                                  max_depth=5,\n",
    "                                  min_samples_split=2,\n",
    "                                  min_samples_leaf=1,\n",
    "                                  bootstrap=True,\n",
    "                                  max_features='auto',\n",
    "                                  random_state=42, n_jobs=-1,\n",
    "                                  class_weight=class_weight\n",
    "                                  )\n",
    "\n",
    "pipeline = Pipeline([\n",
    "    ('clf', rf_model)\n",
    "])\n",
    "\n",
    "parameters = {\n",
    "    'clf__n_estimators': [2000, 3000, 5000, 7000],\n",
    "    'clf__max_depth': [5, 15, 30],\n",
    "    'clf__min_samples_split': [2, 3],\n",
    "    'clf__min_samples_leaf': [1, 2]}\n",
    "\n",
    "grid_search = GridSearchCV(pipeline, parameters, n_jobs=-1, cv=5, verbose=1, scoring='roc_auc')\n",
    "grid_search.fit(x_train, y_train)"
   ]
  },
  {
   "cell_type": "code",
   "execution_count": 178,
   "metadata": {},
   "outputs": [
    {
     "data": {
      "text/plain": [
       "0.7729222967725904"
      ]
     },
     "execution_count": 178,
     "metadata": {},
     "output_type": "execute_result"
    }
   ],
   "source": [
    "grid_search.best_score_"
   ]
  },
  {
   "cell_type": "code",
   "execution_count": 179,
   "metadata": {},
   "outputs": [
    {
     "data": {
      "text/plain": [
       "<bound method BaseEstimator.get_params of GridSearchCV(cv=5, error_score='raise-deprecating',\n",
       "             estimator=Pipeline(memory=None,\n",
       "                                steps=[('clf',\n",
       "                                        RandomForestClassifier(bootstrap=True,\n",
       "                                                               class_weight={0: 0.2,\n",
       "                                                                             1: 0.8},\n",
       "                                                               criterion='gini',\n",
       "                                                               max_depth=5,\n",
       "                                                               max_features='auto',\n",
       "                                                               max_leaf_nodes=None,\n",
       "                                                               min_impurity_decrease=0.0,\n",
       "                                                               min_impurity_split=None,\n",
       "                                                               min_samples_leaf=1,\n",
       "                                                               min_samples_split=2,\n",
       "                                                               min_weight_fraction_leaf=0.0,\n",
       "                                                               n_e...ators=5000,\n",
       "                                                               n_jobs=-1,\n",
       "                                                               oob_score=False,\n",
       "                                                               random_state=42,\n",
       "                                                               verbose=0,\n",
       "                                                               warm_start=False))],\n",
       "                                verbose=False),\n",
       "             iid='warn', n_jobs=-1,\n",
       "             param_grid={'clf__max_depth': [5, 15, 30],\n",
       "                         'clf__min_samples_leaf': [1, 2],\n",
       "                         'clf__min_samples_split': [2, 3],\n",
       "                         'clf__n_estimators': [2000, 3000, 5000, 7000]},\n",
       "             pre_dispatch='2*n_jobs', refit=True, return_train_score=False,\n",
       "             scoring='roc_auc', verbose=1)>"
      ]
     },
     "execution_count": 179,
     "metadata": {},
     "output_type": "execute_result"
    }
   ],
   "source": [
    "grid_search.get_params"
   ]
  },
  {
   "cell_type": "code",
   "execution_count": 184,
   "metadata": {},
   "outputs": [],
   "source": [
    "y_pred = grid_search.best_estimator_.predict(x_test)"
   ]
  },
  {
   "cell_type": "code",
   "execution_count": 189,
   "metadata": {},
   "outputs": [
    {
     "name": "stdout",
     "output_type": "stream",
     "text": [
      "              precision    recall  f1-score   support\n",
      "\n",
      "           0       0.86      1.00      0.92       868\n",
      "           1       0.83      0.12      0.22       161\n",
      "\n",
      "    accuracy                           0.86      1029\n",
      "   macro avg       0.85      0.56      0.57      1029\n",
      "weighted avg       0.86      0.86      0.81      1029\n",
      "\n"
     ]
    }
   ],
   "source": [
    "print(classification_report(y_test, y_pred))"
   ]
  }
 ],
 "metadata": {
  "kernelspec": {
   "display_name": "Python 3",
   "language": "python",
   "name": "python3"
  },
  "language_info": {
   "codemirror_mode": {
    "name": "ipython",
    "version": 3
   },
   "file_extension": ".py",
   "mimetype": "text/x-python",
   "name": "python",
   "nbconvert_exporter": "python",
   "pygments_lexer": "ipython3",
   "version": "3.7.4"
  }
 },
 "nbformat": 4,
 "nbformat_minor": 4
}
