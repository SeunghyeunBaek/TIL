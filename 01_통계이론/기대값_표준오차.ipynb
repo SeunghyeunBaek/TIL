{
 "cells": [
  {
   "cell_type": "markdown",
   "metadata": {
    "toc": true
   },
   "source": [
    "<h1>Table of Contents<span class=\"tocSkip\"></span></h1>\n",
    "<div class=\"toc\"><ul class=\"toc-item\"><li><span><a href=\"#기대값과-표준오차\" data-toc-modified-id=\"기대값과-표준오차-1\"><span class=\"toc-item-num\">1&nbsp;&nbsp;</span>기대값과 표준오차</a></span></li><li><span><a href=\"#예제\" data-toc-modified-id=\"예제-2\"><span class=\"toc-item-num\">2&nbsp;&nbsp;</span>예제</a></span><ul class=\"toc-item\"><li><span><a href=\"#어느-카지노에서-룰렛-하나당-게임이-한달에-만번씩-진행된다고-가정하자.-한번의-룰렛-게임에서-카지노측이-돈을-딸-확률은-20/38,-잃을-확률은-18/38-이다.-한-게임당-돈을-천원씩-걸-때,-한달간-25만원-이상-딸-확률을-구하라\" data-toc-modified-id=\"어느-카지노에서-룰렛-하나당-게임이-한달에-만번씩-진행된다고-가정하자.-한번의-룰렛-게임에서-카지노측이-돈을-딸-확률은-20/38,-잃을-확률은-18/38-이다.-한-게임당-돈을-천원씩-걸-때,-한달간-25만원-이상-딸-확률을-구하라-2.1\"><span class=\"toc-item-num\">2.1&nbsp;&nbsp;</span>어느 카지노에서 룰렛 하나당 게임이 한달에 만번씩 진행된다고 가정하자. 한번의 룰렛 게임에서 카지노측이 돈을 딸 확률은 20/38, 잃을 확률은 18/38 이다. 한 게임당 돈을 천원씩 걸 때, 한달간 25만원 이상 딸 확률을 구하라</a></span></li></ul></li></ul></div>"
   ]
  },
  {
   "cell_type": "code",
   "execution_count": 9,
   "metadata": {
    "ExecuteTime": {
     "end_time": "2019-07-01T01:44:14.278263Z",
     "start_time": "2019-07-01T01:44:14.275270Z"
    }
   },
   "outputs": [],
   "source": [
    "import math"
   ]
  },
  {
   "cell_type": "markdown",
   "metadata": {},
   "source": [
    "## 기대값과 표준오차\n",
    "* 기대값: 분포의 중심이 되는 값\n",
    "* 확률오차: 기대값과 실제 시행에서 나온 확률간의 차이\n",
    "* 표준오차: 확률 오차의 표준적 크기\n",
    "    * 합의 표준오차 = 상자의 표준편차 x sqrt(추출 횟수)\n",
    "    * 상자으 표준편차는 개념상 모표준편차에 해당한다.\n"
   ]
  },
  {
   "cell_type": "markdown",
   "metadata": {},
   "source": [
    "## 예제"
   ]
  },
  {
   "cell_type": "markdown",
   "metadata": {},
   "source": [
    "### 어느 카지노에서 룰렛 하나당 게임이 한달에 만번씩 진행된다고 가정하자. 한번의 룰렛 게임에서 카지노측이 돈을 딸 확률은 20/38, 잃을 확률은 18/38 이다. 한 게임당 돈을 천원씩 걸 때, 한달간 25만원 이상 딸 확률을 구하라"
   ]
  },
  {
   "cell_type": "code",
   "execution_count": 4,
   "metadata": {
    "ExecuteTime": {
     "end_time": "2019-07-01T01:39:56.196758Z",
     "start_time": "2019-07-01T01:39:56.190772Z"
    }
   },
   "outputs": [
    {
     "name": "stdout",
     "output_type": "stream",
     "text": [
      "\n",
      "exp_win: 526.3157894736842 won\n",
      "\n",
      "exp_lose: 473.6842105263158 won\n",
      "\n"
     ]
    }
   ],
   "source": [
    "n = 10000\n",
    "prob_win = 20/38\n",
    "prob_lose = 18/38\n",
    "betting = 1000\n",
    "exp_win = betting*prob_win\n",
    "exp_lose = betting*prob_lose\n",
    "print(f'''\n",
    "exp_win: {exp_win} won\\n\n",
    "exp_lose: {exp_lose} won\n",
    "''')"
   ]
  },
  {
   "cell_type": "markdown",
   "metadata": {
    "ExecuteTime": {
     "end_time": "2019-07-01T01:41:08.761905Z",
     "start_time": "2019-07-01T01:41:08.752913Z"
    }
   },
   "source": [
    "**상자모형으로 생각하기**  \n",
    "상자안에 38장의 카드가 있다. +1000카드는 20장, -1000카드는 18장이 있다. 10000번을 뽑을 때 카드 숫자의 합이 250000이상일 확률은?"
   ]
  },
  {
   "cell_type": "code",
   "execution_count": 17,
   "metadata": {
    "ExecuteTime": {
     "end_time": "2019-07-01T01:55:30.526484Z",
     "start_time": "2019-07-01T01:55:30.520526Z"
    }
   },
   "outputs": [
    {
     "name": "stdout",
     "output_type": "stream",
     "text": [
      "\n",
      "mu: 52.63157894736838\n",
      "\n",
      "sigma: 998.6139979479093\n",
      "\n",
      "exp_earn: 526315.7894736838\n",
      "\n",
      "se: 99861.39979479092\n",
      "\n"
     ]
    }
   ],
   "source": [
    "# 상자의 평균\n",
    "mu = 1000*prob_win - 1000*prob_lose\n",
    "sd = math.sqrt((1000-mu)**2*prob_win + (-1000 - mu)**2*prob_lose)\n",
    "# 순 이득에 대한 기대값, 합의 기대값 = 추춧횟수 x 상자의 평균\n",
    "exp_earn = mu*n\n",
    "# 합의 표준오차 = sqrt(추출횟수) x 상자의 표준편차\n",
    "se = math.sqrt(n) * sigma\n",
    "print(f'''\n",
    "mu: {mu}\\n\n",
    "sigma: {sigma}\\n\n",
    "exp_earn: {exp_earn}\\n\n",
    "se: {se}\n",
    "''')"
   ]
  },
  {
   "cell_type": "markdown",
   "metadata": {},
   "source": [
    "`25만원 = 50만원 - 25만원 = 평균 - 2.5 * SE` 와 같다. 정규분포 상에서 p(z>-2.5) = 99%다."
   ]
  },
  {
   "cell_type": "code",
   "execution_count": null,
   "metadata": {},
   "outputs": [],
   "source": []
  }
 ],
 "metadata": {
  "kernelspec": {
   "display_name": "Python 3",
   "language": "python",
   "name": "python3"
  },
  "language_info": {
   "codemirror_mode": {
    "name": "ipython",
    "version": 3
   },
   "file_extension": ".py",
   "mimetype": "text/x-python",
   "name": "python",
   "nbconvert_exporter": "python",
   "pygments_lexer": "ipython3",
   "version": "3.7.0"
  },
  "toc": {
   "base_numbering": 1,
   "nav_menu": {},
   "number_sections": true,
   "sideBar": true,
   "skip_h1_title": true,
   "title_cell": "Table of Contents",
   "title_sidebar": "Contents",
   "toc_cell": true,
   "toc_position": {},
   "toc_section_display": true,
   "toc_window_display": false
  }
 },
 "nbformat": 4,
 "nbformat_minor": 2
}
