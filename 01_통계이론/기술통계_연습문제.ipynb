{
 "cells": [
  {
   "cell_type": "code",
   "execution_count": 1,
   "metadata": {
    "ExecuteTime": {
     "end_time": "2019-06-07T08:50:13.757742Z",
     "start_time": "2019-06-07T08:50:08.732422Z"
    }
   },
   "outputs": [],
   "source": [
    "import numpy as np\n",
    "import pandas as pd\n",
    "import matplotlib.pyplot as plt\n",
    "import seaborn as sb\n",
    "pd.set_option('display.max_rows', 500)\n",
    "pd.set_option('display.max_columns', 500)\n",
    "pd.set_option('display.width', 1000)"
   ]
  },
  {
   "cell_type": "markdown",
   "metadata": {},
   "source": [
    "## 대우데이터\n",
    "1. 봉급생활자, 자영업자의 월소득 평균, 중앙값, 표준편차를 구하라. 봉급생활자와 자영업자간 근로소득의 분포가 어떻게 다른지 논하라\n",
    "\n",
    "\n",
    "2. 봉급생활자와 자영업자 집단에서 `연령`과 `소득` 의 관계를 분석하고자 한다. 하부 집단별로 평균 근로소득을 구하고, 연령과 소득의 관계를 그래프로 표현하라. 한 개인의 소득이 연령에 따라 어떻게 변화해 가는지 알 수 있는가? 있다면 관계를 설명하고 없다면 이유를 말하라.\n",
    "\n",
    "\n",
    "3. 음주가 소득에 미치는 영향을 분석하고자 한다. 음주와 소득의 관계에 혼동요인으로 작용할 가능성이 있는 변수를 둘 이상 제시하고 이유를 설명하라. 음주자는 P2 = 1, 비음주자는 P2 = 2 다.\n",
    "---\n",
    "데이터 상세\n",
    "* JOB1 : 1. 봉급생활 2. 자영업\n",
    "* P19 : 봉급생활자 평균 월 수입\n",
    "* P29 : 자영업자 평균 월 수입\n",
    "* AGE1 : 나이( 1인 가구는 AGE2 가 결측치)\n",
    "* P : 1. 음주 2. 비음주"
   ]
  },
  {
   "cell_type": "code",
   "execution_count": 2,
   "metadata": {
    "ExecuteTime": {
     "end_time": "2019-06-07T09:02:17.051362Z",
     "start_time": "2019-06-07T09:02:16.819596Z"
    }
   },
   "outputs": [],
   "source": [
    "# load data\n",
    "data_route = r'D:\\document\\data\\daewoo.xls'\n",
    "df_daewoo = pd.read_excel(data_route, encoding='utf-8-sig')"
   ]
  },
  {
   "cell_type": "markdown",
   "metadata": {},
   "source": [
    "1. 봉급생활자의 평균 소득은 109만원, 표준편차는 39만원이다.자영업자의 평균 소득은 155만원, 표준편차는 87만원이다. 봉급생활자는 자영업자에 비해 평균적으로 월 수입이 적지만 망할 가능성도 낮다고 볼 수 있다."
   ]
  },
  {
   "cell_type": "code",
   "execution_count": 3,
   "metadata": {
    "ExecuteTime": {
     "end_time": "2019-06-07T09:21:24.312410Z",
     "start_time": "2019-06-07T09:21:23.989971Z"
    },
    "hide_input": true
   },
   "outputs": [
    {
     "data": {
      "text/html": [
       "<div>\n",
       "<style scoped>\n",
       "    .dataframe tbody tr th:only-of-type {\n",
       "        vertical-align: middle;\n",
       "    }\n",
       "\n",
       "    .dataframe tbody tr th {\n",
       "        vertical-align: top;\n",
       "    }\n",
       "\n",
       "    .dataframe thead th {\n",
       "        text-align: right;\n",
       "    }\n",
       "</style>\n",
       "<table border=\"1\" class=\"dataframe\">\n",
       "  <thead>\n",
       "    <tr style=\"text-align: right;\">\n",
       "      <th></th>\n",
       "      <th>Salary</th>\n",
       "      <th>Owner</th>\n",
       "    </tr>\n",
       "  </thead>\n",
       "  <tbody>\n",
       "    <tr>\n",
       "      <th>count</th>\n",
       "      <td>235.000000</td>\n",
       "      <td>146.000000</td>\n",
       "    </tr>\n",
       "    <tr>\n",
       "      <th>mean</th>\n",
       "      <td>109.736170</td>\n",
       "      <td>155.328767</td>\n",
       "    </tr>\n",
       "    <tr>\n",
       "      <th>std</th>\n",
       "      <td>39.159527</td>\n",
       "      <td>87.520568</td>\n",
       "    </tr>\n",
       "    <tr>\n",
       "      <th>min</th>\n",
       "      <td>35.000000</td>\n",
       "      <td>5.000000</td>\n",
       "    </tr>\n",
       "    <tr>\n",
       "      <th>25%</th>\n",
       "      <td>80.000000</td>\n",
       "      <td>100.000000</td>\n",
       "    </tr>\n",
       "    <tr>\n",
       "      <th>50%</th>\n",
       "      <td>100.000000</td>\n",
       "      <td>140.000000</td>\n",
       "    </tr>\n",
       "    <tr>\n",
       "      <th>75%</th>\n",
       "      <td>130.000000</td>\n",
       "      <td>200.000000</td>\n",
       "    </tr>\n",
       "    <tr>\n",
       "      <th>max</th>\n",
       "      <td>300.000000</td>\n",
       "      <td>500.000000</td>\n",
       "    </tr>\n",
       "  </tbody>\n",
       "</table>\n",
       "</div>"
      ],
      "text/plain": [
       "           Salary       Owner\n",
       "count  235.000000  146.000000\n",
       "mean   109.736170  155.328767\n",
       "std     39.159527   87.520568\n",
       "min     35.000000    5.000000\n",
       "25%     80.000000  100.000000\n",
       "50%    100.000000  140.000000\n",
       "75%    130.000000  200.000000\n",
       "max    300.000000  500.000000"
      ]
     },
     "metadata": {},
     "output_type": "display_data"
    },
    {
     "data": {
      "image/png": "[encoded data removed]",
      "text/plain": [
       "<Figure size 432x288 with 1 Axes>"
      ]
     },
     "metadata": {
      "needs_background": "light"
     },
     "output_type": "display_data"
    }
   ],
   "source": [
    "ser_salary_income = df_daewoo[df_daewoo['JOB1'] == 1]['P19']\n",
    "ser_owner_income = df_daewoo[df_daewoo['JOB1'] == 2]['P29']\n",
    "\n",
    "list_income_summary = [ser_salary_income.describe(), ser_owner_income.describe()]\n",
    "df_income_summary = pd.concat(list_income_summary, axis = 1)\n",
    "df_income_summary.rename(columns = {'P19': 'Salary', 'P29':'Owner'}, inplace=True)\n",
    "display(df_income_summary)\n",
    "\n",
    "ser_salary_income.hist(alpha=.5, label='salary',density=True)\n",
    "ser_owner_income.hist(alpha=.5, label='owner', density=True)\n",
    "plt.legend()\n",
    "plt.show()"
   ]
  },
  {
   "cell_type": "markdown",
   "metadata": {},
   "source": [
    "2. 봉급생활자의 월급 평균은 전 연령에서 큰 차이가 없어보인다. 45세까지는 증가하고 이후부터 감소하다가 다시 증가한다. 반면 자영업자의 월 평균 소득은 [35, 40) 구간에서 가장 높았으며 나머지 구간에서는 패턴을 찾을 수 없다. 해당 데이터는 횡단면자료기 때문에 개인의 연령에 따른 소득 변화를 알아볼 수 없다. 개인별 월 평균 소득 시계열자료나 종적자료가 있으면 분석할 수 있다."
   ]
  },
  {
   "cell_type": "code",
   "execution_count": 61,
   "metadata": {},
   "outputs": [
    {
     "data": {
      "text/plain": [
       "<matplotlib.axes._subplots.AxesSubplot at 0x23c96333908>"
      ]
     },
     "execution_count": 61,
     "metadata": {},
     "output_type": "execute_result"
    },
    {
     "data": {
      "image/png": "[encoded data removed]",
      "text/plain": [
       "<Figure size 432x288 with 1 Axes>"
      ]
     },
     "metadata": {
      "needs_background": "light"
     },
     "output_type": "display_data"
    }
   ],
   "source": [
    "salary_age_cut_mean.plot()\n",
    "owner_age_cut_mean.plot()"
   ]
  },
  {
   "cell_type": "code",
   "execution_count": 4,
   "metadata": {
    "ExecuteTime": {
     "end_time": "2019-06-07T09:35:08.917774Z",
     "start_time": "2019-06-07T09:35:08.907845Z"
    },
    "hide_input": true
   },
   "outputs": [],
   "source": [
    "# 구간 나누기\n",
    "age_cut = pd.cut(df_daewoo['AGE1'], np.array([25, 30, 35, 40, 45, 50, 55, 60]), right=False)\n",
    "df_daewoo['AGE_CUT'] = age_cut\n",
    "\n",
    "df_salary = df_daewoo[df_daewoo['JOB1'] == 1]\n",
    "df_owner = df_daewoo[df_daewoo['JOB1'] == 2]\n",
    "\n",
    "# 연령에 따른 월 평균 소득\n",
    "salary_age_cut_mean = df_salary.groupby(['AGE_CUT'])['P19'].mean()\n",
    "owner_age_cut_mean = df_owner.groupby(['AGE_CUT'])['P23'].mean()"
   ]
  },
  {
   "cell_type": "code",
   "execution_count": 64,
   "metadata": {
    "ExecuteTime": {
     "end_time": "2019-06-07T09:42:54.187154Z",
     "start_time": "2019-06-07T09:42:53.913303Z"
    },
    "hide_input": true,
    "scrolled": false
   },
   "outputs": [
    {
     "data": {
      "image/png": "[encoded data removed]",
      "text/plain": [
       "<Figure size 720x504 with 3 Axes>"
      ]
     },
     "metadata": {
      "needs_background": "light"
     },
     "output_type": "display_data"
    }
   ],
   "source": [
    "fig, ax = plt.subplots(3, 1, figsize=(10,7))\n",
    "sb.barplot(x=salary_age_cut_mean.index, y=salary_age_cut_mean, \n",
    "           color = 'deepskyblue', label='salary', ax=ax[0])\n",
    "sb.barplot(x=owner_age_cut_mean.index, y=owner_age_cut_mean,\n",
    "           color = 'deeppink', label='owner', ax=ax[1])\n",
    "\n",
    "salary_age_cut_mean.plot(ax=ax[2], color='deepskyblue', label='salary')\n",
    "owner_age_cut_mean.plot(ax=ax[2], color='deeppink', label='deeppink')\n",
    "\n",
    "ax[0].legend(loc='upper left')\n",
    "ax[1].legend(loc='upper left')\n",
    "ax[2].legend(loc='upper left')\n",
    "\n",
    "plt.tight_layout()\n",
    "plt.show()"
   ]
  },
  {
   "cell_type": "markdown",
   "metadata": {},
   "source": [
    "3.음주와 소득의 관계\n",
    "봉급생활자와 자영업자 모두 음주자가 비음주자보다 평균 소득이 높다. 특히 자영업자 집단은 음주자가 평균 80만원 이상 월 수익이 높다.\n",
    "\n",
    "* 혼동요인\n",
    "    * 나이 : [35,40) 구간에서 음주 비율이 80퍼센트에 달하는 반면 50대 이상의 음주비율은 50% 다. 자영업자 집단에서 [35, 40) 구간의 평균 월 소득이 가장 높다. 음주 여부에 따른 평균 월 소득 차이는 `나이` 라는 혼동요인에 영향을 받는다."
   ]
  },
  {
   "cell_type": "code",
   "execution_count": 29,
   "metadata": {},
   "outputs": [
    {
     "data": {
      "text/plain": [
       "P2\n",
       "1    110.720670\n",
       "2    106.589286\n",
       "Name: P19, dtype: float64"
      ]
     },
     "metadata": {},
     "output_type": "display_data"
    },
    {
     "data": {
      "text/plain": [
       "P2\n",
       "1    172.935185\n",
       "2     93.119048\n",
       "Name: P23, dtype: float64"
      ]
     },
     "metadata": {},
     "output_type": "display_data"
    }
   ],
   "source": [
    "# 음주자와 비음주자의 평균 소득\n",
    "display(df_salary.groupby(['P2'])['P19'].mean())  # 봉급생활자\n",
    "display(df_owner.groupby(['P2'])['P23'].mean())  # 자영업자"
   ]
  },
  {
   "cell_type": "code",
   "execution_count": 40,
   "metadata": {},
   "outputs": [
    {
     "data": {
      "image/png": "[encoded data removed]",
      "text/plain": [
       "<Figure size 864x360 with 1 Axes>"
      ]
     },
     "metadata": {
      "needs_background": "light"
     },
     "output_type": "display_data"
    }
   ],
   "source": [
    "# 나이대별 음주자 비율\n",
    "plt.figure(figsize=(12,5))\n",
    "age_cut_soju = df_daewoo.groupby(['AGE_CUT'])['P2'].apply(lambda x : (x == 1).mean())\n",
    "sb.barplot(age_cut_soju.index, age_cut_soju, color='deepskyblue')\n",
    "plt.show()"
   ]
  },
  {
   "cell_type": "markdown",
   "metadata": {},
   "source": [
    "## 강남구 아파트 가격데이터\n",
    "1. 아파트 가격의 평균 및 최빈값을 구하고 그 결과가 히스토그램 모양에 어떻게 영향을 미치는지 말하라\n",
    "\n",
    "\n",
    "* 평균 : 37713.877 만원\n",
    "* 최빈구간 : (24875.0, 26000.0]\n",
    "\n",
    "최빈구간이 평균보다 작기에 오른쪽으로 꼬리가 생가는 분포를 이룬다."
   ]
  },
  {
   "cell_type": "code",
   "execution_count": 70,
   "metadata": {
    "ExecuteTime": {
     "end_time": "2019-06-07T09:15:17.158592Z",
     "start_time": "2019-06-07T09:15:17.140737Z"
    }
   },
   "outputs": [
    {
     "data": {
      "text/html": [
       "<div>\n",
       "<style scoped>\n",
       "    .dataframe tbody tr th:only-of-type {\n",
       "        vertical-align: middle;\n",
       "    }\n",
       "\n",
       "    .dataframe tbody tr th {\n",
       "        vertical-align: top;\n",
       "    }\n",
       "\n",
       "    .dataframe thead th {\n",
       "        text-align: right;\n",
       "    }\n",
       "</style>\n",
       "<table border=\"1\" class=\"dataframe\">\n",
       "  <thead>\n",
       "    <tr style=\"text-align: right;\">\n",
       "      <th></th>\n",
       "      <th>시세(하한)</th>\n",
       "      <th>시세(상한)</th>\n",
       "      <th>지하철</th>\n",
       "      <th>건축년도</th>\n",
       "      <th>평     수</th>\n",
       "      <th>연     령</th>\n",
       "      <th>지하철1개 노선</th>\n",
       "      <th>지하철 2개노선</th>\n",
       "      <th>대기업더미</th>\n",
       "      <th>단지규모</th>\n",
       "    </tr>\n",
       "  </thead>\n",
       "  <tbody>\n",
       "    <tr>\n",
       "      <th>count</th>\n",
       "      <td>236.000000</td>\n",
       "      <td>236.000000</td>\n",
       "      <td>236.000000</td>\n",
       "      <td>236.000000</td>\n",
       "      <td>236.000000</td>\n",
       "      <td>236.000000</td>\n",
       "      <td>236.000000</td>\n",
       "      <td>236.000000</td>\n",
       "      <td>236.000000</td>\n",
       "      <td>236.000000</td>\n",
       "    </tr>\n",
       "    <tr>\n",
       "      <th>mean</th>\n",
       "      <td>35179.872881</td>\n",
       "      <td>40247.881356</td>\n",
       "      <td>0.830508</td>\n",
       "      <td>1985.203390</td>\n",
       "      <td>37.504237</td>\n",
       "      <td>14.796610</td>\n",
       "      <td>0.720339</td>\n",
       "      <td>0.055085</td>\n",
       "      <td>0.148305</td>\n",
       "      <td>1109.877119</td>\n",
       "    </tr>\n",
       "    <tr>\n",
       "      <th>std</th>\n",
       "      <td>19325.768477</td>\n",
       "      <td>23302.745153</td>\n",
       "      <td>0.501997</td>\n",
       "      <td>5.916525</td>\n",
       "      <td>12.790122</td>\n",
       "      <td>5.916525</td>\n",
       "      <td>0.449787</td>\n",
       "      <td>0.228631</td>\n",
       "      <td>0.356158</td>\n",
       "      <td>989.467421</td>\n",
       "    </tr>\n",
       "    <tr>\n",
       "      <th>min</th>\n",
       "      <td>8750.000000</td>\n",
       "      <td>2000.000000</td>\n",
       "      <td>0.000000</td>\n",
       "      <td>1976.000000</td>\n",
       "      <td>14.000000</td>\n",
       "      <td>1.000000</td>\n",
       "      <td>0.000000</td>\n",
       "      <td>0.000000</td>\n",
       "      <td>0.000000</td>\n",
       "      <td>106.000000</td>\n",
       "    </tr>\n",
       "    <tr>\n",
       "      <th>25%</th>\n",
       "      <td>22000.000000</td>\n",
       "      <td>25000.000000</td>\n",
       "      <td>1.000000</td>\n",
       "      <td>1980.000000</td>\n",
       "      <td>29.000000</td>\n",
       "      <td>9.000000</td>\n",
       "      <td>0.000000</td>\n",
       "      <td>0.000000</td>\n",
       "      <td>0.000000</td>\n",
       "      <td>424.000000</td>\n",
       "    </tr>\n",
       "    <tr>\n",
       "      <th>50%</th>\n",
       "      <td>28000.000000</td>\n",
       "      <td>33000.000000</td>\n",
       "      <td>1.000000</td>\n",
       "      <td>1984.000000</td>\n",
       "      <td>34.000000</td>\n",
       "      <td>16.000000</td>\n",
       "      <td>1.000000</td>\n",
       "      <td>0.000000</td>\n",
       "      <td>0.000000</td>\n",
       "      <td>732.000000</td>\n",
       "    </tr>\n",
       "    <tr>\n",
       "      <th>75%</th>\n",
       "      <td>49250.000000</td>\n",
       "      <td>55500.000000</td>\n",
       "      <td>1.000000</td>\n",
       "      <td>1991.000000</td>\n",
       "      <td>47.000000</td>\n",
       "      <td>20.000000</td>\n",
       "      <td>1.000000</td>\n",
       "      <td>0.000000</td>\n",
       "      <td>0.000000</td>\n",
       "      <td>1232.000000</td>\n",
       "    </tr>\n",
       "    <tr>\n",
       "      <th>max</th>\n",
       "      <td>140000.000000</td>\n",
       "      <td>160000.000000</td>\n",
       "      <td>2.000000</td>\n",
       "      <td>1999.000000</td>\n",
       "      <td>80.000000</td>\n",
       "      <td>24.000000</td>\n",
       "      <td>1.000000</td>\n",
       "      <td>1.000000</td>\n",
       "      <td>1.000000</td>\n",
       "      <td>4424.000000</td>\n",
       "    </tr>\n",
       "  </tbody>\n",
       "</table>\n",
       "</div>"
      ],
      "text/plain": [
       "              시세(하한)         시세(상한)         지하철         건축년도     평     수     연     령    지하철1개 노선    지하철 2개노선       대기업더미         단지규모\n",
       "count     236.000000     236.000000  236.000000   236.000000  236.000000  236.000000  236.000000  236.000000  236.000000   236.000000\n",
       "mean    35179.872881   40247.881356    0.830508  1985.203390   37.504237   14.796610    0.720339    0.055085    0.148305  1109.877119\n",
       "std     19325.768477   23302.745153    0.501997     5.916525   12.790122    5.916525    0.449787    0.228631    0.356158   989.467421\n",
       "min      8750.000000    2000.000000    0.000000  1976.000000   14.000000    1.000000    0.000000    0.000000    0.000000   106.000000\n",
       "25%     22000.000000   25000.000000    1.000000  1980.000000   29.000000    9.000000    0.000000    0.000000    0.000000   424.000000\n",
       "50%     28000.000000   33000.000000    1.000000  1984.000000   34.000000   16.000000    1.000000    0.000000    0.000000   732.000000\n",
       "75%     49250.000000   55500.000000    1.000000  1991.000000   47.000000   20.000000    1.000000    0.000000    0.000000  1232.000000\n",
       "max    140000.000000  160000.000000    2.000000  1999.000000   80.000000   24.000000    1.000000    1.000000    1.000000  4424.000000"
      ]
     },
     "execution_count": 70,
     "metadata": {},
     "output_type": "execute_result"
    }
   ],
   "source": [
    "data_route = r'D:\\document\\data\\apartment_sales.xls'\n",
    "df_apt = pd.read_excel(data_route, encoding='utf-8-sig')\n",
    "df_apt.describe()"
   ]
  },
  {
   "cell_type": "code",
   "execution_count": 71,
   "metadata": {},
   "outputs": [],
   "source": [
    "# 시세 평균\n",
    "df_apt['시세(평균)'] = (df_apt['시세(하한)']+df_apt['시세(상한)'])/2"
   ]
  },
  {
   "cell_type": "code",
   "execution_count": 88,
   "metadata": {},
   "outputs": [
    {
     "data": {
      "text/plain": [
       "(24875.0, 26000.0]     17\n",
       "(18562.5, 21500.0]     14\n",
       "(73000.0, 150000.0]    12\n",
       "(30250.0, 32625.0]     12\n",
       "(13150.0, 16425.0]     12\n",
       "(16425.0, 18562.5]     12\n",
       "(23937.5, 24875.0]     12\n",
       "(65750.0, 73000.0]     12\n",
       "(28187.5, 30250.0]     12\n",
       "(32625.0, 35000.0]     12\n",
       "(41750.0, 46750.0]     12\n",
       "(46750.0, 52125.0]     12\n",
       "(52125.0, 56500.0]     12\n",
       "(59375.0, 65750.0]     12\n",
       "(8999.999, 13150.0]    12\n",
       "(35000.0, 41750.0]     11\n",
       "(56500.0, 59375.0]     11\n",
       "(27000.0, 28187.5]      9\n",
       "(26000.0, 27000.0]      9\n",
       "(21500.0, 23937.5]      9\n",
       "Name: 시세(평균), dtype: int64"
      ]
     },
     "metadata": {},
     "output_type": "display_data"
    },
    {
     "data": {
      "image/png": "[encoded data removed]",
      "text/plain": [
       "<Figure size 432x288 with 1 Axes>"
      ]
     },
     "metadata": {
      "needs_background": "light"
     },
     "output_type": "display_data"
    }
   ],
   "source": [
    "df_apt['시세(평균)'].hist(bins = 20, color='deepskyblue')\n",
    "plt.axvline(df_apt['시세(평균)'].mean(), color='deeppink')\n",
    "display(pd.qcut(df_apt['시세(평균)'], 20).value_counts())\n",
    "plt.show()"
   ]
  },
  {
   "cell_type": "code",
   "execution_count": null,
   "metadata": {},
   "outputs": [],
   "source": []
  }
 ],
 "metadata": {
  "kernelspec": {
   "display_name": "Python 3",
   "language": "python",
   "name": "python3"
  },
  "language_info": {
   "codemirror_mode": {
    "name": "ipython",
    "version": 3
   },
   "file_extension": ".py",
   "mimetype": "text/x-python",
   "name": "python",
   "nbconvert_exporter": "python",
   "pygments_lexer": "ipython3",
   "version": "3.7.0"
  },
  "toc": {
   "base_numbering": 1,
   "nav_menu": {},
   "number_sections": true,
   "sideBar": true,
   "skip_h1_title": true,
   "title_cell": "Table of Contents",
   "title_sidebar": "Contents",
   "toc_cell": false,
   "toc_position": {
    "height": "calc(100% - 180px)",
    "left": "10px",
    "top": "150px",
    "width": "165px"
   },
   "toc_section_display": true,
   "toc_window_display": false
  },
  "varInspector": {
   "cols": {
    "lenName": 16,
    "lenType": 16,
    "lenVar": 40
   },
   "kernels_config": {
    "python": {
     "delete_cmd_postfix": "",
     "delete_cmd_prefix": "del ",
     "library": "var_list.py",
     "varRefreshCmd": "print(var_dic_list())"
    },
    "r": {
     "delete_cmd_postfix": ") ",
     "delete_cmd_prefix": "rm(",
     "library": "var_list.r",
     "varRefreshCmd": "cat(var_dic_list()) "
    }
   },
   "types_to_exclude": [
    "module",
    "function",
    "builtin_function_or_method",
    "instance",
    "_Feature"
   ],
   "window_display": false
  }
 },
 "nbformat": 4,
 "nbformat_minor": 2
}
