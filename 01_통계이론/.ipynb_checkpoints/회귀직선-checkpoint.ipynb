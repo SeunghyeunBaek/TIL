{
 "cells": [
  {
   "cell_type": "markdown",
   "metadata": {},
   "source": [
    "## 회귀직선\n",
    "* 회귀직선의 기울기는 x가 1단위 증가할 때 y가 증가하는 정도를 나타낸다.  \n",
    "`회귀직선의 기울기 = r x (SDy/SDx)`\n",
    "* 회귀직선의 절편은 x가 0일때 y의 추정치(평균)이다.  \n",
    "* 회귀직선에 대응하는 방정식을 **회귀방정식**이라고 말한다.\n",
    "* 회귀직선의 추정치는 자료가 중심에서 벗어날 수록 신뢰도가 떨어진다.  \n",
    "\n",
    "\n",
    "### 회귀직선 기울기의 의미\n",
    "\n",
    "기울기는 누군가가 '개입해' x를 바꿀경우 이에 반응해 y가 얼마나 변할지를 나타낸다. **외부개입-내부반응** 식의 해석은 자료가 통제된 실험에서 사용했을 때 일반적으로 타당하며 관측된 자료에서 혼동요인이 존재할 경우 해석에 유의해야한다.  \n",
    "\n",
    "예를들어 소득~교육연수의 회귀방정식의 기울기가 7만원/연 이라고 가정하자. 그렇다면 정부가 무작위로 사람을 뽑아 4년간 교육을 시킨다면 이들의 평균소득이 그렇지 않은 집단보다 28만원 높을 것인가? 그렇지 않다. 통제된 실험이 아니라 관측했기 때문에 **통제되지 않은 요인**이 혼동요인으로 작용할 수 있다. 야망, 가정환경 등 다양한 혼동요인이 있다. 이는 교육연차가 소득에 미치는 영향을 왜곡하며, 기울기는 교육의 순수효과를 반영하지 못한다. 외부개입-내부반응으로 해석할 수 있는 실험은 용수철의 무게-늘어난 길이 등이 있다.\n",
    "\n",
    "원칙적으로 실험적 통제가 가장 좋은 방법이지만 실험이 불가능 하다면 통계적 통제라도 해야한다. 중회귀분석은 특정 변수가 다른 변수와 어떻게 관련하는지 알려주는 통계적 통제 방법이다.\n",
    "\n",
    "### 결정 계수\n",
    "\n",
    "하나의 y값과 y 평균의 차이는 다음과 같이 분해할 수 있다.\n",
    "`y - mean(y) = ( y_pred - mean(y) ) + (y - y_pred)`  \n",
    "하나의 y값에 대한 y평균과의 차이는 '평균에 의한 차이(SSR, 회귀제곱합)'와 '모델로 예측할 수 없는 차이(SSE, 잔차제곱합)'로 분해할 수 있다. 결정 계수는 SSR/SST로 계산하며, 모델로 예측할 수 없는 차이가 클 수록 설명력이 떨어지는 모델이라고 말할 수 있다.\n",
    "\n",
    "설명변수가 많아질수록 결정계수는 증가하기 때문에 단순히 모델간 결정 계수를 비교하는 것은 의미가 없다. 그래서 수정된 결정 계수를 사용한다."
   ]
  },
  {
   "cell_type": "code",
   "execution_count": 77,
   "metadata": {
    "ExecuteTime": {
     "end_time": "2019-06-13T12:43:10.614845Z",
     "start_time": "2019-06-13T12:43:10.607902Z"
    }
   },
   "outputs": [],
   "source": [
    "import pandas as pd\n",
    "import numpy as np\n",
    "import matplotlib.pyplot as plt\n",
    "import seaborn as sb\n",
    "\n",
    "from sklearn.linear_model import LinearRegression"
   ]
  },
  {
   "cell_type": "markdown",
   "metadata": {},
   "source": [
    "* 주평균 소득 = 월 평균 소득/4\n",
    "* 봉급 생활자 시간당 평균 소득 = 주 평균 소득 / P15\n",
    "* 자영업자 시간당 평균 소득 = 주 평균 소득 / P25"
   ]
  },
  {
   "cell_type": "markdown",
   "metadata": {},
   "source": [
    "가로축이 연령이고 세로축이 시간 당 임금인 산포도를 그려라"
   ]
  },
  {
   "cell_type": "code",
   "execution_count": 2,
   "metadata": {
    "ExecuteTime": {
     "end_time": "2019-06-13T11:43:09.004703Z",
     "start_time": "2019-06-13T11:43:08.378757Z"
    }
   },
   "outputs": [],
   "source": [
    "data_route = r'D:\\document\\data\\통계학_류근관\\daewoo.xls'\n",
    "df = pd.read_excel(data_route)"
   ]
  },
  {
   "cell_type": "code",
   "execution_count": 117,
   "metadata": {
    "ExecuteTime": {
     "end_time": "2019-06-13T12:57:12.083317Z",
     "start_time": "2019-06-13T12:57:11.835896Z"
    },
    "scrolled": false
   },
   "outputs": [
    {
     "data": {
      "image/png": "[encoded data removed]",
      "text/plain": [
       "<Figure size 864x360 with 1 Axes>"
      ]
     },
     "metadata": {
      "needs_background": "light"
     },
     "output_type": "display_data"
    },
    {
     "name": "stdout",
     "output_type": "stream",
     "text": [
      "alpha [0.00232488] beta [0.51312969]\n"
     ]
    }
   ],
   "source": [
    "tmp_df = df[(df['JOB1']==1) | (df['JOB1']==2)] # 자영업자와 봉급생활자만 뽑는다.\n",
    "income_per_hour = []\n",
    "for i in range(tmp_df.shape[0]):\n",
    "    row = tmp_df.iloc[i]\n",
    "    if row['JOB1'] == 1:\n",
    "        income_per_hour.append((row['P19']/4)/row['P15'])\n",
    "    else:\n",
    "        income_per_hour.append((row['P29']/4)/row['P25'])\n",
    "        \n",
    "# 결축치 대치\n",
    "x = tmp_df['AGE1'].values.reshape(-1, 1)\n",
    "y = np.array(income_per_hour).reshape(-1, 1)\n",
    "y[np.isnan(y)] = np.nanmean(y)\n",
    "\n",
    "lm = LinearRegression()\n",
    "lm.fit(x,y)\n",
    "\n",
    "alpha = lm.coef_[0]\n",
    "beta = lm.intercept_\n",
    "\n",
    "x_reg = np.arange(min(x),max(x),1)\n",
    "y_reg = alpha*x_reg+beta\n",
    "\n",
    "\n",
    "plt.figure(figsize=(12,5))\n",
    "plt.scatter(x=tmp_df['AGE1'], y=income_per_hour)\n",
    "plt.plot(x_reg,y_reg, color='red')\n",
    "plt.title('income_per_hour for age')\n",
    "plt.xlabel('AGE')\n",
    "plt.ylabel('Income_per_hour')\n",
    "plt.show()\n",
    "\n",
    "print(f'alpha {alpha} beta {beta}')"
   ]
  },
  {
   "cell_type": "markdown",
   "metadata": {
    "ExecuteTime": {
     "end_time": "2019-06-13T12:34:18.520470Z",
     "start_time": "2019-06-13T12:34:18.512037Z"
    }
   },
   "source": [
    "W = a + b*AGE + u 회귀식을 만들고 시간당 임금이 어떻게 다른지 분석하라  \n",
    "1) 각 계수의 최소자승 추정량을 구하고 그 결과를 해석하라  \n",
    "2) 위 모형은 연령과 임금관의 관계를 잘 설명한다고 볼 수 있는가?"
   ]
  },
  {
   "cell_type": "code",
   "execution_count": 102,
   "metadata": {
    "ExecuteTime": {
     "end_time": "2019-06-13T12:53:19.770251Z",
     "start_time": "2019-06-13T12:53:19.756359Z"
    }
   },
   "outputs": [
    {
     "ename": "AttributeError",
     "evalue": "'LinearRegression' object has no attribute 'fomula'",
     "output_type": "error",
     "traceback": [
      "\u001b[1;31m---------------------------------------------------------------------------\u001b[0m",
      "\u001b[1;31mAttributeError\u001b[0m                            Traceback (most recent call last)",
      "\u001b[1;32m<ipython-input-102-fc23d7230dd4>\u001b[0m in \u001b[0;36m<module>\u001b[1;34m\u001b[0m\n\u001b[1;32m----> 1\u001b[1;33m \u001b[0mlm\u001b[0m\u001b[1;33m.\u001b[0m\u001b[0mfomula\u001b[0m\u001b[1;33m\u001b[0m\u001b[0m\n\u001b[0m",
      "\u001b[1;31mAttributeError\u001b[0m: 'LinearRegression' object has no attribute 'fomula'"
     ]
    }
   ],
   "source": [
    "lm.fomula"
   ]
  },
  {
   "cell_type": "code",
   "execution_count": 107,
   "metadata": {
    "ExecuteTime": {
     "end_time": "2019-06-13T12:54:47.055671Z",
     "start_time": "2019-06-13T12:54:47.045252Z"
    }
   },
   "outputs": [
    {
     "data": {
      "text/plain": [
       "array([25, 26, 27, 28, 29, 30, 31, 32, 33, 34, 35, 36, 37, 38, 39, 40, 41,\n",
       "       42, 43, 44, 45, 46, 47, 48, 49, 50, 51, 52, 53, 54, 55, 56, 57, 58,\n",
       "       59, 60, 61, 62, 63, 64, 65, 66, 67, 68, 69, 70], dtype=int64)"
      ]
     },
     "execution_count": 107,
     "metadata": {},
     "output_type": "execute_result"
    }
   ],
   "source": [
    "x_reg"
   ]
  },
  {
   "cell_type": "code",
   "execution_count": 111,
   "metadata": {
    "ExecuteTime": {
     "end_time": "2019-06-13T12:55:39.622873Z",
     "start_time": "2019-06-13T12:55:39.618411Z"
    }
   },
   "outputs": [
    {
     "data": {
      "text/plain": [
       "(46,)"
      ]
     },
     "execution_count": 111,
     "metadata": {},
     "output_type": "execute_result"
    }
   ],
   "source": [
    ".shape"
   ]
  },
  {
   "cell_type": "code",
   "execution_count": 112,
   "metadata": {
    "ExecuteTime": {
     "end_time": "2019-06-13T12:55:46.808832Z",
     "start_time": "2019-06-13T12:55:46.662089Z"
    }
   },
   "outputs": [
    {
     "data": {
      "text/plain": [
       "[<matplotlib.lines.Line2D at 0x2c1b03276a0>]"
      ]
     },
     "execution_count": 112,
     "metadata": {},
     "output_type": "execute_result"
    },
    {
     "data": {
      "image/png": "[encoded data removed]",
      "text/plain": [
       "<Figure size 432x288 with 1 Axes>"
      ]
     },
     "metadata": {
      "needs_background": "light"
     },
     "output_type": "display_data"
    }
   ],
   "source": []
  },
  {
   "cell_type": "code",
   "execution_count": null,
   "metadata": {},
   "outputs": [],
   "source": []
  }
 ],
 "metadata": {
  "kernelspec": {
   "display_name": "Python 3",
   "language": "python",
   "name": "python3"
  },
  "language_info": {
   "codemirror_mode": {
    "name": "ipython",
    "version": 3
   },
   "file_extension": ".py",
   "mimetype": "text/x-python",
   "name": "python",
   "nbconvert_exporter": "python",
   "pygments_lexer": "ipython3",
   "version": "3.7.0"
  },
  "toc": {
   "base_numbering": 1,
   "nav_menu": {},
   "number_sections": true,
   "sideBar": true,
   "skip_h1_title": true,
   "title_cell": "Table of Contents",
   "title_sidebar": "Contents",
   "toc_cell": false,
   "toc_position": {},
   "toc_section_display": true,
   "toc_window_display": false
  },
  "varInspector": {
   "cols": {
    "lenName": 16,
    "lenType": 16,
    "lenVar": 40
   },
   "kernels_config": {
    "python": {
     "delete_cmd_postfix": "",
     "delete_cmd_prefix": "del ",
     "library": "var_list.py",
     "varRefreshCmd": "print(var_dic_list())"
    },
    "r": {
     "delete_cmd_postfix": ") ",
     "delete_cmd_prefix": "rm(",
     "library": "var_list.r",
     "varRefreshCmd": "cat(var_dic_list()) "
    }
   },
   "types_to_exclude": [
    "module",
    "function",
    "builtin_function_or_method",
    "instance",
    "_Feature"
   ],
   "window_display": false
  }
 },
 "nbformat": 4,
 "nbformat_minor": 2
}
