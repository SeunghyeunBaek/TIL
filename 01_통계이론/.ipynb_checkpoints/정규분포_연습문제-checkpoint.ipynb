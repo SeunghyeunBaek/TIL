{
 "cells": [
  {
   "cell_type": "code",
   "execution_count": 35,
   "metadata": {},
   "outputs": [],
   "source": [
    "import numpy as np\n",
    "import pandas as pd\n",
    "import matplotlib.pyplot as plt\n",
    "import seaborn as sb"
   ]
  },
  {
   "cell_type": "markdown",
   "metadata": {},
   "source": [
    "## 100개의 시험성적에 대한 자료가 표준단위 형태로 나타났다. 처음 10개의 값은 다음과 같다. 이 값들은 이상이 없어보이는가?\n",
    "score = [-5.4, 4.5, 1, -0.15, 3.3, -6.1, -7.2, -10.3, 0.8, 8.3]  \n",
    "일반적으로 정규분포를 따르는 자료라면 3SD 구간에 99%의 자료가 존재해야한다. 10개중 7개가 3SD 밖의 값으로 자료가 정규분포를 벗어나 있는 것으로 보인다."
   ]
  },
  {
   "cell_type": "markdown",
   "metadata": {},
   "source": [
    "## 평균이 169, 표준편차가 9, 최댓값이 178인 분포는 정규분포를 따른다고 볼 수 있는가?\n",
    "최댓값의 표준단위는 1SD로 16백분위수다. 왼쪽으로 꼬리가 긴 분포형태다."
   ]
  },
  {
   "cell_type": "markdown",
   "metadata": {},
   "source": [
    "## 아파트 평수의 히스토그램을 그리고 정규분포와 가까운지 논하라\n",
    "정규분포와 가깝지만 2분위수가 평균보다 왼쪽에 위치한다."
   ]
  },
  {
   "cell_type": "code",
   "execution_count": 28,
   "metadata": {},
   "outputs": [
    {
     "data": {
      "text/html": [
       "<div>\n",
       "<style scoped>\n",
       "    .dataframe tbody tr th:only-of-type {\n",
       "        vertical-align: middle;\n",
       "    }\n",
       "\n",
       "    .dataframe tbody tr th {\n",
       "        vertical-align: top;\n",
       "    }\n",
       "\n",
       "    .dataframe thead th {\n",
       "        text-align: right;\n",
       "    }\n",
       "</style>\n",
       "<table border=\"1\" class=\"dataframe\">\n",
       "  <thead>\n",
       "    <tr style=\"text-align: right;\">\n",
       "      <th></th>\n",
       "      <th>시세(하한)</th>\n",
       "      <th>시세(상한)</th>\n",
       "      <th>지하철</th>\n",
       "      <th>건축년도</th>\n",
       "      <th>평     수</th>\n",
       "      <th>연     령</th>\n",
       "      <th>지하철1개 노선</th>\n",
       "      <th>지하철 2개노선</th>\n",
       "      <th>대기업더미</th>\n",
       "      <th>단지규모</th>\n",
       "    </tr>\n",
       "  </thead>\n",
       "  <tbody>\n",
       "    <tr>\n",
       "      <th>count</th>\n",
       "      <td>236.000000</td>\n",
       "      <td>236.000000</td>\n",
       "      <td>236.000000</td>\n",
       "      <td>236.000000</td>\n",
       "      <td>236.000000</td>\n",
       "      <td>236.000000</td>\n",
       "      <td>236.000000</td>\n",
       "      <td>236.000000</td>\n",
       "      <td>236.000000</td>\n",
       "      <td>236.000000</td>\n",
       "    </tr>\n",
       "    <tr>\n",
       "      <th>mean</th>\n",
       "      <td>35179.872881</td>\n",
       "      <td>40247.881356</td>\n",
       "      <td>0.830508</td>\n",
       "      <td>1985.203390</td>\n",
       "      <td>37.504237</td>\n",
       "      <td>14.796610</td>\n",
       "      <td>0.720339</td>\n",
       "      <td>0.055085</td>\n",
       "      <td>0.148305</td>\n",
       "      <td>1109.877119</td>\n",
       "    </tr>\n",
       "    <tr>\n",
       "      <th>std</th>\n",
       "      <td>19325.768477</td>\n",
       "      <td>23302.745153</td>\n",
       "      <td>0.501997</td>\n",
       "      <td>5.916525</td>\n",
       "      <td>12.790122</td>\n",
       "      <td>5.916525</td>\n",
       "      <td>0.449787</td>\n",
       "      <td>0.228631</td>\n",
       "      <td>0.356158</td>\n",
       "      <td>989.467421</td>\n",
       "    </tr>\n",
       "    <tr>\n",
       "      <th>min</th>\n",
       "      <td>8750.000000</td>\n",
       "      <td>2000.000000</td>\n",
       "      <td>0.000000</td>\n",
       "      <td>1976.000000</td>\n",
       "      <td>14.000000</td>\n",
       "      <td>1.000000</td>\n",
       "      <td>0.000000</td>\n",
       "      <td>0.000000</td>\n",
       "      <td>0.000000</td>\n",
       "      <td>106.000000</td>\n",
       "    </tr>\n",
       "    <tr>\n",
       "      <th>25%</th>\n",
       "      <td>22000.000000</td>\n",
       "      <td>25000.000000</td>\n",
       "      <td>1.000000</td>\n",
       "      <td>1980.000000</td>\n",
       "      <td>29.000000</td>\n",
       "      <td>9.000000</td>\n",
       "      <td>0.000000</td>\n",
       "      <td>0.000000</td>\n",
       "      <td>0.000000</td>\n",
       "      <td>424.000000</td>\n",
       "    </tr>\n",
       "    <tr>\n",
       "      <th>50%</th>\n",
       "      <td>28000.000000</td>\n",
       "      <td>33000.000000</td>\n",
       "      <td>1.000000</td>\n",
       "      <td>1984.000000</td>\n",
       "      <td>34.000000</td>\n",
       "      <td>16.000000</td>\n",
       "      <td>1.000000</td>\n",
       "      <td>0.000000</td>\n",
       "      <td>0.000000</td>\n",
       "      <td>732.000000</td>\n",
       "    </tr>\n",
       "    <tr>\n",
       "      <th>75%</th>\n",
       "      <td>49250.000000</td>\n",
       "      <td>55500.000000</td>\n",
       "      <td>1.000000</td>\n",
       "      <td>1991.000000</td>\n",
       "      <td>47.000000</td>\n",
       "      <td>20.000000</td>\n",
       "      <td>1.000000</td>\n",
       "      <td>0.000000</td>\n",
       "      <td>0.000000</td>\n",
       "      <td>1232.000000</td>\n",
       "    </tr>\n",
       "    <tr>\n",
       "      <th>max</th>\n",
       "      <td>140000.000000</td>\n",
       "      <td>160000.000000</td>\n",
       "      <td>2.000000</td>\n",
       "      <td>1999.000000</td>\n",
       "      <td>80.000000</td>\n",
       "      <td>24.000000</td>\n",
       "      <td>1.000000</td>\n",
       "      <td>1.000000</td>\n",
       "      <td>1.000000</td>\n",
       "      <td>4424.000000</td>\n",
       "    </tr>\n",
       "  </tbody>\n",
       "</table>\n",
       "</div>"
      ],
      "text/plain": [
       "              시세(하한)         시세(상한)         지하철         건축년도     평     수  \\\n",
       "count     236.000000     236.000000  236.000000   236.000000  236.000000   \n",
       "mean    35179.872881   40247.881356    0.830508  1985.203390   37.504237   \n",
       "std     19325.768477   23302.745153    0.501997     5.916525   12.790122   \n",
       "min      8750.000000    2000.000000    0.000000  1976.000000   14.000000   \n",
       "25%     22000.000000   25000.000000    1.000000  1980.000000   29.000000   \n",
       "50%     28000.000000   33000.000000    1.000000  1984.000000   34.000000   \n",
       "75%     49250.000000   55500.000000    1.000000  1991.000000   47.000000   \n",
       "max    140000.000000  160000.000000    2.000000  1999.000000   80.000000   \n",
       "\n",
       "          연     령    지하철1개 노선    지하철 2개노선       대기업더미         단지규모  \n",
       "count  236.000000  236.000000  236.000000  236.000000   236.000000  \n",
       "mean    14.796610    0.720339    0.055085    0.148305  1109.877119  \n",
       "std      5.916525    0.449787    0.228631    0.356158   989.467421  \n",
       "min      1.000000    0.000000    0.000000    0.000000   106.000000  \n",
       "25%      9.000000    0.000000    0.000000    0.000000   424.000000  \n",
       "50%     16.000000    1.000000    0.000000    0.000000   732.000000  \n",
       "75%     20.000000    1.000000    0.000000    0.000000  1232.000000  \n",
       "max     24.000000    1.000000    1.000000    1.000000  4424.000000  "
      ]
     },
     "execution_count": 28,
     "metadata": {},
     "output_type": "execute_result"
    }
   ],
   "source": [
    "data_route = r'D:\\document\\data\\apartment_sales.xls'\n",
    "df_apt = pd.read_excel(data_route, encoding='utf-8-sig')\n",
    "df_apt.describe()"
   ]
  },
  {
   "cell_type": "code",
   "execution_count": 49,
   "metadata": {},
   "outputs": [
    {
     "data": {
      "image/png": "[encoded data removed]",
      "text/plain": [
       "<Figure size 432x288 with 1 Axes>"
      ]
     },
     "metadata": {
      "needs_background": "light"
     },
     "output_type": "display_data"
    },
    {
     "name": "stdout",
     "output_type": "stream",
     "text": [
      "mean-mode : 3.5042372881355917\n"
     ]
    }
   ],
   "source": [
    "ser_area = df_apt['평     수']\n",
    "area_1q = ser_area.quantile(.25)\n",
    "area_2q = ser_area.quantile(.5)\n",
    "area_3q = ser_area.quantile(.75)\n",
    "area_mean = ser_area.mean()\n",
    "area_std = ser_area.std()\n",
    "\n",
    "ser_area.hist(alpha=.5, density=True, edgecolor='black', linewidth=1.2)\n",
    "tmp = np.random.normal(loc=area_mean ,scale=area_std,size=10000)\n",
    "sb.distplot(tmp)\n",
    "\n",
    "plt.axvline(area_mean,color='red')\n",
    "\n",
    "plt.show()\n",
    "print(f'mean-mode : {area_mean-area_2q}')"
   ]
  },
  {
   "cell_type": "markdown",
   "metadata": {},
   "source": [
    "## 아파트 연령의 히스토그램을 보고 정규분포와 가까운지 논하라"
   ]
  },
  {
   "cell_type": "code",
   "execution_count": 48,
   "metadata": {},
   "outputs": [
    {
     "data": {
      "image/png": "[encoded data removed]",
      "text/plain": [
       "<Figure size 432x288 with 1 Axes>"
      ]
     },
     "metadata": {
      "needs_background": "light"
     },
     "output_type": "display_data"
    },
    {
     "name": "stdout",
     "output_type": "stream",
     "text": [
      "mean-mode : -1.203389830508474\n"
     ]
    }
   ],
   "source": [
    "ser_age = df_apt['연     령']\n",
    "age_2q = ser_age.quantile(.5)\n",
    "age_mean = ser_age.mean()\n",
    "age_std = ser_age.std()\n",
    "\n",
    "ser_age.hist(alpha=.5, density=True,edgecolor='black', linewidth=1.2)\n",
    "tmp = np.random.normal(loc=age_mean ,scale=age_std,size=10000)\n",
    "sb.distplot(tmp)\n",
    "\n",
    "plt.axvline(age_mean, color='red')\n",
    "plt.axvline(age_2q, color='green')\n",
    "plt.show()\n",
    "print(f'mean-mode : {age_mean-age_2q}')"
   ]
  }
 ],
 "metadata": {
  "kernelspec": {
   "display_name": "Python 3",
   "language": "python",
   "name": "python3"
  },
  "language_info": {
   "codemirror_mode": {
    "name": "ipython",
    "version": 3
   },
   "file_extension": ".py",
   "mimetype": "text/x-python",
   "name": "python",
   "nbconvert_exporter": "python",
   "pygments_lexer": "ipython3",
   "version": "3.7.0"
  }
 },
 "nbformat": 4,
 "nbformat_minor": 2
}
