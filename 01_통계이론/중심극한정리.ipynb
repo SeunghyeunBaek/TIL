{
 "cells": [
  {
   "cell_type": "markdown",
   "metadata": {
    "toc": true
   },
   "source": [
    "<h1>Table of Contents<span class=\"tocSkip\"></span></h1>\n",
    "<div class=\"toc\"><ul class=\"toc-item\"><li><span><a href=\"#중심극한-정리\" data-toc-modified-id=\"중심극한-정리-1\"><span class=\"toc-item-num\">1&nbsp;&nbsp;</span>중심극한 정리</a></span></li><li><span><a href=\"#부트스트래핑\" data-toc-modified-id=\"부트스트래핑-2\"><span class=\"toc-item-num\">2&nbsp;&nbsp;</span>부트스트래핑</a></span></li><li><span><a href=\"#연습문제-풀이\" data-toc-modified-id=\"연습문제-풀이-3\"><span class=\"toc-item-num\">3&nbsp;&nbsp;</span>연습문제 풀이</a></span></li></ul></div>"
   ]
  },
  {
   "cell_type": "markdown",
   "metadata": {},
   "source": [
    "## 중심극한 정리\n",
    "\n",
    "\n",
    "* 경험적 히스토그램: 경험한 자료로 제작한 히스토그램, 면적은 상대도수를 나타낸다.\n",
    "* 확률 히스토그램:이론적 확률의 히스토그램, 면적은 확률을 나타낸다.\n",
    "\n",
    "\n",
    "**반복 시행 횟수와 매 시행에서의 표본의 크기(추출 횟수)가 커지면 합(평균)의 히스토그램은 확률 히스토그램, 정규분포 곡선으로 수렴한다**\n",
    "\n",
    "합(혹은 평균)의 경험적 히스토그램 수렴은 2가지가 있다.\n",
    "\n",
    "1) 합의 경험적 히스토그램 => 합의 확률 히스토그램\n",
    "    * 표본의 크기(추출 횟수) 고정\n",
    "    * 시행 횟수 증가\n",
    "    * 평균의 법칙: 시행횟수가 증가하면 경험적 확률이 이론적 확률로 수렴\n",
    "\n",
    "2) 합의 확률 히스토그램 => 정규분포\n",
    "    * 시행 횟수 고정(무한대)\n",
    "    * 표본의 크기(추출 횟수) 증가\n",
    "    * 중심극한 정리: 표본의 크기가 증가하면 합(평균)의 평균은 N(평균, 표준오차^2)의 정규분포를 따른다\n",
    "    * 기대값과 표준오차로 묘사할 수 있음\n",
    "        * 상자의 평균\n",
    "        * 상자의 표준편차\n",
    "        * 표본의 크기(추출 횟수)\n",
    "    \n",
    "* 중심극한 정리\n",
    "    * 상자 내용물의 균형할 수록(분포가 정규분포를 닮을 수록) 표본의 크기가 작아도 정규분포로 수렴\n",
    "    * 연속성 수정: 이산확률변수를 연속확률변수로 근사할 때 Edge 포함 여부를 결정하는 일\n",
    "    \n",
    "## 부트스트래핑\n",
    "표본의 크기가 n(small, finite)일 때(표본의 크기가 작아서 중심극한 정리를 적용하기 여려울 때)\n",
    "\n",
    "\n",
    "    1) 표본으로부터 *복원추출*로 크기가 n인 표본을 추출한다.(부트스트랩 표본)  \n",
    "    2) 부트스트랩 표본으로 부터 표본 평균을 계산한다.  \n",
    "    3) 1-2 과정을 1000번 반복한다.  \n",
    "    4) 표본평균의 확률 히스토그램에 대한 부트스트랩 근사\n",
    "        * 원래 표본평균 ~ 부트스트랩 표본 평균의 평균\n",
    "        * 원래 표본평균의 표준 오차 ~ 부트스트랩 표본 평균의 표준편차  "
   ]
  },
  {
   "cell_type": "code",
   "execution_count": null,
   "metadata": {},
   "outputs": [],
   "source": []
  }
 ],
 "metadata": {
  "kernelspec": {
   "display_name": "Python 3",
   "language": "python",
   "name": "python3"
  },
  "language_info": {
   "codemirror_mode": {
    "name": "ipython",
    "version": 3
   },
   "file_extension": ".py",
   "mimetype": "text/x-python",
   "name": "python",
   "nbconvert_exporter": "python",
   "pygments_lexer": "ipython3",
   "version": "3.7.0"
  },
  "toc": {
   "base_numbering": 1,
   "nav_menu": {},
   "number_sections": true,
   "sideBar": true,
   "skip_h1_title": true,
   "title_cell": "Table of Contents",
   "title_sidebar": "Contents",
   "toc_cell": true,
   "toc_position": {},
   "toc_section_display": true,
   "toc_window_display": false
  }
 },
 "nbformat": 4,
 "nbformat_minor": 2
}
