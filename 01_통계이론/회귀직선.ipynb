{
 "cells": [
  {
   "cell_type": "markdown",
   "metadata": {},
   "source": [
    "## 회귀직선\n",
    "* 회귀직선의 기울기는 x가 1단위 증가할 때 y가 증가하는 정도를 나타낸다.  \n",
    "`회귀직선의 기울기 = r x (SDy/SDx)`\n",
    "* 회귀직선의 절편은 x가 0일때 y의 추정치(평균)이다.  \n",
    "* 회귀직선에 대응하는 방정식을 **회귀방정식**이라고 말한다.\n",
    "* 회귀직선의 추정치는 자료가 중심에서 벗어날 수록 신뢰도가 떨어진다.  \n",
    "\n",
    "\n",
    "### 회귀직선 기울기의 의미\n",
    "\n",
    "기울기는 누군가가 '개입해' x를 바꿀경우 이에 반응해 y가 얼마나 변할지를 나타낸다. **외부개입-내부반응** 식의 해석은 자료가 통제된 실험에서 사용했을 때 일반적으로 타당하며 관측된 자료에서 혼동요인이 존재할 경우 해석에 유의해야한다.  \n",
    "\n",
    "예를들어 소득~교육연수의 회귀방정식의 기울기가 7만원/연 이라고 가정하자. 그렇다면 정부가 무작위로 사람을 뽑아 4년간 교육을 시킨다면 이들의 평균소득이 그렇지 않은 집단보다 28만원 높을 것인가? 그렇지 않다. 통제된 실험이 아니라 관측했기 때문에 **통제되지 않은 요인**이 혼동요인으로 작용할 수 있다. 야망, 가정환경 등 다양한 혼동요인이 있다. 이는 교육연차가 소득에 미치는 영향을 왜곡하며, 기울기는 교육의 순수효과를 반영하지 못한다. 외부개입-내부반응으로 해석할 수 있는 실험은 용수철의 무게-늘어난 길이 등이 있다.\n",
    "\n",
    "원칙적으로 실험적 통제가 가장 좋은 방법이지만 실험이 불가능 하다면 통계적 통제라도 해야한다. 중회귀분석은 특정 변수가 다른 변수와 어떻게 관련하는지 알려주는 통계적 통제 방법이다.\n",
    "\n",
    "### 결정 계수\n",
    "\n",
    "하나의 y값과 y 평균의 차이는 다음과 같이 분해할 수 있다.\n",
    "`y - mean(y) = ( y_pred - mean(y) ) + (y - y_pred)`  \n",
    "하나의 y값에 대한 y평균과의 차이는 '평균에 의한 차이(SSR, 회귀제곱합)'와 '모델로 예측할 수 없는 차이(SSE, 잔차제곱합)'로 분해할 수 있다. 결정 계수는 SSR/SST로 계산하며, 모델로 예측할 수 없는 차이가 클 수록 설명력이 떨어지는 모델이라고 말할 수 있다.\n",
    "\n",
    "설명변수가 많아질수록 결정계수는 증가하기 때문에 단순히 모델간 결정 계수를 비교하는 것은 의미가 없다. 그래서 수정된 결정 계수를 사용한다."
   ]
  },
  {
   "cell_type": "code",
   "execution_count": 48,
   "metadata": {
    "ExecuteTime": {
     "end_time": "2019-06-15T05:53:21.345358Z",
     "start_time": "2019-06-15T05:53:21.340399Z"
    }
   },
   "outputs": [],
   "source": [
    "import pandas as pd\n",
    "import numpy as np\n",
    "import matplotlib.pyplot as plt\n",
    "import seaborn as sb\n",
    "\n",
    "from sklearn.linear_model import LinearRegression"
   ]
  },
  {
   "cell_type": "code",
   "execution_count": 49,
   "metadata": {
    "ExecuteTime": {
     "end_time": "2019-06-15T05:53:21.551976Z",
     "start_time": "2019-06-15T05:53:21.545030Z"
    }
   },
   "outputs": [],
   "source": [
    "def mr_squared(model, x, y):\n",
    "    return 1 - (1-model.score(x, y))*(len(y)-1)/(len(y)-x.shape[1]-1)\n",
    "\n",
    "def plot_y(model, age, y):\n",
    "    y_pred = model.predict(x)\n",
    "    plt.figure(figsize=(12,5))\n",
    "    plt.scatter(age, y, color = 'deepskyblue', label='y')\n",
    "    plt.scatter(age, y_pred, color='deeppink', label='y_hat')\n",
    "    plt.axhline(np.mean(y), color='lime',label='y_mean')\n",
    "    plt.title('income_per_hour for age')\n",
    "    plt.xlabel('AGE')\n",
    "    plt.ylabel('Income_per_hour')\n",
    "    plt.legend()\n",
    "    plt.show()"
   ]
  },
  {
   "cell_type": "markdown",
   "metadata": {},
   "source": [
    "* 주평균 소득 = 월 평균 소득/4\n",
    "* 봉급 생활자 시간당 평균 소득 = 주 평균 소득 / P15\n",
    "* 자영업자 시간당 평균 소득 = 주 평균 소득 / P25"
   ]
  },
  {
   "cell_type": "markdown",
   "metadata": {},
   "source": [
    "가로축이 연령이고 세로축이 시간 당 임금인 산포도를 그려라"
   ]
  },
  {
   "cell_type": "code",
   "execution_count": 50,
   "metadata": {
    "ExecuteTime": {
     "end_time": "2019-06-15T05:53:22.381512Z",
     "start_time": "2019-06-15T05:53:22.276065Z"
    }
   },
   "outputs": [],
   "source": [
    "data_route = r'D:\\document\\data\\통계학_류근관\\daewoo.xls'\n",
    "df = pd.read_excel(data_route)"
   ]
  },
  {
   "cell_type": "code",
   "execution_count": 51,
   "metadata": {
    "ExecuteTime": {
     "end_time": "2019-06-15T05:53:22.898286Z",
     "start_time": "2019-06-15T05:53:22.650250Z"
    },
    "hide_input": true,
    "scrolled": false
   },
   "outputs": [
    {
     "data": {
      "image/png": "[encoded data removed]",
      "text/plain": [
       "<Figure size 864x360 with 1 Axes>"
      ]
     },
     "metadata": {
      "needs_background": "light"
     },
     "output_type": "display_data"
    },
    {
     "name": "stdout",
     "output_type": "stream",
     "text": [
      "alpha [0.00232488] beta [0.51312969]\n"
     ]
    }
   ],
   "source": [
    "tmp_df = df[(df['JOB1']==1) | (df['JOB1']==2)] # 자영업자와 봉급생활자만 뽑는다.\n",
    "income_per_hour = []\n",
    "for i in range(tmp_df.shape[0]):\n",
    "    row = tmp_df.iloc[i]\n",
    "    if row['JOB1'] == 1:\n",
    "        income_per_hour.append((row['P19']/4)/row['P15'])\n",
    "    else:\n",
    "        income_per_hour.append((row['P29']/4)/row['P25'])\n",
    "        \n",
    "# 결축치 대치\n",
    "x = tmp_df['AGE1'].values.reshape(-1, 1)\n",
    "y = np.array(income_per_hour).reshape(-1, 1)\n",
    "y[np.isnan(y)] = np.nanmean(y)\n",
    "\n",
    "lm = LinearRegression()\n",
    "lm.fit(x,y)\n",
    "\n",
    "alpha = lm.coef_[0]\n",
    "beta = lm.intercept_\n",
    "y_pred = lm.predict(x)\n",
    "\n",
    "\n",
    "plt.figure(figsize=(12,5))\n",
    "plt.scatter(x=tmp_df['AGE1'], y=income_per_hour, color = 'deepskyblue', label='y')\n",
    "plt.plot(x,y_pred, color='deeppink', label='y_hat')\n",
    "plt.axhline(np.mean(y), color='lime',label='y_mean')\n",
    "plt.title('income_per_hour for age')\n",
    "plt.xlabel('AGE')\n",
    "plt.ylabel('Income_per_hour')\n",
    "plt.legend()\n",
    "plt.show()\n",
    "\n",
    "print(f'alpha {alpha} beta {beta}')"
   ]
  },
  {
   "cell_type": "code",
   "execution_count": 52,
   "metadata": {
    "ExecuteTime": {
     "end_time": "2019-06-15T05:53:23.088090Z",
     "start_time": "2019-06-15T05:53:23.083626Z"
    }
   },
   "outputs": [
    {
     "data": {
      "text/plain": [
       "25"
      ]
     },
     "execution_count": 52,
     "metadata": {},
     "output_type": "execute_result"
    }
   ],
   "source": [
    "min(tmp_df['AGE1'])"
   ]
  },
  {
   "cell_type": "markdown",
   "metadata": {
    "ExecuteTime": {
     "end_time": "2019-06-13T12:34:18.520470Z",
     "start_time": "2019-06-13T12:34:18.512037Z"
    }
   },
   "source": [
    "2. W = a + b*AGE + u 회귀식을 만들고 시간당 임금이 어떻게 다른지 분석하라  \n",
    "1) 각 계수의 최소자승 추정량을 구하고 그 결과를 해석하라  \n",
    "`a+u = 0.00232, b = 0.513`  \n",
    "연령이 한살 증가하면 시간 당 소득은 2.32원 증가한다. 25세의 평균 시간당 소득은 513원이다."
   ]
  },
  {
   "cell_type": "markdown",
   "metadata": {
    "ExecuteTime": {
     "end_time": "2019-06-15T04:24:12.964748Z",
     "start_time": "2019-06-15T04:24:12.960722Z"
    }
   },
   "source": [
    "2) 위 모형은 연령과 임금관의 관계를 잘 설명한다고 볼 수 있는가?  \n",
    "* SST = 총제곱합(y-y_mean 의 제곱 합)  \n",
    "* SSR = 회귀제곱합(y_hat-y_mean 의 제곱합)  \n",
    "* SSE = 잔차제곱합(y-y_mean)  \n",
    "* r_square = SSR/SST = 1 - SSE/SST    \n",
    "\n",
    "\n",
    "결정 계수의 값이 0.0029다. 총제곱합의 99.7% 가 SSE이므로 연령과 임금의 관계를 잘 설명하지 못한다고 말할 수 있다. 직업, 성별 등의 혼동요인이 존재하므로 이들을 포함한 중회귀모델을 만들어야 한다."
   ]
  },
  {
   "cell_type": "code",
   "execution_count": 53,
   "metadata": {
    "ExecuteTime": {
     "end_time": "2019-06-15T05:53:24.932675Z",
     "start_time": "2019-06-15T05:53:24.927749Z"
    }
   },
   "outputs": [
    {
     "name": "stdout",
     "output_type": "stream",
     "text": [
      "0.002930656231125949\n",
      "0.002930656231125872\n"
     ]
    }
   ],
   "source": [
    "SST = np.sum((y - np.mean(y))**2)\n",
    "SSR = np.sum((y_pred - np.mean(y))**2)\n",
    "r_squared = SSR/SST\n",
    "print(r_squared)\n",
    "print(lm.score(x,y))"
   ]
  },
  {
   "cell_type": "markdown",
   "metadata": {
    "ExecuteTime": {
     "end_time": "2019-06-15T04:48:52.971019Z",
     "start_time": "2019-06-15T04:48:52.965067Z"
    }
   },
   "source": [
    "3. 다음 회귀식으로 연령별 임금 분포를 설명하라  \n",
    "\n",
    "`W = a + b*AGE + c*AGE^2 + u`  \n",
    "\n",
    "b = 0.069  \n",
    "c = -0.0076  \n",
    "a+u = -0.892  \n",
    "r_squared = 0.03\n",
    "\n",
    "회귀선이 포물선 형태로 변한다. 45-50세 구간에서 임금의 최댓값이 나타난다.\n"
   ]
  },
  {
   "cell_type": "code",
   "execution_count": 57,
   "metadata": {
    "ExecuteTime": {
     "end_time": "2019-06-15T05:53:45.053860Z",
     "start_time": "2019-06-15T05:53:45.046915Z"
    }
   },
   "outputs": [
    {
     "data": {
      "text/plain": [
       "LinearRegression(copy_X=True, fit_intercept=True, n_jobs=None,\n",
       "         normalize=False)"
      ]
     },
     "execution_count": 57,
     "metadata": {},
     "output_type": "execute_result"
    }
   ],
   "source": [
    "age = tmp_df['AGE1'].values.reshape(-1,1)\n",
    "age_squared = np.square(age).reshape(-1,1)\n",
    "x = np.hstack((age,age_squared))\n",
    "lm_2 = LinearRegression()\n",
    "lm_2.fit(x, y)"
   ]
  },
  {
   "cell_type": "code",
   "execution_count": 58,
   "metadata": {
    "ExecuteTime": {
     "end_time": "2019-06-15T05:53:45.222362Z",
     "start_time": "2019-06-15T05:53:45.216882Z"
    }
   },
   "outputs": [
    {
     "data": {
      "text/plain": [
       "0.030245302426600396"
      ]
     },
     "execution_count": 58,
     "metadata": {},
     "output_type": "execute_result"
    }
   ],
   "source": [
    "a = lm_2.coef_\n",
    "b = lm_2.intercept_\n",
    "mr_squared(lm_2, x, y)"
   ]
  },
  {
   "cell_type": "code",
   "execution_count": 59,
   "metadata": {
    "ExecuteTime": {
     "end_time": "2019-06-15T05:53:45.588467Z",
     "start_time": "2019-06-15T05:53:45.415821Z"
    }
   },
   "outputs": [
    {
     "data": {
      "image/png": "[encoded data removed]",
      "text/plain": [
       "<Figure size 864x360 with 1 Axes>"
      ]
     },
     "metadata": {
      "needs_background": "light"
     },
     "output_type": "display_data"
    }
   ],
   "source": [
    "plot_y(lm_2,age,y)"
   ]
  },
  {
   "cell_type": "markdown",
   "metadata": {},
   "source": [
    "3. 다음 회귀분석 모형을 이용해 성별이 임금에 미치는 영향을 분석하라  \n",
    "`w = a + b*AGE + c*AGE^2 + d*SEX + u`    \n",
    "    * r_squared : 0.033\n",
    "    * a = -0.7  \n",
    "    * b = 0.068\n",
    "    * c = -0.00074\n",
    "    * d = -0.16\n",
    "    \n",
    "여성이 남성에 비해 시간당 평균 865원을 덜 받는다."
   ]
  },
  {
   "cell_type": "code",
   "execution_count": 81,
   "metadata": {
    "ExecuteTime": {
     "end_time": "2019-06-15T06:00:10.294093Z",
     "start_time": "2019-06-15T06:00:10.287653Z"
    }
   },
   "outputs": [
    {
     "name": "stdout",
     "output_type": "stream",
     "text": [
      "0.03398849036370377 [[ 0.06772417 -0.00073    -0.16627702]] [-0.8659325]\n"
     ]
    }
   ],
   "source": [
    "sex = tmp_df['SEX1'].values\n",
    "sex = np.apply_along_axis(lambda x: x-1, 0, sex).reshape(-1,1)\n",
    "x = np.hstack((age, age_squared, sex))\n",
    "lm_3 = LinearRegression()\n",
    "lm_3.fit(x,y)\n",
    "r_squared = mr_squared(lm_3,x,y)\n",
    "coef = lm_3.coef_\n",
    "inter = lm_3.intercept_\n",
    "print(r_squared, coef, inter)"
   ]
  },
  {
   "cell_type": "code",
   "execution_count": null,
   "metadata": {},
   "outputs": [],
   "source": []
  }
 ],
 "metadata": {
  "kernelspec": {
   "display_name": "Python 3",
   "language": "python",
   "name": "python3"
  },
  "language_info": {
   "codemirror_mode": {
    "name": "ipython",
    "version": 3
   },
   "file_extension": ".py",
   "mimetype": "text/x-python",
   "name": "python",
   "nbconvert_exporter": "python",
   "pygments_lexer": "ipython3",
   "version": "3.7.0"
  },
  "toc": {
   "base_numbering": 1,
   "nav_menu": {},
   "number_sections": true,
   "sideBar": true,
   "skip_h1_title": true,
   "title_cell": "Table of Contents",
   "title_sidebar": "Contents",
   "toc_cell": false,
   "toc_position": {},
   "toc_section_display": true,
   "toc_window_display": false
  },
  "varInspector": {
   "cols": {
    "lenName": 16,
    "lenType": 16,
    "lenVar": 40
   },
   "kernels_config": {
    "python": {
     "delete_cmd_postfix": "",
     "delete_cmd_prefix": "del ",
     "library": "var_list.py",
     "varRefreshCmd": "print(var_dic_list())"
    },
    "r": {
     "delete_cmd_postfix": ") ",
     "delete_cmd_prefix": "rm(",
     "library": "var_list.r",
     "varRefreshCmd": "cat(var_dic_list()) "
    }
   },
   "types_to_exclude": [
    "module",
    "function",
    "builtin_function_or_method",
    "instance",
    "_Feature"
   ],
   "window_display": false
  }
 },
 "nbformat": 4,
 "nbformat_minor": 2
}
