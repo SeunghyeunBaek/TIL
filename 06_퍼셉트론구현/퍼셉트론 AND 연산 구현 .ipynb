{
 "cells": [
  {
   "cell_type": "markdown",
   "metadata": {
    "toc": true
   },
   "source": [
    "<h1>Table of Contents<span class=\"tocSkip\"></span></h1>\n",
    "<div class=\"toc\"><ul class=\"toc-item\"></ul></div>"
   ]
  },
  {
   "cell_type": "code",
   "execution_count": 1,
   "metadata": {
    "ExecuteTime": {
     "end_time": "2019-04-05T07:22:53.748997Z",
     "start_time": "2019-04-05T07:22:53.744054Z"
    }
   },
   "outputs": [],
   "source": [
    "import numpy as np"
   ]
  },
  {
   "cell_type": "code",
   "execution_count": 133,
   "metadata": {
    "ExecuteTime": {
     "end_time": "2019-04-05T08:13:11.374681Z",
     "start_time": "2019-04-05T08:13:11.365403Z"
    }
   },
   "outputs": [],
   "source": [
    "class Perceptron:\n",
    "    # 생성자 함수\n",
    "    # thresholds = 임계값, eta = 학습률, n_iter = 최대 학습 횟수\n",
    "    def __init__(self,thresholds = 0.0, eta = 0.1, n_iter = 10):\n",
    "        self.thresholds = thresholds\n",
    "        self.eta = eta\n",
    "        self.n_iter = n_iter\n",
    "    \n",
    "    # 학습함수\n",
    "    def fit(self,x,y): \n",
    "        # 가중치, 입력데이터의 feature 수 + 1\n",
    "        self.w_ = np.zeros(1+x.shape[1])\n",
    "        \n",
    "        # 학습 횟수만큼 반복\n",
    "        for _ in range(self.n_iter):\n",
    "            # 입력데이터의 row수 만큼 반복\n",
    "            a1_list= []\n",
    "            for idx in range(x.shape[0]):\n",
    "                x_sub, y_sub = x[idx], y[idx]\n",
    "                # 예측결과 계산\n",
    "                a1 = self.predict(x_sub)\n",
    "                a1_list.append(a1)\n",
    "                \n",
    "                # 예측 결과와 실제결과가 다르면 가중치를 업데이트한다.\n",
    "                if y_sub != a1:\n",
    "                    update = self.eta*(y_sub-a1)\n",
    "                    self.w_[1:]+= update*x_sub\n",
    "                    self.w_[0] += update\n",
    "            \n",
    "            print(f'iter : {_+1}/{self.n_iter} \\nweights : {self.w_}')\n",
    "            print(f'y_pred : {a1_list}')\n",
    "            print(f'y_true : {y}')\n",
    "            print(\"=\"*30)\n",
    "\n",
    "\n",
    "    # 예측 결과를 계산하는 함수\n",
    "    def predict(self,x): \n",
    "        # 각 자리의 값과 가중치를 곱한 총합\n",
    "        a1 =np.dot(x, self.w_[1:])+self.w_[0]\n",
    "        # 임계값과 비교해 1이나 -1을 만든다.\n",
    "        a2 = np.where(a1>self.thresholds, 1, -1)\n",
    "        return a2"
   ]
  },
  {
   "cell_type": "code",
   "execution_count": 134,
   "metadata": {
    "ExecuteTime": {
     "end_time": "2019-04-05T08:13:11.754727Z",
     "start_time": "2019-04-05T08:13:11.750959Z"
    }
   },
   "outputs": [],
   "source": [
    "# 입력데이터\n",
    "x = np.array([[0,0],[0,1],[1,0],[1,1]])\n",
    "y = np.array([-1,-1,-1,1])"
   ]
  },
  {
   "cell_type": "code",
   "execution_count": 135,
   "metadata": {
    "ExecuteTime": {
     "end_time": "2019-04-05T08:13:12.241147Z",
     "start_time": "2019-04-05T08:13:12.229120Z"
    },
    "scrolled": true
   },
   "outputs": [
    {
     "name": "stdout",
     "output_type": "stream",
     "text": [
      "iter : 1/10 \n",
      "weights : [0.2 0.2 0.2]\n",
      "y_pred : [array(-1), array(-1), array(-1), array(-1)]\n",
      "y_true : [-1 -1 -1  1]\n",
      "==============================\n",
      "iter : 2/10 \n",
      "weights : [0.  0.4 0.2]\n",
      "y_pred : [array(1), array(1), array(-1), array(-1)]\n",
      "y_true : [-1 -1 -1  1]\n",
      "==============================\n",
      "iter : 3/10 \n",
      "weights : [-0.2  0.4  0.2]\n",
      "y_pred : [array(-1), array(1), array(1), array(-1)]\n",
      "y_true : [-1 -1 -1  1]\n",
      "==============================\n",
      "iter : 4/10 \n",
      "weights : [-0.2  0.4  0.4]\n",
      "y_pred : [array(-1), array(-1), array(1), array(-1)]\n",
      "y_true : [-1 -1 -1  1]\n",
      "==============================\n",
      "iter : 5/10 \n",
      "weights : [-0.4  0.4  0.2]\n",
      "y_pred : [array(-1), array(1), array(-1), array(1)]\n",
      "y_true : [-1 -1 -1  1]\n",
      "==============================\n",
      "iter : 6/10 \n",
      "weights : [-0.4  0.4  0.2]\n",
      "y_pred : [array(-1), array(-1), array(-1), array(1)]\n",
      "y_true : [-1 -1 -1  1]\n",
      "==============================\n",
      "iter : 7/10 \n",
      "weights : [-0.4  0.4  0.2]\n",
      "y_pred : [array(-1), array(-1), array(-1), array(1)]\n",
      "y_true : [-1 -1 -1  1]\n",
      "==============================\n",
      "iter : 8/10 \n",
      "weights : [-0.4  0.4  0.2]\n",
      "y_pred : [array(-1), array(-1), array(-1), array(1)]\n",
      "y_true : [-1 -1 -1  1]\n",
      "==============================\n",
      "iter : 9/10 \n",
      "weights : [-0.4  0.4  0.2]\n",
      "y_pred : [array(-1), array(-1), array(-1), array(1)]\n",
      "y_true : [-1 -1 -1  1]\n",
      "==============================\n",
      "iter : 10/10 \n",
      "weights : [-0.4  0.4  0.2]\n",
      "y_pred : [array(-1), array(-1), array(-1), array(1)]\n",
      "y_true : [-1 -1 -1  1]\n",
      "==============================\n"
     ]
    }
   ],
   "source": [
    "# 모델객체 생성\n",
    "model = Perceptron()\n",
    "model.fit(x,y)"
   ]
  },
  {
   "cell_type": "code",
   "execution_count": 67,
   "metadata": {
    "ExecuteTime": {
     "end_time": "2019-04-05T08:04:03.359313Z",
     "start_time": "2019-04-05T08:04:03.352909Z"
    }
   },
   "outputs": [
    {
     "data": {
      "text/plain": [
       "array([4, 6])"
      ]
     },
     "execution_count": 67,
     "metadata": {},
     "output_type": "execute_result"
    }
   ],
   "source": [
    "np.array([3,4])+np.array([1,2])"
   ]
  },
  {
   "cell_type": "code",
   "execution_count": 31,
   "metadata": {
    "ExecuteTime": {
     "end_time": "2019-04-05T08:00:02.884032Z",
     "start_time": "2019-04-05T08:00:02.878870Z"
    }
   },
   "outputs": [
    {
     "data": {
      "text/plain": [
       "[1, 2, 3, 4]"
      ]
     },
     "execution_count": 31,
     "metadata": {},
     "output_type": "execute_result"
    }
   ],
   "source": [
    "[1,2]+[3,4]"
   ]
  },
  {
   "cell_type": "code",
   "execution_count": null,
   "metadata": {},
   "outputs": [],
   "source": []
  }
 ],
 "metadata": {
  "kernelspec": {
   "display_name": "Python 3",
   "language": "python",
   "name": "python3"
  },
  "language_info": {
   "codemirror_mode": {
    "name": "ipython",
    "version": 3
   },
   "file_extension": ".py",
   "mimetype": "text/x-python",
   "name": "python",
   "nbconvert_exporter": "python",
   "pygments_lexer": "ipython3",
   "version": "3.7.0"
  },
  "toc": {
   "base_numbering": 1,
   "nav_menu": {},
   "number_sections": true,
   "sideBar": true,
   "skip_h1_title": true,
   "title_cell": "Table of Contents",
   "title_sidebar": "Contents",
   "toc_cell": true,
   "toc_position": {},
   "toc_section_display": true,
   "toc_window_display": true
  },
  "varInspector": {
   "cols": {
    "lenName": 16,
    "lenType": 16,
    "lenVar": 40
   },
   "kernels_config": {
    "python": {
     "delete_cmd_postfix": "",
     "delete_cmd_prefix": "del ",
     "library": "var_list.py",
     "varRefreshCmd": "print(var_dic_list())"
    },
    "r": {
     "delete_cmd_postfix": ") ",
     "delete_cmd_prefix": "rm(",
     "library": "var_list.r",
     "varRefreshCmd": "cat(var_dic_list()) "
    }
   },
   "types_to_exclude": [
    "module",
    "function",
    "builtin_function_or_method",
    "instance",
    "_Feature"
   ],
   "window_display": false
  }
 },
 "nbformat": 4,
 "nbformat_minor": 2
}
